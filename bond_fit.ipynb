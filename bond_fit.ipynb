{
 "cells": [
  {
   "cell_type": "code",
   "execution_count": 1,
   "id": "af98f528-fb9d-4b2b-a845-300febe8ff11",
   "metadata": {},
   "outputs": [],
   "source": [
    "using FileIO\n",
    "using SFRM\n",
    "using Glob\n",
    "using Dates\n",
    "using JamesCore\n",
    "using Setfield\n",
    "import Images\n",
    "import ImageShow\n",
    "using Unitful, UnitfulEquivalences\n",
    "using LinearAlgebra\n",
    "using StaticArrays\n",
    "using GeometryBasics\n",
    "using Statistics\n",
    "using BenchmarkTools\n",
    "using LeastSquaresOptim\n",
    "using DataFrames\n",
    "using XLSX"
   ]
  },
  {
   "cell_type": "code",
   "execution_count": 2,
   "id": "e10caa38-669b-4f77-b1c9-55bee13399a1",
   "metadata": {
    "editable": true,
    "slideshow": {
     "slide_type": ""
    },
    "tags": []
   },
   "outputs": [
    {
     "data": {
      "text/plain": [
       "\"YEu_AM-17-22\""
      ]
     },
     "execution_count": 2,
     "metadata": {},
     "output_type": "execute_result"
    }
   ],
   "source": [
    "name = \"YEu_AM-17-22\""
   ]
  },
  {
   "cell_type": "code",
   "execution_count": 3,
   "id": "fcd068d7-db14-40a5-9132-fdb905410fd3",
   "metadata": {},
   "outputs": [
    {
     "data": {
      "text/plain": [
       "2-element Vector{Tuple{DateTime, Array, String}}:\n",
       " (DateTime(\"2025-06-14T16:41:45\"), [[-0.6841047476598854 -0.7376222665467596 0.605657378838292; -0.7355145351733952 0.8823224019704305 0.24378745132051555; -0.6082152968361674 -0.23733381342525076 -0.9760397514599959], [-0.24304249226422966 1.1336165137803438 0.1518361575502725; 0.8062353079359903 0.2799084373647313 -0.7992785297650636; -0.8112491793269495 -0.06144218590207944 -0.8398272890974053]], \"20250614_YEu_AM-17-22.p4p\")\n",
       " (DateTime(\"2025-06-15T09:56:45\"), [-0.13571674874041498 -1.1405045179163995 0.22747524708209438; 0.8062405896628435 -0.25732063653999543 -0.8091209905608435; 0.8381358098734407 0.06284993224729762 0.8151642779545539], \"20250615_YEu_AM-17-22.p4p\")"
      ]
     },
     "execution_count": 3,
     "metadata": {},
     "output_type": "execute_result"
    }
   ],
   "source": [
    "ort_coeff = ustrip(uconvert(u\"keV\", 1.0u\"Å^-1\", Spectral()))\n",
    "orients = map(glob(\"D:/p4p/*$(name)*.p4p\")) do file\n",
    "    p4p = load(file)\n",
    "    p4p[\"FILEID\"][4], p4p[\"ORT\"] * ort_coeff, basename(file)\n",
    "end\n",
    "sort!(unique!(orients), by = first)"
   ]
  },
  {
   "cell_type": "code",
   "execution_count": 4,
   "id": "6e13e1ed-d841-40d7-b1e5-602ecce93a8e",
   "metadata": {
    "scrolled": true
   },
   "outputs": [
    {
     "data": {
      "text/plain": [
       "6-element Vector{Any}:\n",
       " SiemensFrame(Int32[5 506 … 0 0; 91 193 … 0 344; … ; 0 0 … 82 0; 538 590 … 0 263], Dict{String, Any}(\"CORRECT\" => \"INTERNAL, s/n: A112169 Done inside firmware\", \"HDRBLKS\" => 15, \"PHD\" => [0.99, 0.051], \"DARK\" => \"INTERNAL, s/n: A112169 Done inside firmware\", \"TARGET\" => \"Cu\", \"CELL\" => [1.0, 1.0, 1.0, 90.0, 90.0, 90.0], \"AXES2\" => [0.0, 0.0, 0.0, 0.0], \"INCREME\" => 4.0, \"VERSION\" => 18, \"NCOLS\" => [768, 1]…))\n",
       " SiemensFrame(Int32[0 465 … 47 0; 26 163 … 0 265; … ; 0 22 … 52 0; 546 482 … 0 268], Dict{String, Any}(\"CORRECT\" => \"INTERNAL, s/n: A112169 Done inside firmware\", \"HDRBLKS\" => 15, \"PHD\" => [0.99, 0.051], \"DARK\" => \"INTERNAL, s/n: A112169 Done inside firmware\", \"TARGET\" => \"Cu\", \"CELL\" => [1.0, 1.0, 1.0, 90.0, 90.0, 90.0], \"AXES2\" => [0.0, 0.0, 0.0, 0.0], \"INCREME\" => 4.0, \"VERSION\" => 18, \"NCOLS\" => [768, 1]…))\n",
       " SiemensFrame(Int32[0 466 … 59 0; 69 155 … 0 402; … ; 0 0 … 24 0; 531 571 … 0 153], Dict{String, Any}(\"CORRECT\" => \"INTERNAL, s/n: A112169 Done inside firmware\", \"HDRBLKS\" => 15, \"PHD\" => [0.99, 0.051], \"DARK\" => \"INTERNAL, s/n: A112169 Done inside firmware\", \"TARGET\" => \"Cu\", \"CELL\" => [1.0, 1.0, 1.0, 90.0, 90.0, 90.0], \"AXES2\" => [0.0, 0.0, 0.0, 0.0], \"INCREME\" => 4.0, \"VERSION\" => 18, \"NCOLS\" => [768, 1]…))\n",
       " SiemensFrame(Int32[0 506 … 0 0; 34 107 … 0 373; … ; 0 0 … 71 0; 470 384 … 0 228], Dict{String, Any}(\"CORRECT\" => \"INTERNAL, s/n: A112169 Done inside firmware\", \"HDRBLKS\" => 15, \"PHD\" => [0.99, 0.051], \"DARK\" => \"INTERNAL, s/n: A112169 Done inside firmware\", \"TARGET\" => \"Cu\", \"CELL\" => [1.0, 1.0, 1.0, 90.0, 90.0, 90.0], \"AXES2\" => [0.0, 0.0, 0.0, 0.0], \"INCREME\" => 4.0, \"VERSION\" => 18, \"NCOLS\" => [768, 1]…))\n",
       " SiemensFrame(Int32[0 482 … 15 0; 8 260 … 0 342; … ; 0 15 … 45 0; 582 572 … 0 194], Dict{String, Any}(\"CORRECT\" => \"INTERNAL, s/n: A112169 Done inside firmware\", \"HDRBLKS\" => 15, \"PHD\" => [0.99, 0.051], \"DARK\" => \"INTERNAL, s/n: A112169 Done inside firmware\", \"TARGET\" => \"Cu\", \"CELL\" => [1.0, 1.0, 1.0, 90.0, 90.0, 90.0], \"AXES2\" => [0.0, 0.0, 0.0, 0.0], \"INCREME\" => 4.0, \"VERSION\" => 18, \"NCOLS\" => [768, 1]…))\n",
       " SiemensFrame(Int32[0 398 … 0 0; 108 241 … 0 319; … ; 0 0 … 47 0; 656 364 … 0 218], Dict{String, Any}(\"CORRECT\" => \"INTERNAL, s/n: A112169 Done inside firmware\", \"HDRBLKS\" => 15, \"PHD\" => [0.99, 0.051], \"DARK\" => \"INTERNAL, s/n: A112169 Done inside firmware\", \"TARGET\" => \"Cu\", \"CELL\" => [1.0, 1.0, 1.0, 90.0, 90.0, 90.0], \"AXES2\" => [0.0, 0.0, 0.0, 0.0], \"INCREME\" => 4.0, \"VERSION\" => 18, \"NCOLS\" => [768, 1]…))"
      ]
     },
     "execution_count": 4,
     "metadata": {},
     "output_type": "execute_result"
    }
   ],
   "source": [
    "frames = []\n",
    "frame = nothing\n",
    "files = glob(\"D:/sfrm/$(name)/cu_*.sfrm\")\n",
    "sort!(files, by = mtime)\n",
    "for file in files\n",
    "    sfrm = try load(file)\n",
    "    catch\n",
    "        println(\"cant load \", file)\n",
    "        continue\n",
    "    end\n",
    "    if sfrm.time < 300 || sfrm.target != \"Cu\"\n",
    "        continue\n",
    "    end\n",
    "    sfrm.image[sfrm.image .> 100_000] .= median(sfrm.image)\n",
    "    if isnothing(frame)\n",
    "        frame = sfrm\n",
    "        continue\n",
    "    end\n",
    "    if frame.angles == sfrm.angles\n",
    "        frame.time += sfrm.time\n",
    "        frame.image[:] += sfrm.image[:]\n",
    "    else\n",
    "        push!(frames, frame)\n",
    "        frame = sfrm\n",
    "    end\n",
    "end\n",
    "if isempty(frames) || last(frames) != frame\n",
    "    push!(frames, frame)\n",
    "end\n",
    "frames"
   ]
  },
  {
   "cell_type": "code",
   "execution_count": 5,
   "id": "47627f65-548e-49d7-b25b-fbf692ca20e6",
   "metadata": {},
   "outputs": [
    {
     "data": {
      "text/plain": [
       "mean_angles (generic function with 1 method)"
      ]
     },
     "execution_count": 5,
     "metadata": {},
     "output_type": "execute_result"
    }
   ],
   "source": [
    "function mean_angles(frame)\n",
    "    angles = copy(frame.angles)\n",
    "    angles[frame.axis] += frame.increment / 2\n",
    "    Tuple(deg2rad.(angles))\n",
    "end"
   ]
  },
  {
   "cell_type": "code",
   "execution_count": 6,
   "id": "c1392fe2-1e0d-491e-873c-907c8fe5c430",
   "metadata": {},
   "outputs": [
    {
     "data": {
      "text/plain": [
       "XRay (generic function with 1 method)"
      ]
     },
     "execution_count": 6,
     "metadata": {},
     "output_type": "execute_result"
    }
   ],
   "source": [
    "λ_MoKα1 = 0.70931715u\"Å\"\n",
    "λ_MoKα2 = 0.713607u\"Å\"\n",
    "λ_CuKα1 = 1.5405929u\"Å\"\n",
    "λ_CuKα2 = 1.5444274u\"Å\"\n",
    "XRay(λ::Unitful.Length) = JamesCore.XRay(ustrip(uconvert(u\"keV\", λ, Spectral())), 0, 0)"
   ]
  },
  {
   "cell_type": "code",
   "execution_count": 7,
   "id": "16b07c9d-3590-4092-81ec-a422845dcd11",
   "metadata": {},
   "outputs": [
    {
     "data": {
      "text/plain": [
       "center_hkl (generic function with 1 method)"
      ]
     },
     "execution_count": 7,
     "metadata": {},
     "output_type": "execute_result"
    }
   ],
   "source": [
    "function center_hkl(frame, crystal;\n",
    "        center = Vec2d(387, 505),\n",
    "        px = 0.1353,\n",
    "        detector = Detector([0, -px, 0], [0, 0, px], [10frame.distance, center[1] * px, -center[2] * px]),\n",
    "        phi_axis = RotAxis(0, 0, -1),\n",
    "        chi_axis = RotAxis(-1, 0, 0),\n",
    "        omega_axis = RotAxis(0, 0, 1),\n",
    "        tth_axis = RotAxis(0, 0, 1)\n",
    ")\n",
    "    @assert frame.axis == 2\n",
    "    tth, omega, phi, chi = mean_angles(frame)\n",
    "    crystal = omega_axis(omega) * chi_axis(chi) * phi_axis(phi) * crystal\n",
    "    detector = tth_axis(tth) * detector\n",
    "    xray = XRay(λ_CuKα1)\n",
    "    _, coord = findmax(frame.image[495:515, :])\n",
    "    p = detector(coord[2], 505)\n",
    "    n = normalize(p - crystal.p)\n",
    "    q = norm(xray.k) * n - xray.k\n",
    "    crystal.UB \\ q .|> round .|> Int\n",
    "end"
   ]
  },
  {
   "cell_type": "code",
   "execution_count": 8,
   "id": "3957dae8-a0f3-49cf-825c-b050c882ec60",
   "metadata": {},
   "outputs": [
    {
     "data": {
      "text/plain": [
       "peak_coords (generic function with 1 method)"
      ]
     },
     "execution_count": 8,
     "metadata": {},
     "output_type": "execute_result"
    }
   ],
   "source": [
    "function peak_coords(frame, crystal;\n",
    "        hkl = center_hkl(frame, crystal),\n",
    "        center = Vec2d(387, 505),\n",
    "        px = 0.1353,\n",
    "        detector = Detector([0, -px, 0], [0, 0, px], [10frame.distance, center[1] * px, -center[2] * px]),\n",
    "        phi_axis = RotAxis(0, 0, -1),\n",
    "        chi_axis = RotAxis(-1, 0, 0),\n",
    "        omega_axis = RotAxis(0, 0, 1),\n",
    "        tth_axis = RotAxis(0, 0, 1)\n",
    ")\n",
    "    @assert frame.axis == 2\n",
    "    tth, omega, phi, chi = mean_angles(frame)\n",
    "    crystal_scan = chi_axis(chi) * phi_axis(phi) * crystal\n",
    "    detector = tth_axis(tth) * detector\n",
    "    map([λ_CuKα1, λ_CuKα2]) do λ\n",
    "        q = crystal_scan.UB * hkl\n",
    "        xray = XRay(λ)\n",
    "        true_omegas = cone_angles(omega_axis, q => xray.k, pi/2 + asin(hypot(q...) / 2hypot(xray.k...)))\n",
    "        true_omega_n = findmin(true_omegas) do true_omega\n",
    "            abs(rem2pi(true_omega - omega, RoundNearest))\n",
    "        end |> last\n",
    "        true_omega = true_omegas[true_omega_n]\n",
    "        crystal = omega_axis(true_omega) * crystal_scan\n",
    "        q = crystal.UB * hkl\n",
    "        scat = JamesCore.XRay(xray.k + q, crystal.p)\n",
    "        x, y = intersect_coord(detector, scat)\n",
    "        Vec2d(x, y)\n",
    "    end |> Tuple\n",
    "end"
   ]
  },
  {
   "cell_type": "code",
   "execution_count": 9,
   "id": "75558168-fcf0-4975-876f-0ed913ca5188",
   "metadata": {},
   "outputs": [
    {
     "data": {
      "text/plain": [
       "box_approx (generic function with 1 method)"
      ]
     },
     "execution_count": 9,
     "metadata": {},
     "output_type": "execute_result"
    }
   ],
   "source": [
    "function box_approx(frame, crystal;\n",
    "    coords = peak_coords(frame, crystal),\n",
    "    scale = [6, 3],\n",
    "    weights = [2, 1]\n",
    ")\n",
    "    c = sum(coords .* weights) / sum(weights) .|> round .|> Int\n",
    "    w = scale * norm(coords[1] - coords[2]) .|> round .|> Int\n",
    "    x1, y1 = c - w\n",
    "    x2, y2 = c + w\n",
    "    CartesianIndex(y1, x1):CartesianIndex(y2, x2)\n",
    "end"
   ]
  },
  {
   "cell_type": "code",
   "execution_count": 10,
   "id": "cd8ef17d-809b-4d34-a636-cfc26b486781",
   "metadata": {},
   "outputs": [
    {
     "data": {
      "text/plain": [
       "param_approx (generic function with 1 method)"
      ]
     },
     "execution_count": 10,
     "metadata": {},
     "output_type": "execute_result"
    }
   ],
   "source": [
    "function param_approx(frame, crystal;\n",
    "    box = box_approx(frame, crystal),\n",
    "    coords = peak_coords(frame, crystal),\n",
    "    σ = 1\n",
    ")\n",
    "    max_I, max_n = findmax(frame.image[box])\n",
    "    peak1 = Vec2d(reverse(Tuple(max_n + box[begin] - CartesianIndex(1, 1))))\n",
    "    peak2 = peak1 + coords[2] - coords[1]\n",
    "    Float64[median(frame.image), max_I, peak1..., σ, σ, max_I/2, peak2..., σ, σ]\n",
    "end"
   ]
  },
  {
   "cell_type": "code",
   "execution_count": 11,
   "id": "de701362-ee78-4596-a6a9-b2f50bcf3b60",
   "metadata": {},
   "outputs": [
    {
     "data": {
      "text/plain": [
       "param_approx_restrict (generic function with 1 method)"
      ]
     },
     "execution_count": 11,
     "metadata": {},
     "output_type": "execute_result"
    }
   ],
   "source": [
    "function param_approx_restrict(frame, crystal;\n",
    "    box = box_approx(frame, crystal),\n",
    "    coords = peak_coords(frame, crystal),\n",
    "    σ = 1\n",
    ")\n",
    "    max_I, max_n = findmax(frame.image[box])\n",
    "    peak1 = Vec2d(reverse(Tuple(max_n + box[begin] - CartesianIndex(1, 1))))\n",
    "    peak2 = peak1 + coords[2] - coords[1]\n",
    "    Float64[median(frame.image), max_I, peak1..., peak2..., σ, σ]\n",
    "end"
   ]
  },
  {
   "cell_type": "code",
   "execution_count": 12,
   "id": "df0f5869-3db0-46a1-9120-7c6e58febfec",
   "metadata": {},
   "outputs": [
    {
     "data": {
      "text/plain": [
       "gauss2d (generic function with 1 method)"
      ]
     },
     "execution_count": 12,
     "metadata": {},
     "output_type": "execute_result"
    }
   ],
   "source": [
    "function gauss2d((y, x), (A0, A1, x1, y1, dx1, dy1, A2, x2, y2, dx2, dy2))\n",
    "    A0 + A1 * exp(-((x-x1)/dx1)^2/2 -((y-y1)/dy1)^2/2) + A2 * exp(-((x-x2)/dx2)^2/2 -((y-y2)/dy2)^2/2)\n",
    "end"
   ]
  },
  {
   "cell_type": "code",
   "execution_count": 13,
   "id": "fcf3eb27-d5a3-487e-bff9-a1b607b39ffe",
   "metadata": {},
   "outputs": [
    {
     "data": {
      "text/plain": [
       "gauss2d_restrict (generic function with 1 method)"
      ]
     },
     "execution_count": 13,
     "metadata": {},
     "output_type": "execute_result"
    }
   ],
   "source": [
    "function gauss2d_restrict((y, x), (A0, A1, x1, y1, x2, y2, dx, dy))\n",
    "    A0 + A1 * (exp(-((x-x1)/dx)^2/2 -((y-y1)/dy)^2/2) + 0.5 * exp(-((x-x2)/dx)^2/2 -((y-y2)/dy)^2/2))\n",
    "end"
   ]
  },
  {
   "cell_type": "code",
   "execution_count": 14,
   "id": "b3a65901-f054-414f-aba5-def52b0f079a",
   "metadata": {},
   "outputs": [
    {
     "data": {
      "text/plain": [
       "param_refine (generic function with 1 method)"
      ]
     },
     "execution_count": 14,
     "metadata": {},
     "output_type": "execute_result"
    }
   ],
   "source": [
    "function param_refine(frame, crystal;\n",
    "        p0 = param_approx(frame, crystal),\n",
    "        box = box_approx(frame, crystal)\n",
    ")\n",
    "    resid(p) = begin\n",
    "        map(box) do I\n",
    "            gauss2d(I.I, p) - frame.image[I]\n",
    "        end\n",
    "    end\n",
    "    optimize(resid, p0, LevenbergMarquardt()).minimizer\n",
    "end"
   ]
  },
  {
   "cell_type": "code",
   "execution_count": null,
   "id": "2109fb92-1ed9-4810-8d50-cafe0d9c60ea",
   "metadata": {},
   "outputs": [],
   "source": [
    "crystal = SingleCrystal(orients[1][2])\n",
    "frame = frames[1]\n",
    "display(frame)\n",
    "display(center_hkl(frame, crystal))\n",
    "display(peak_coords(frame, crystal))\n",
    "display(param_refine(frame, crystal))\n",
    "Images.Gray.(reverse(frame.image, dims=1) / 1e3)"
   ]
  },
  {
   "cell_type": "code",
   "execution_count": 15,
   "id": "f61414ed-31fc-4443-bf14-343ac29b120b",
   "metadata": {},
   "outputs": [
    {
     "data": {
      "text/html": [
       "<div><div style = \"float: left;\"><span>6×26 DataFrame</span></div><div style = \"clear: both;\"></div></div><div class = \"data-frame\" style = \"overflow-x: scroll;\"><table class = \"data-frame\" style = \"margin-bottom: 6px;\"><thead><tr class = \"header\"><th class = \"rowNumber\" style = \"font-weight: bold; text-align: right;\">Row</th><th style = \"text-align: left;\">nframe</th><th style = \"text-align: left;\">frame</th><th style = \"text-align: left;\">norient</th><th style = \"text-align: left;\">orient</th><th style = \"text-align: left;\">created</th><th style = \"text-align: left;\">distance</th><th style = \"text-align: left;\">tthD</th><th style = \"text-align: left;\">omega</th><th style = \"text-align: left;\">phi</th><th style = \"text-align: left;\">inc</th><th style = \"text-align: left;\">time</th><th style = \"text-align: left;\">h</th><th style = \"text-align: left;\">k</th><th style = \"text-align: left;\">l</th><th style = \"text-align: left;\">x1</th><th style = \"text-align: left;\">y1</th><th style = \"text-align: left;\">x2</th><th style = \"text-align: left;\">y2</th><th style = \"text-align: left;\">Imax</th><th style = \"text-align: left;\">bg</th><th style = \"text-align: left;\">A1</th><th style = \"text-align: left;\">σx1</th><th style = \"text-align: left;\">σy1</th><th style = \"text-align: left;\">A2</th><th style = \"text-align: left;\">σx2</th><th style = \"text-align: left;\">σy2</th></tr><tr class = \"subheader headerLastRow\"><th class = \"rowNumber\" style = \"font-weight: bold; text-align: right;\"></th><th title = \"Int64\" style = \"text-align: left;\">Int64</th><th title = \"String\" style = \"text-align: left;\">String</th><th title = \"Int64\" style = \"text-align: left;\">Int64</th><th title = \"String\" style = \"text-align: left;\">String</th><th title = \"DateTime\" style = \"text-align: left;\">DateTime</th><th title = \"Float64\" style = \"text-align: left;\">Float64</th><th title = \"Float64\" style = \"text-align: left;\">Float64</th><th title = \"Float64\" style = \"text-align: left;\">Float64</th><th title = \"Float64\" style = \"text-align: left;\">Float64</th><th title = \"Float64\" style = \"text-align: left;\">Float64</th><th title = \"Float64\" style = \"text-align: left;\">Float64</th><th title = \"Int64\" style = \"text-align: left;\">Int64</th><th title = \"Int64\" style = \"text-align: left;\">Int64</th><th title = \"Int64\" style = \"text-align: left;\">Int64</th><th title = \"Float64\" style = \"text-align: left;\">Float64</th><th title = \"Float64\" style = \"text-align: left;\">Float64</th><th title = \"Float64\" style = \"text-align: left;\">Float64</th><th title = \"Float64\" style = \"text-align: left;\">Float64</th><th title = \"Int32\" style = \"text-align: left;\">Int32</th><th title = \"Float64\" style = \"text-align: left;\">Float64</th><th title = \"Float64\" style = \"text-align: left;\">Float64</th><th title = \"Float64\" style = \"text-align: left;\">Float64</th><th title = \"Float64\" style = \"text-align: left;\">Float64</th><th title = \"Float64\" style = \"text-align: left;\">Float64</th><th title = \"Float64\" style = \"text-align: left;\">Float64</th><th title = \"Float64\" style = \"text-align: left;\">Float64</th></tr></thead><tbody><tr><td class = \"rowNumber\" style = \"font-weight: bold; text-align: right;\">1</td><td style = \"text-align: right;\">1</td><td style = \"text-align: left;\">cu_YEu_AM-17-22_6m84_96f_M80_OmSc4_600s_01_0001.sfrm</td><td style = \"text-align: right;\">2</td><td style = \"text-align: left;\">20250615_YEu_AM-17-22.p4p</td><td style = \"text-align: left;\">2025-06-15T10:33:26</td><td style = \"text-align: right;\">96.3</td><td style = \"text-align: right;\">-80.0</td><td style = \"text-align: right;\">-94.0</td><td style = \"text-align: right;\">-124.6</td><td style = \"text-align: right;\">4.0</td><td style = \"text-align: right;\">600.0</td><td style = \"text-align: right;\">-6</td><td style = \"text-align: right;\">8</td><td style = \"text-align: right;\">-4</td><td style = \"text-align: right;\">681.643</td><td style = \"text-align: right;\">507.729</td><td style = \"text-align: right;\">687.063</td><td style = \"text-align: right;\">507.724</td><td style = \"text-align: right;\">10331</td><td style = \"text-align: right;\">158.361</td><td style = \"text-align: right;\">10508.2</td><td style = \"text-align: right;\">1.29994</td><td style = \"text-align: right;\">1.00961</td><td style = \"text-align: right;\">5723.79</td><td style = \"text-align: right;\">1.28722</td><td style = \"text-align: right;\">0.965597</td></tr><tr><td class = \"rowNumber\" style = \"font-weight: bold; text-align: right;\">2</td><td style = \"text-align: right;\">2</td><td style = \"text-align: left;\">cu_YEu_AM-17-22_6m84_96f_M80_OmSc4_600s_02_0001.sfrm</td><td style = \"text-align: right;\">2</td><td style = \"text-align: left;\">20250615_YEu_AM-17-22.p4p</td><td style = \"text-align: left;\">2025-06-15T10:44:06</td><td style = \"text-align: right;\">96.3</td><td style = \"text-align: right;\">-80.0</td><td style = \"text-align: right;\">86.0</td><td style = \"text-align: right;\">-124.6</td><td style = \"text-align: right;\">4.0</td><td style = \"text-align: right;\">600.0</td><td style = \"text-align: right;\">6</td><td style = \"text-align: right;\">-8</td><td style = \"text-align: right;\">4</td><td style = \"text-align: right;\">681.411</td><td style = \"text-align: right;\">499.493</td><td style = \"text-align: right;\">686.746</td><td style = \"text-align: right;\">499.451</td><td style = \"text-align: right;\">15364</td><td style = \"text-align: right;\">176.337</td><td style = \"text-align: right;\">17939.2</td><td style = \"text-align: right;\">1.34265</td><td style = \"text-align: right;\">1.09274</td><td style = \"text-align: right;\">9276.94</td><td style = \"text-align: right;\">1.34541</td><td style = \"text-align: right;\">1.05589</td></tr><tr><td class = \"rowNumber\" style = \"font-weight: bold; text-align: right;\">3</td><td style = \"text-align: right;\">3</td><td style = \"text-align: left;\">cu_YEu_AM-17-22_6m84_96f_M80_OmSc4_600s_03_0001.sfrm</td><td style = \"text-align: right;\">2</td><td style = \"text-align: left;\">20250615_YEu_AM-17-22.p4p</td><td style = \"text-align: left;\">2025-06-15T10:56:59</td><td style = \"text-align: right;\">96.3</td><td style = \"text-align: right;\">-79.9</td><td style = \"text-align: right;\">86.0</td><td style = \"text-align: right;\">-124.6</td><td style = \"text-align: right;\">4.0</td><td style = \"text-align: right;\">600.0</td><td style = \"text-align: right;\">6</td><td style = \"text-align: right;\">-8</td><td style = \"text-align: right;\">4</td><td style = \"text-align: right;\">682.828</td><td style = \"text-align: right;\">499.439</td><td style = \"text-align: right;\">688.215</td><td style = \"text-align: right;\">499.441</td><td style = \"text-align: right;\">16078</td><td style = \"text-align: right;\">166.486</td><td style = \"text-align: right;\">17441.9</td><td style = \"text-align: right;\">1.36655</td><td style = \"text-align: right;\">1.09004</td><td style = \"text-align: right;\">9246.85</td><td style = \"text-align: right;\">1.34901</td><td style = \"text-align: right;\">1.07377</td></tr><tr><td class = \"rowNumber\" style = \"font-weight: bold; text-align: right;\">4</td><td style = \"text-align: right;\">4</td><td style = \"text-align: left;\">cu_YEu_AM-17-22_4m6m8_96f_P126p2_OmSc4_600s_01_0001.sfrm</td><td style = \"text-align: right;\">2</td><td style = \"text-align: left;\">20250615_YEu_AM-17-22.p4p</td><td style = \"text-align: left;\">2025-06-15T11:13:57</td><td style = \"text-align: right;\">96.3</td><td style = \"text-align: right;\">126.2</td><td style = \"text-align: right;\">-61.0</td><td style = \"text-align: right;\">-123.7</td><td style = \"text-align: right;\">4.0</td><td style = \"text-align: right;\">600.0</td><td style = \"text-align: right;\">4</td><td style = \"text-align: right;\">-6</td><td style = \"text-align: right;\">-8</td><td style = \"text-align: right;\">689.559</td><td style = \"text-align: right;\">507.591</td><td style = \"text-align: right;\">684.42</td><td style = \"text-align: right;\">507.537</td><td style = \"text-align: right;\">10539</td><td style = \"text-align: right;\">165.121</td><td style = \"text-align: right;\">11498.2</td><td style = \"text-align: right;\">1.2746</td><td style = \"text-align: right;\">1.05492</td><td style = \"text-align: right;\">5747.37</td><td style = \"text-align: right;\">1.31219</td><td style = \"text-align: right;\">0.934262</td></tr><tr><td class = \"rowNumber\" style = \"font-weight: bold; text-align: right;\">5</td><td style = \"text-align: right;\">5</td><td style = \"text-align: left;\">cu_YEu_AM-17-22_4m6m8_96f_P126p2_OmSc4_600s_02_0001.sfrm</td><td style = \"text-align: right;\">2</td><td style = \"text-align: left;\">20250615_YEu_AM-17-22.p4p</td><td style = \"text-align: left;\">2025-06-15T11:24:36</td><td style = \"text-align: right;\">96.3</td><td style = \"text-align: right;\">126.2</td><td style = \"text-align: right;\">119.0</td><td style = \"text-align: right;\">-123.7</td><td style = \"text-align: right;\">4.0</td><td style = \"text-align: right;\">600.0</td><td style = \"text-align: right;\">-4</td><td style = \"text-align: right;\">6</td><td style = \"text-align: right;\">8</td><td style = \"text-align: right;\">689.794</td><td style = \"text-align: right;\">499.65</td><td style = \"text-align: right;\">684.623</td><td style = \"text-align: right;\">499.611</td><td style = \"text-align: right;\">13678</td><td style = \"text-align: right;\">172.54</td><td style = \"text-align: right;\">14428.9</td><td style = \"text-align: right;\">1.32945</td><td style = \"text-align: right;\">1.09658</td><td style = \"text-align: right;\">7520.53</td><td style = \"text-align: right;\">1.35702</td><td style = \"text-align: right;\">1.03763</td></tr><tr><td class = \"rowNumber\" style = \"font-weight: bold; text-align: right;\">6</td><td style = \"text-align: right;\">6</td><td style = \"text-align: left;\">cu_YEu_AM-17-22_4m6m8_96f_P126p2_OmSc4_600s_03_0001.sfrm</td><td style = \"text-align: right;\">2</td><td style = \"text-align: left;\">20250615_YEu_AM-17-22.p4p</td><td style = \"text-align: left;\">2025-06-15T11:34:47</td><td style = \"text-align: right;\">96.3</td><td style = \"text-align: right;\">126.1</td><td style = \"text-align: right;\">119.0</td><td style = \"text-align: right;\">-123.7</td><td style = \"text-align: right;\">4.0</td><td style = \"text-align: right;\">600.0</td><td style = \"text-align: right;\">-4</td><td style = \"text-align: right;\">6</td><td style = \"text-align: right;\">8</td><td style = \"text-align: right;\">688.368</td><td style = \"text-align: right;\">499.654</td><td style = \"text-align: right;\">683.187</td><td style = \"text-align: right;\">499.625</td><td style = \"text-align: right;\">13243</td><td style = \"text-align: right;\">164.072</td><td style = \"text-align: right;\">14683.8</td><td style = \"text-align: right;\">1.32823</td><td style = \"text-align: right;\">1.09942</td><td style = \"text-align: right;\">7387.5</td><td style = \"text-align: right;\">1.38118</td><td style = \"text-align: right;\">1.06111</td></tr></tbody></table></div>"
      ],
      "text/latex": [
       "\\begin{tabular}{r|ccccc}\n",
       "\t& nframe & frame & norient & orient & \\\\\n",
       "\t\\hline\n",
       "\t& Int64 & String & Int64 & String & \\\\\n",
       "\t\\hline\n",
       "\t1 & 1 & cu\\_YEu\\_AM-17-22\\_6m84\\_96f\\_M80\\_OmSc4\\_600s\\_01\\_0001.sfrm & 2 & 20250615\\_YEu\\_AM-17-22.p4p & $\\dots$ \\\\\n",
       "\t2 & 2 & cu\\_YEu\\_AM-17-22\\_6m84\\_96f\\_M80\\_OmSc4\\_600s\\_02\\_0001.sfrm & 2 & 20250615\\_YEu\\_AM-17-22.p4p & $\\dots$ \\\\\n",
       "\t3 & 3 & cu\\_YEu\\_AM-17-22\\_6m84\\_96f\\_M80\\_OmSc4\\_600s\\_03\\_0001.sfrm & 2 & 20250615\\_YEu\\_AM-17-22.p4p & $\\dots$ \\\\\n",
       "\t4 & 4 & cu\\_YEu\\_AM-17-22\\_4m6m8\\_96f\\_P126p2\\_OmSc4\\_600s\\_01\\_0001.sfrm & 2 & 20250615\\_YEu\\_AM-17-22.p4p & $\\dots$ \\\\\n",
       "\t5 & 5 & cu\\_YEu\\_AM-17-22\\_4m6m8\\_96f\\_P126p2\\_OmSc4\\_600s\\_02\\_0001.sfrm & 2 & 20250615\\_YEu\\_AM-17-22.p4p & $\\dots$ \\\\\n",
       "\t6 & 6 & cu\\_YEu\\_AM-17-22\\_4m6m8\\_96f\\_P126p2\\_OmSc4\\_600s\\_03\\_0001.sfrm & 2 & 20250615\\_YEu\\_AM-17-22.p4p & $\\dots$ \\\\\n",
       "\\end{tabular}\n"
      ],
      "text/plain": [
       "\u001b[1m6×26 DataFrame\u001b[0m\n",
       "\u001b[1m Row \u001b[0m│\u001b[1m nframe \u001b[0m\u001b[1m frame                             \u001b[0m\u001b[1m norient \u001b[0m\u001b[1m orient             \u001b[0m ⋯\n",
       "     │\u001b[90m Int64  \u001b[0m\u001b[90m String                            \u001b[0m\u001b[90m Int64   \u001b[0m\u001b[90m String             \u001b[0m ⋯\n",
       "─────┼──────────────────────────────────────────────────────────────────────────\n",
       "   1 │      1  cu_YEu_AM-17-22_6m84_96f_M80_OmS…        2  20250615_YEu_AM-17- ⋯\n",
       "   2 │      2  cu_YEu_AM-17-22_6m84_96f_M80_OmS…        2  20250615_YEu_AM-17-\n",
       "   3 │      3  cu_YEu_AM-17-22_6m84_96f_M80_OmS…        2  20250615_YEu_AM-17-\n",
       "   4 │      4  cu_YEu_AM-17-22_4m6m8_96f_P126p2…        2  20250615_YEu_AM-17-\n",
       "   5 │      5  cu_YEu_AM-17-22_4m6m8_96f_P126p2…        2  20250615_YEu_AM-17- ⋯\n",
       "   6 │      6  cu_YEu_AM-17-22_4m6m8_96f_P126p2…        2  20250615_YEu_AM-17-\n",
       "\u001b[36m                                                              23 columns omitted\u001b[0m"
      ]
     },
     "execution_count": 15,
     "metadata": {},
     "output_type": "execute_result"
    }
   ],
   "source": [
    "df = DataFrame(frame = eachindex(frames))\n",
    "subset!(df, :frame => ByRow(n -> begin\n",
    "            frame = frames[n]\n",
    "            frame.target == \"Cu\" && frame.angles[1] != 0 && frame.axis == 2 && abs(frame.increment) > 0.5\n",
    "        end\n",
    "        )\n",
    ")\n",
    "transform!(df, :frame => ByRow(n -> begin\n",
    "            frame = frames[n]\n",
    "            angles = @. round(rad2deg(rem2pi(deg2rad(frame.angles), RoundNearest)), digits = 4)\n",
    "            orient_m = findfirst(orient -> orient[1] > frame.created, orients)\n",
    "            if isnothing(orient_m)\n",
    "                orient_m = lastindex(orients) + 1\n",
    "            end\n",
    "            frame.created, orient_m - 1, 10round(frame.distance, digits = 2), angles[1:3]..., frame.increment, frame.time\n",
    "        end\n",
    "        ) => [:created, :orient, :distance, :tthD, :omega, :phi, :inc, :time]\n",
    ")\n",
    "transform!(df, [:frame, :orient] => ByRow((n, m) -> begin\n",
    "            frame, orient = frames[n], orients[m]\n",
    "            center_hkl(frame, SingleCrystal(orient[2]))\n",
    "        end\n",
    "        ) => [:h, :k, :l]\n",
    ")\n",
    "transform!(df, [:frame, :orient] => ByRow((n, m) -> begin\n",
    "            frame, orient = frames[n], orients[m]\n",
    "            coord1, coord2 = peak_coords(frame, SingleCrystal(orient[2]))\n",
    "            coord1..., coord2...\n",
    "        end\n",
    "        ) => [:x1, :y1, :x2, :y2]\n",
    ")\n",
    "transform!(df, [:frame, :orient] => ByRow((n, m) -> begin\n",
    "            frame, orient = frames[n], orients[m]\n",
    "            box = box_approx(frame, SingleCrystal(orient[2]))\n",
    "            maximum(frame.image[box])\n",
    "        end\n",
    "        ) => :Imax\n",
    ")\n",
    "# subset!(df, :Imax => ByRow(I -> I > 3000))\n",
    "transform!(df, [:frame, :orient] => ByRow((n, m) -> begin\n",
    "            frame, orient = frames[n], orients[m]\n",
    "            param_refine(frame, SingleCrystal(orient[2]))\n",
    "        end\n",
    "        ) => [:bg, :A1, :x1, :y1, :σx1, :σy1, :A2, :x2, :y2, :σx2, :σy2]\n",
    ")\n",
    "sort!(df, :frame)\n",
    "select!(df, :frame => ByRow(n -> (n, frames[n].filename)) => [:nframe, :frame], :orient => ByRow(m -> (m, orients[m][3])) => [:norient, :orient], Not(:frame, :orient))"
   ]
  },
  {
   "cell_type": "code",
   "execution_count": 16,
   "id": "4bf10a2e-3f83-4400-8481-38d7881df91a",
   "metadata": {},
   "outputs": [],
   "source": [
    "XLSX.openxlsx(\"$(name).xlsx\", mode=\"w\") do xf\n",
    "    sheet = xf[1]\n",
    "    XLSX.rename!(sheet, \"$(name)\")\n",
    "    XLSX.writetable!(xf[1], df)\n",
    "end"
   ]
  },
  {
   "cell_type": "code",
   "execution_count": 22,
   "id": "ae98fd7c-1abc-4c50-9494-0b2f640bb0b9",
   "metadata": {},
   "outputs": [
    {
     "data": {
      "text/plain": [
       "3-element Vec{3, Float64} with indices SOneTo(3):\n",
       " 0.053\n",
       " 0.806\n",
       " 0.734"
      ]
     },
     "execution_count": 22,
     "metadata": {},
     "output_type": "execute_result"
    }
   ],
   "source": [
    "axis = RotAxis(0, 0, 1)\n",
    "omega = 0.9\n",
    "xray = XRay(1, 0, 0)\n",
    "q = Vec(0.053, 0.806, 0.734)"
   ]
  },
  {
   "cell_type": "code",
   "execution_count": 23,
   "id": "dc313ed8-a457-4179-a254-f932e42df76c",
   "metadata": {},
   "outputs": [
    {
     "name": "stdout",
     "output_type": "stream",
     "text": [
      "  2.278 μs (44 allocations: 1.05 KiB)\n"
     ]
    },
    {
     "data": {
      "text/plain": [
       "0.8948249135572692"
      ]
     },
     "execution_count": 23,
     "metadata": {},
     "output_type": "execute_result"
    }
   ],
   "source": [
    "@btime begin\n",
    "    true_omegas = cone_angles(axis, q => xray.k, pi/2 + asin(hypot(q...) / 2hypot(xray.k...)))\n",
    "        true_omega_n = findmin(true_omegas) do true_omega\n",
    "            abs(rem2pi(true_omega - omega, RoundNearest))\n",
    "        end |> last\n",
    "        true_omega = true_omegas[true_omega_n]\n",
    "end"
   ]
  },
  {
   "cell_type": "code",
   "execution_count": null,
   "id": "fba3b6b5-7925-4125-913d-6b62b6f06085",
   "metadata": {},
   "outputs": [],
   "source": []
  }
 ],
 "metadata": {
  "kernelspec": {
   "display_name": "Julia 1.11.5",
   "language": "julia",
   "name": "julia-1.11"
  },
  "language_info": {
   "file_extension": ".jl",
   "mimetype": "application/julia",
   "name": "julia",
   "version": "1.11.5"
  }
 },
 "nbformat": 4,
 "nbformat_minor": 5
}
