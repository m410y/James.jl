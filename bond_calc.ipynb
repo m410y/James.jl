{
 "cells": [
  {
   "cell_type": "code",
   "execution_count": 1,
   "id": "7c5fd85a-0a2e-43cf-b9b3-26e4febae4ae",
   "metadata": {},
   "outputs": [],
   "source": [
    "using DataFrames\n",
    "using Statistics\n",
    "using Dates\n",
    "using XLSX"
   ]
  },
  {
   "cell_type": "code",
   "execution_count": 3,
   "id": "7e4a9de4-5151-44bc-a06e-7237db5748d7",
   "metadata": {},
   "outputs": [
    {
     "data": {
      "text/plain": [
       "Dict{String, Float64} with 4 entries:\n",
       "  \"LaB6\"     => 4.15692\n",
       "  \"BGO_40\"   => 10.5182\n",
       "  \"Ge\"       => 5.65789\n",
       "  \"Si_small\" => 5.43104"
      ]
     },
     "execution_count": 3,
     "metadata": {},
     "output_type": "execute_result"
    }
   ],
   "source": [
    "λ = 0.70931715\n",
    "ΔtthD = 0.005\n",
    "px = 0.1353\n",
    "standards = Dict(\n",
    "    \"Si_small\" => 5.431042,\n",
    "    \"Ge\" => 5.65789,\n",
    "    \"LaB6\" => 4.15692,\n",
    "    \"BGO_40\" => 10.5182,\n",
    ")"
   ]
  },
  {
   "cell_type": "code",
   "execution_count": 12,
   "id": "70477de1-e5cf-45f0-ab99-fd6e966f98e2",
   "metadata": {},
   "outputs": [
    {
     "data": {
      "text/plain": [
       "bond_calc (generic function with 1 method)"
      ]
     },
     "execution_count": 12,
     "metadata": {},
     "output_type": "execute_result"
    }
   ],
   "source": [
    "function bond_calc(h, k, l, D, tthD, xp, xn)\n",
    "    global λ, ΔtthD, px, a0\n",
    "    tth0 = 2asind(λ * hypot(h, k, l) / 2a0)\n",
    "    tth = tthD - rad2deg(px / D) * (xp - xn) / 2\n",
    "    a = hypot(h, k, l) * λ / 2sind(tth / 2)\n",
    "    tth, tth - tth0, a, a - a0\n",
    "end"
   ]
  },
  {
   "cell_type": "code",
   "execution_count": 5,
   "id": "09d04ec3-6016-450e-a5c9-4ead4a9ae4b2",
   "metadata": {},
   "outputs": [
    {
     "data": {
      "text/plain": [
       "hklfam (generic function with 1 method)"
      ]
     },
     "execution_count": 5,
     "metadata": {},
     "output_type": "execute_result"
    }
   ],
   "source": [
    "function hklfam(h, k, l)\n",
    "    Tuple(sort(abs.([h, k, l]), rev=true))\n",
    "end"
   ]
  },
  {
   "cell_type": "code",
   "execution_count": 6,
   "id": "ec7ac8e0-e074-47b0-ad87-b62331995473",
   "metadata": {},
   "outputs": [
    {
     "data": {
      "text/plain": [
       "hklnorm2 (generic function with 1 method)"
      ]
     },
     "execution_count": 6,
     "metadata": {},
     "output_type": "execute_result"
    }
   ],
   "source": [
    "function hklnorm2(h, k, l)\n",
    "    h^2 + k^2 + l^2\n",
    "end"
   ]
  },
  {
   "cell_type": "code",
   "execution_count": 7,
   "id": "9ab07971-a71e-40c0-9c8f-6a1eaf80eec8",
   "metadata": {},
   "outputs": [
    {
     "data": {
      "text/plain": [
       "hklpos (generic function with 1 method)"
      ]
     },
     "execution_count": 7,
     "metadata": {},
     "output_type": "execute_result"
    }
   ],
   "source": [
    "function hklpos(h, k, l)\n",
    "    h != 0 ? h > 0 :\n",
    "    k != 0 ? k > 0 :\n",
    "    l > 0\n",
    "end"
   ]
  },
  {
   "cell_type": "code",
   "execution_count": 13,
   "id": "9b94adf6-d073-4fc3-b821-faf178824905",
   "metadata": {
    "scrolled": true
   },
   "outputs": [
    {
     "data": {
      "text/html": [
       "<div><div style = \"float: left;\"><span>4×26 DataFrame</span></div><div style = \"clear: both;\"></div></div><div class = \"data-frame\" style = \"overflow-x: scroll;\"><table class = \"data-frame\" style = \"margin-bottom: 6px;\"><thead><tr class = \"header\"><th class = \"rowNumber\" style = \"font-weight: bold; text-align: right;\">Row</th><th style = \"text-align: left;\">nframe</th><th style = \"text-align: left;\">frame</th><th style = \"text-align: left;\">norient</th><th style = \"text-align: left;\">orient</th><th style = \"text-align: left;\">created</th><th style = \"text-align: left;\">distance</th><th style = \"text-align: left;\">tthD</th><th style = \"text-align: left;\">omega</th><th style = \"text-align: left;\">phi</th><th style = \"text-align: left;\">inc</th><th style = \"text-align: left;\">time</th><th style = \"text-align: left;\">h</th><th style = \"text-align: left;\">k</th><th style = \"text-align: left;\">l</th><th style = \"text-align: left;\">x1</th><th style = \"text-align: left;\">y1</th><th style = \"text-align: left;\">x2</th><th style = \"text-align: left;\">y2</th><th style = \"text-align: left;\">Imax</th><th style = \"text-align: left;\">background</th><th style = \"text-align: left;\">A1</th><th style = \"text-align: left;\">σx1</th><th style = \"text-align: left;\">σy1</th><th style = \"text-align: left;\">A2</th><th style = \"text-align: left;\">σx2</th><th style = \"text-align: left;\">σy2</th></tr><tr class = \"subheader headerLastRow\"><th class = \"rowNumber\" style = \"font-weight: bold; text-align: right;\"></th><th title = \"Any\" style = \"text-align: left;\">Any</th><th title = \"Any\" style = \"text-align: left;\">Any</th><th title = \"Any\" style = \"text-align: left;\">Any</th><th title = \"Any\" style = \"text-align: left;\">Any</th><th title = \"Any\" style = \"text-align: left;\">Any</th><th title = \"Any\" style = \"text-align: left;\">Any</th><th title = \"Any\" style = \"text-align: left;\">Any</th><th title = \"Any\" style = \"text-align: left;\">Any</th><th title = \"Any\" style = \"text-align: left;\">Any</th><th title = \"Any\" style = \"text-align: left;\">Any</th><th title = \"Any\" style = \"text-align: left;\">Any</th><th title = \"Any\" style = \"text-align: left;\">Any</th><th title = \"Any\" style = \"text-align: left;\">Any</th><th title = \"Any\" style = \"text-align: left;\">Any</th><th title = \"Any\" style = \"text-align: left;\">Any</th><th title = \"Any\" style = \"text-align: left;\">Any</th><th title = \"Any\" style = \"text-align: left;\">Any</th><th title = \"Any\" style = \"text-align: left;\">Any</th><th title = \"Any\" style = \"text-align: left;\">Any</th><th title = \"Any\" style = \"text-align: left;\">Any</th><th title = \"Any\" style = \"text-align: left;\">Any</th><th title = \"Any\" style = \"text-align: left;\">Any</th><th title = \"Any\" style = \"text-align: left;\">Any</th><th title = \"Any\" style = \"text-align: left;\">Any</th><th title = \"Any\" style = \"text-align: left;\">Any</th><th title = \"Any\" style = \"text-align: left;\">Any</th></tr></thead><tbody><tr><td class = \"rowNumber\" style = \"font-weight: bold; text-align: right;\">1</td><td style = \"text-align: left;\">1</td><td style = \"text-align: left;\">mo_BGO40_17_14_3_Family_129f_Bond_MP97_02_0001.sfrm</td><td style = \"text-align: left;\">2</td><td style = \"text-align: left;\">20240718_BGO_40.p4p</td><td style = \"text-align: left;\">2024-07-19T08:40:28</td><td style = \"text-align: left;\">128.5</td><td style = \"text-align: left;\">-97.0</td><td style = \"text-align: left;\">-90.6</td><td style = \"text-align: left;\">34.7796</td><td style = \"text-align: left;\">4.0</td><td style = \"text-align: left;\">1800.0</td><td style = \"text-align: left;\">-14</td><td style = \"text-align: left;\">-17</td><td style = \"text-align: left;\">3</td><td style = \"text-align: left;\">389.91</td><td style = \"text-align: left;\">504.614</td><td style = \"text-align: left;\">402.953</td><td style = \"text-align: left;\">504.69</td><td style = \"text-align: left;\">4574</td><td style = \"text-align: left;\">406.897</td><td style = \"text-align: left;\">4222.58</td><td style = \"text-align: left;\">1.56374</td><td style = \"text-align: left;\">1.4083</td><td style = \"text-align: left;\">2254.61</td><td style = \"text-align: left;\">1.67666</td><td style = \"text-align: left;\">1.49195</td></tr><tr><td class = \"rowNumber\" style = \"font-weight: bold; text-align: right;\">2</td><td style = \"text-align: left;\">2</td><td style = \"text-align: left;\">mo_BGO40_17_14_3_Family_129f_Bond_MP97_05_0001.sfrm</td><td style = \"text-align: left;\">2</td><td style = \"text-align: left;\">20240718_BGO_40.p4p</td><td style = \"text-align: left;\">2024-07-19T09:11:30</td><td style = \"text-align: left;\">128.5</td><td style = \"text-align: left;\">-97.0</td><td style = \"text-align: left;\">89.4</td><td style = \"text-align: left;\">34.7796</td><td style = \"text-align: left;\">4.0</td><td style = \"text-align: left;\">1800.0</td><td style = \"text-align: left;\">14</td><td style = \"text-align: left;\">17</td><td style = \"text-align: left;\">-3</td><td style = \"text-align: left;\">390.3</td><td style = \"text-align: left;\">503.748</td><td style = \"text-align: left;\">403.448</td><td style = \"text-align: left;\">503.903</td><td style = \"text-align: left;\">4329</td><td style = \"text-align: left;\">442.888</td><td style = \"text-align: left;\">4232.83</td><td style = \"text-align: left;\">1.6236</td><td style = \"text-align: left;\">1.54672</td><td style = \"text-align: left;\">2276.27</td><td style = \"text-align: left;\">1.68874</td><td style = \"text-align: left;\">1.52489</td></tr><tr><td class = \"rowNumber\" style = \"font-weight: bold; text-align: right;\">3</td><td style = \"text-align: left;\">3</td><td style = \"text-align: left;\">mo_BGO40_17_14_3_Family_129f_Bond_MP97_08_0001.sfrm</td><td style = \"text-align: left;\">2</td><td style = \"text-align: left;\">20240718_BGO_40.p4p</td><td style = \"text-align: left;\">2024-07-19T09:42:52</td><td style = \"text-align: left;\">128.5</td><td style = \"text-align: left;\">97.0</td><td style = \"text-align: left;\">86.3</td><td style = \"text-align: left;\">36.1206</td><td style = \"text-align: left;\">4.0</td><td style = \"text-align: left;\">1800.0</td><td style = \"text-align: left;\">14</td><td style = \"text-align: left;\">-3</td><td style = \"text-align: left;\">17</td><td style = \"text-align: left;\">387.52</td><td style = \"text-align: left;\">512.709</td><td style = \"text-align: left;\">374.659</td><td style = \"text-align: left;\">513.208</td><td style = \"text-align: left;\">4223</td><td style = \"text-align: left;\">552.633</td><td style = \"text-align: left;\">3372.25</td><td style = \"text-align: left;\">1.80437</td><td style = \"text-align: left;\">2.68362</td><td style = \"text-align: left;\">1916.52</td><td style = \"text-align: left;\">1.90198</td><td style = \"text-align: left;\">2.47793</td></tr><tr><td class = \"rowNumber\" style = \"font-weight: bold; text-align: right;\">4</td><td style = \"text-align: left;\">4</td><td style = \"text-align: left;\">mo_BGO40_17_14_3_Family_129f_Bond_MP97_11_0001.sfrm</td><td style = \"text-align: left;\">2</td><td style = \"text-align: left;\">20240718_BGO_40.p4p</td><td style = \"text-align: left;\">2024-07-19T10:13:53</td><td style = \"text-align: left;\">128.5</td><td style = \"text-align: left;\">97.0</td><td style = \"text-align: left;\">-93.7</td><td style = \"text-align: left;\">36.1206</td><td style = \"text-align: left;\">4.0</td><td style = \"text-align: left;\">600.0</td><td style = \"text-align: left;\">-14</td><td style = \"text-align: left;\">3</td><td style = \"text-align: left;\">-17</td><td style = \"text-align: left;\">387.621</td><td style = \"text-align: left;\">492.175</td><td style = \"text-align: left;\">374.733</td><td style = \"text-align: left;\">492.525</td><td style = \"text-align: left;\">2095</td><td style = \"text-align: left;\">178.753</td><td style = \"text-align: left;\">2047.18</td><td style = \"text-align: left;\">1.77131</td><td style = \"text-align: left;\">1.49563</td><td style = \"text-align: left;\">1023.55</td><td style = \"text-align: left;\">1.88262</td><td style = \"text-align: left;\">1.57206</td></tr></tbody></table></div>"
      ],
      "text/latex": [
       "\\begin{tabular}{r|ccccc}\n",
       "\t& nframe & frame & norient & orient & \\\\\n",
       "\t\\hline\n",
       "\t& Any & Any & Any & Any & \\\\\n",
       "\t\\hline\n",
       "\t1 & 1 & mo\\_BGO40\\_17\\_14\\_3\\_Family\\_129f\\_Bond\\_MP97\\_02\\_0001.sfrm & 2 & 20240718\\_BGO\\_40.p4p & $\\dots$ \\\\\n",
       "\t2 & 2 & mo\\_BGO40\\_17\\_14\\_3\\_Family\\_129f\\_Bond\\_MP97\\_05\\_0001.sfrm & 2 & 20240718\\_BGO\\_40.p4p & $\\dots$ \\\\\n",
       "\t3 & 3 & mo\\_BGO40\\_17\\_14\\_3\\_Family\\_129f\\_Bond\\_MP97\\_08\\_0001.sfrm & 2 & 20240718\\_BGO\\_40.p4p & $\\dots$ \\\\\n",
       "\t4 & 4 & mo\\_BGO40\\_17\\_14\\_3\\_Family\\_129f\\_Bond\\_MP97\\_11\\_0001.sfrm & 2 & 20240718\\_BGO\\_40.p4p & $\\dots$ \\\\\n",
       "\\end{tabular}\n"
      ],
      "text/plain": [
       "\u001b[1m4×26 DataFrame\u001b[0m\n",
       "\u001b[1m Row \u001b[0m│\u001b[1m nframe \u001b[0m\u001b[1m frame                             \u001b[0m\u001b[1m norient \u001b[0m\u001b[1m orient             \u001b[0m ⋯\n",
       "     │\u001b[90m Any    \u001b[0m\u001b[90m Any                               \u001b[0m\u001b[90m Any     \u001b[0m\u001b[90m Any                \u001b[0m ⋯\n",
       "─────┼──────────────────────────────────────────────────────────────────────────\n",
       "   1 │ 1       mo_BGO40_17_14_3_Family_129f_Bon…  2        20240718_BGO_40.p4p ⋯\n",
       "   2 │ 2       mo_BGO40_17_14_3_Family_129f_Bon…  2        20240718_BGO_40.p4p\n",
       "   3 │ 3       mo_BGO40_17_14_3_Family_129f_Bon…  2        20240718_BGO_40.p4p\n",
       "   4 │ 4       mo_BGO40_17_14_3_Family_129f_Bon…  2        20240718_BGO_40.p4p\n",
       "\u001b[36m                                                              22 columns omitted\u001b[0m"
      ]
     },
     "execution_count": 13,
     "metadata": {},
     "output_type": "execute_result"
    }
   ],
   "source": [
    "name = \"BGO_40\"\n",
    "a0 = standards[name]\n",
    "data = DataFrame(XLSX.readtable(\"$(name).xlsx\", name))"
   ]
  },
  {
   "cell_type": "code",
   "execution_count": 14,
   "id": "49386a44-fbf1-42f2-8667-dfd69c700ea5",
   "metadata": {
    "scrolled": true
   },
   "outputs": [
    {
     "data": {
      "text/html": [
       "<div><div style = \"float: left;\"><span>0×48 DataFrame</span></div><div style = \"clear: both;\"></div></div><div class = \"data-frame\" style = \"overflow-x: scroll;\"><table class = \"data-frame\" style = \"margin-bottom: 6px;\"><thead><tr class = \"header\"><th class = \"rowNumber\" style = \"font-weight: bold; text-align: right;\">Row</th><th style = \"text-align: left;\">nframe_pos</th><th style = \"text-align: left;\">frame_pos</th><th style = \"text-align: left;\">norient</th><th style = \"text-align: left;\">orient</th><th style = \"text-align: left;\">created_pos</th><th style = \"text-align: left;\">distance</th><th style = \"text-align: left;\">tthD</th><th style = \"text-align: left;\">omega_pos</th><th style = \"text-align: left;\">phi</th><th style = \"text-align: left;\">inc_pos</th><th style = \"text-align: left;\">time_pos</th><th style = \"text-align: left;\">h</th><th style = \"text-align: left;\">k</th><th style = \"text-align: left;\">l</th><th style = \"text-align: left;\">x1_pos</th><th style = \"text-align: left;\">y1_pos</th><th style = \"text-align: left;\">x2_pos</th><th style = \"text-align: left;\">y2_pos</th><th style = \"text-align: left;\">Imax_pos</th><th style = \"text-align: left;\">background_pos</th><th style = \"text-align: left;\">A1_pos</th><th style = \"text-align: left;\">σx1_pos</th><th style = \"text-align: left;\">σy1_pos</th><th style = \"text-align: left;\">A2_pos</th><th style = \"text-align: left;\">σx2_pos</th><th style = \"text-align: left;\">σy2_pos</th><th style = \"text-align: left;\">nframe_neg</th><th style = \"text-align: left;\">frame_neg</th><th style = \"text-align: left;\">created_neg</th><th style = \"text-align: left;\">omega_neg</th><th style = \"text-align: left;\">inc_neg</th><th style = \"text-align: left;\">time_neg</th><th style = \"text-align: left;\">x1_neg</th><th style = \"text-align: left;\">y1_neg</th><th style = \"text-align: left;\">x2_neg</th><th style = \"text-align: left;\">y2_neg</th><th style = \"text-align: left;\">Imax_neg</th><th style = \"text-align: left;\">background_neg</th><th style = \"text-align: left;\">A1_neg</th><th style = \"text-align: left;\">σx1_neg</th><th style = \"text-align: left;\">σy1_neg</th><th style = \"text-align: left;\">A2_neg</th><th style = \"text-align: left;\">σx2_neg</th><th style = \"text-align: left;\">σy2_neg</th><th style = \"text-align: left;\">tth</th><th style = \"text-align: left;\">Δtth</th><th style = \"text-align: left;\">a</th><th style = \"text-align: left;\">Δa</th></tr><tr class = \"subheader headerLastRow\"><th class = \"rowNumber\" style = \"font-weight: bold; text-align: right;\"></th><th title = \"Any\" style = \"text-align: left;\">Any</th><th title = \"Any\" style = \"text-align: left;\">Any</th><th title = \"Any\" style = \"text-align: left;\">Any</th><th title = \"Any\" style = \"text-align: left;\">Any</th><th title = \"Any\" style = \"text-align: left;\">Any</th><th title = \"Any\" style = \"text-align: left;\">Any</th><th title = \"Any\" style = \"text-align: left;\">Any</th><th title = \"Any\" style = \"text-align: left;\">Any</th><th title = \"Any\" style = \"text-align: left;\">Any</th><th title = \"Any\" style = \"text-align: left;\">Any</th><th title = \"Any\" style = \"text-align: left;\">Any</th><th title = \"Any\" style = \"text-align: left;\">Any</th><th title = \"Any\" style = \"text-align: left;\">Any</th><th title = \"Any\" style = \"text-align: left;\">Any</th><th title = \"Any\" style = \"text-align: left;\">Any</th><th title = \"Any\" style = \"text-align: left;\">Any</th><th title = \"Any\" style = \"text-align: left;\">Any</th><th title = \"Any\" style = \"text-align: left;\">Any</th><th title = \"Any\" style = \"text-align: left;\">Any</th><th title = \"Any\" style = \"text-align: left;\">Any</th><th title = \"Any\" style = \"text-align: left;\">Any</th><th title = \"Any\" style = \"text-align: left;\">Any</th><th title = \"Any\" style = \"text-align: left;\">Any</th><th title = \"Any\" style = \"text-align: left;\">Any</th><th title = \"Any\" style = \"text-align: left;\">Any</th><th title = \"Any\" style = \"text-align: left;\">Any</th><th title = \"Any\" style = \"text-align: left;\">Any</th><th title = \"Any\" style = \"text-align: left;\">Any</th><th title = \"Any\" style = \"text-align: left;\">Any</th><th title = \"Any\" style = \"text-align: left;\">Any</th><th title = \"Any\" style = \"text-align: left;\">Any</th><th title = \"Any\" style = \"text-align: left;\">Any</th><th title = \"Any\" style = \"text-align: left;\">Any</th><th title = \"Any\" style = \"text-align: left;\">Any</th><th title = \"Any\" style = \"text-align: left;\">Any</th><th title = \"Any\" style = \"text-align: left;\">Any</th><th title = \"Any\" style = \"text-align: left;\">Any</th><th title = \"Any\" style = \"text-align: left;\">Any</th><th title = \"Any\" style = \"text-align: left;\">Any</th><th title = \"Any\" style = \"text-align: left;\">Any</th><th title = \"Any\" style = \"text-align: left;\">Any</th><th title = \"Any\" style = \"text-align: left;\">Any</th><th title = \"Any\" style = \"text-align: left;\">Any</th><th title = \"Any\" style = \"text-align: left;\">Any</th><th title = \"Any\" style = \"text-align: left;\">Any</th><th title = \"Any\" style = \"text-align: left;\">Any</th><th title = \"Any\" style = \"text-align: left;\">Any</th><th title = \"Any\" style = \"text-align: left;\">Any</th></tr></thead><tbody></tbody></table></div>"
      ],
      "text/latex": [
       "\\begin{tabular}{r|ccccccccc}\n",
       "\t& nframe\\_pos & frame\\_pos & norient & orient & created\\_pos & distance & tthD & omega\\_pos & \\\\\n",
       "\t\\hline\n",
       "\t& Any & Any & Any & Any & Any & Any & Any & Any & \\\\\n",
       "\t\\hline\n",
       "\\end{tabular}\n"
      ],
      "text/plain": [
       "\u001b[1m0×48 DataFrame\u001b[0m\n",
       "\u001b[1m Row \u001b[0m│\u001b[1m nframe_pos \u001b[0m\u001b[1m frame_pos \u001b[0m\u001b[1m norient \u001b[0m\u001b[1m orient \u001b[0m\u001b[1m created_pos \u001b[0m\u001b[1m distance \u001b[0m\u001b[1m tthD \u001b[0m\u001b[1m om\u001b[0m ⋯\n",
       "     │\u001b[90m Any        \u001b[0m\u001b[90m Any       \u001b[0m\u001b[90m Any     \u001b[0m\u001b[90m Any    \u001b[0m\u001b[90m Any         \u001b[0m\u001b[90m Any      \u001b[0m\u001b[90m Any  \u001b[0m\u001b[90m An\u001b[0m ⋯\n",
       "─────┴──────────────────────────────────────────────────────────────────────────\n",
       "\u001b[36m                                                              41 columns omitted\u001b[0m"
      ]
     },
     "execution_count": 14,
     "metadata": {},
     "output_type": "execute_result"
    }
   ],
   "source": [
    "bond = innerjoin(data[data.tthD .> 0, :], transform(data, :tthD => -, renamecols = false),\n",
    "    on = [:tthD, :distance, :phi, :h, :k, :l, :norient, :orient],\n",
    "    renamecols = \"_pos\" => \"_neg\",\n",
    ")\n",
    "subset!(bond, [:created_pos, :created_neg] => ByRow((c1, c2) -> abs(c1 - c2) < Day(1)))\n",
    "transform!(bond, [:h, :k, :l, :distance, :tthD, :x1_pos, :x1_neg] => ByRow(bond_calc) => [:tth, :Δtth, :a, :Δa])"
   ]
  },
  {
   "cell_type": "code",
   "execution_count": 15,
   "id": "082d70b9-e2b7-4c79-9ef4-519e1ec33f10",
   "metadata": {
    "scrolled": true
   },
   "outputs": [
    {
     "data": {
      "text/html": [
       "<div><div style = \"float: left;\"><span>2×46 DataFrame</span></div><div style = \"clear: both;\"></div></div><div class = \"data-frame\" style = \"overflow-x: scroll;\"><table class = \"data-frame\" style = \"margin-bottom: 6px;\"><thead><tr class = \"header\"><th class = \"rowNumber\" style = \"font-weight: bold; text-align: right;\">Row</th><th style = \"text-align: left;\">nframe</th><th style = \"text-align: left;\">frame</th><th style = \"text-align: left;\">norient</th><th style = \"text-align: left;\">orient</th><th style = \"text-align: left;\">created</th><th style = \"text-align: left;\">distance</th><th style = \"text-align: left;\">tthD</th><th style = \"text-align: left;\">omega</th><th style = \"text-align: left;\">phi</th><th style = \"text-align: left;\">inc</th><th style = \"text-align: left;\">time</th><th style = \"text-align: left;\">h</th><th style = \"text-align: left;\">k</th><th style = \"text-align: left;\">l</th><th style = \"text-align: left;\">x1</th><th style = \"text-align: left;\">y1</th><th style = \"text-align: left;\">x2</th><th style = \"text-align: left;\">y2</th><th style = \"text-align: left;\">Imax</th><th style = \"text-align: left;\">background</th><th style = \"text-align: left;\">A1</th><th style = \"text-align: left;\">σx1</th><th style = \"text-align: left;\">σy1</th><th style = \"text-align: left;\">A2</th><th style = \"text-align: left;\">σx2</th><th style = \"text-align: left;\">σy2</th><th style = \"text-align: left;\">nframe_frid</th><th style = \"text-align: left;\">frame_frid</th><th style = \"text-align: left;\">created_frid</th><th style = \"text-align: left;\">omega_frid</th><th style = \"text-align: left;\">inc_frid</th><th style = \"text-align: left;\">time_frid</th><th style = \"text-align: left;\">x1_frid</th><th style = \"text-align: left;\">y1_frid</th><th style = \"text-align: left;\">x2_frid</th><th style = \"text-align: left;\">y2_frid</th><th style = \"text-align: left;\">Imax_frid</th><th style = \"text-align: left;\">background_frid</th><th style = \"text-align: left;\">A1_frid</th><th style = \"text-align: left;\">σx1_frid</th><th style = \"text-align: left;\">σy1_frid</th><th style = \"text-align: left;\">A2_frid</th><th style = \"text-align: left;\">σx2_frid</th><th style = \"text-align: left;\">σy2_frid</th><th style = \"text-align: left;\">x1_mean</th><th style = \"text-align: left;\">hklnorm2</th></tr><tr class = \"subheader headerLastRow\"><th class = \"rowNumber\" style = \"font-weight: bold; text-align: right;\"></th><th title = \"Any\" style = \"text-align: left;\">Any</th><th title = \"Any\" style = \"text-align: left;\">Any</th><th title = \"Any\" style = \"text-align: left;\">Any</th><th title = \"Any\" style = \"text-align: left;\">Any</th><th title = \"Any\" style = \"text-align: left;\">Any</th><th title = \"Any\" style = \"text-align: left;\">Any</th><th title = \"Any\" style = \"text-align: left;\">Any</th><th title = \"Any\" style = \"text-align: left;\">Any</th><th title = \"Any\" style = \"text-align: left;\">Any</th><th title = \"Any\" style = \"text-align: left;\">Any</th><th title = \"Any\" style = \"text-align: left;\">Any</th><th title = \"Any\" style = \"text-align: left;\">Any</th><th title = \"Any\" style = \"text-align: left;\">Any</th><th title = \"Any\" style = \"text-align: left;\">Any</th><th title = \"Any\" style = \"text-align: left;\">Any</th><th title = \"Any\" style = \"text-align: left;\">Any</th><th title = \"Any\" style = \"text-align: left;\">Any</th><th title = \"Any\" style = \"text-align: left;\">Any</th><th title = \"Any\" style = \"text-align: left;\">Any</th><th title = \"Any\" style = \"text-align: left;\">Any</th><th title = \"Any\" style = \"text-align: left;\">Any</th><th title = \"Any\" style = \"text-align: left;\">Any</th><th title = \"Any\" style = \"text-align: left;\">Any</th><th title = \"Any\" style = \"text-align: left;\">Any</th><th title = \"Any\" style = \"text-align: left;\">Any</th><th title = \"Any\" style = \"text-align: left;\">Any</th><th title = \"Any\" style = \"text-align: left;\">Any</th><th title = \"Any\" style = \"text-align: left;\">Any</th><th title = \"Any\" style = \"text-align: left;\">Any</th><th title = \"Any\" style = \"text-align: left;\">Any</th><th title = \"Any\" style = \"text-align: left;\">Any</th><th title = \"Any\" style = \"text-align: left;\">Any</th><th title = \"Any\" style = \"text-align: left;\">Any</th><th title = \"Any\" style = \"text-align: left;\">Any</th><th title = \"Any\" style = \"text-align: left;\">Any</th><th title = \"Any\" style = \"text-align: left;\">Any</th><th title = \"Any\" style = \"text-align: left;\">Any</th><th title = \"Any\" style = \"text-align: left;\">Any</th><th title = \"Any\" style = \"text-align: left;\">Any</th><th title = \"Any\" style = \"text-align: left;\">Any</th><th title = \"Any\" style = \"text-align: left;\">Any</th><th title = \"Any\" style = \"text-align: left;\">Any</th><th title = \"Any\" style = \"text-align: left;\">Any</th><th title = \"Any\" style = \"text-align: left;\">Any</th><th title = \"Float64\" style = \"text-align: left;\">Float64</th><th title = \"Int64\" style = \"text-align: left;\">Int64</th></tr></thead><tbody><tr><td class = \"rowNumber\" style = \"font-weight: bold; text-align: right;\">1</td><td style = \"text-align: left;\">2</td><td style = \"text-align: left;\">mo_BGO40_17_14_3_Family_129f_Bond_MP97_05_0001.sfrm</td><td style = \"text-align: left;\">2</td><td style = \"text-align: left;\">20240718_BGO_40.p4p</td><td style = \"text-align: left;\">2024-07-19T09:11:30</td><td style = \"text-align: left;\">128.5</td><td style = \"text-align: left;\">-97.0</td><td style = \"text-align: left;\">89.4</td><td style = \"text-align: left;\">34.7796</td><td style = \"text-align: left;\">4.0</td><td style = \"text-align: left;\">1800.0</td><td style = \"text-align: left;\">14</td><td style = \"text-align: left;\">17</td><td style = \"text-align: left;\">-3</td><td style = \"text-align: left;\">390.3</td><td style = \"text-align: left;\">503.748</td><td style = \"text-align: left;\">403.448</td><td style = \"text-align: left;\">503.903</td><td style = \"text-align: left;\">4329</td><td style = \"text-align: left;\">442.888</td><td style = \"text-align: left;\">4232.83</td><td style = \"text-align: left;\">1.6236</td><td style = \"text-align: left;\">1.54672</td><td style = \"text-align: left;\">2276.27</td><td style = \"text-align: left;\">1.68874</td><td style = \"text-align: left;\">1.52489</td><td style = \"text-align: left;\">1</td><td style = \"text-align: left;\">mo_BGO40_17_14_3_Family_129f_Bond_MP97_02_0001.sfrm</td><td style = \"text-align: left;\">2024-07-19T08:40:28</td><td style = \"text-align: left;\">-90.6</td><td style = \"text-align: left;\">4.0</td><td style = \"text-align: left;\">1800.0</td><td style = \"text-align: left;\">389.91</td><td style = \"text-align: left;\">504.614</td><td style = \"text-align: left;\">402.953</td><td style = \"text-align: left;\">504.69</td><td style = \"text-align: left;\">4574</td><td style = \"text-align: left;\">406.897</td><td style = \"text-align: left;\">4222.58</td><td style = \"text-align: left;\">1.56374</td><td style = \"text-align: left;\">1.4083</td><td style = \"text-align: left;\">2254.61</td><td style = \"text-align: left;\">1.67666</td><td style = \"text-align: left;\">1.49195</td><td style = \"text-align: right;\">390.105</td><td style = \"text-align: right;\">494</td></tr><tr><td class = \"rowNumber\" style = \"font-weight: bold; text-align: right;\">2</td><td style = \"text-align: left;\">3</td><td style = \"text-align: left;\">mo_BGO40_17_14_3_Family_129f_Bond_MP97_08_0001.sfrm</td><td style = \"text-align: left;\">2</td><td style = \"text-align: left;\">20240718_BGO_40.p4p</td><td style = \"text-align: left;\">2024-07-19T09:42:52</td><td style = \"text-align: left;\">128.5</td><td style = \"text-align: left;\">97.0</td><td style = \"text-align: left;\">86.3</td><td style = \"text-align: left;\">36.1206</td><td style = \"text-align: left;\">4.0</td><td style = \"text-align: left;\">1800.0</td><td style = \"text-align: left;\">14</td><td style = \"text-align: left;\">-3</td><td style = \"text-align: left;\">17</td><td style = \"text-align: left;\">387.52</td><td style = \"text-align: left;\">512.709</td><td style = \"text-align: left;\">374.659</td><td style = \"text-align: left;\">513.208</td><td style = \"text-align: left;\">4223</td><td style = \"text-align: left;\">552.633</td><td style = \"text-align: left;\">3372.25</td><td style = \"text-align: left;\">1.80437</td><td style = \"text-align: left;\">2.68362</td><td style = \"text-align: left;\">1916.52</td><td style = \"text-align: left;\">1.90198</td><td style = \"text-align: left;\">2.47793</td><td style = \"text-align: left;\">4</td><td style = \"text-align: left;\">mo_BGO40_17_14_3_Family_129f_Bond_MP97_11_0001.sfrm</td><td style = \"text-align: left;\">2024-07-19T10:13:53</td><td style = \"text-align: left;\">-93.7</td><td style = \"text-align: left;\">4.0</td><td style = \"text-align: left;\">600.0</td><td style = \"text-align: left;\">387.621</td><td style = \"text-align: left;\">492.175</td><td style = \"text-align: left;\">374.733</td><td style = \"text-align: left;\">492.525</td><td style = \"text-align: left;\">2095</td><td style = \"text-align: left;\">178.753</td><td style = \"text-align: left;\">2047.18</td><td style = \"text-align: left;\">1.77131</td><td style = \"text-align: left;\">1.49563</td><td style = \"text-align: left;\">1023.55</td><td style = \"text-align: left;\">1.88262</td><td style = \"text-align: left;\">1.57206</td><td style = \"text-align: right;\">387.571</td><td style = \"text-align: right;\">494</td></tr></tbody></table></div>"
      ],
      "text/latex": [
       "\\begin{tabular}{r|ccccc}\n",
       "\t& nframe & frame & norient & orient & \\\\\n",
       "\t\\hline\n",
       "\t& Any & Any & Any & Any & \\\\\n",
       "\t\\hline\n",
       "\t1 & 2 & mo\\_BGO40\\_17\\_14\\_3\\_Family\\_129f\\_Bond\\_MP97\\_05\\_0001.sfrm & 2 & 20240718\\_BGO\\_40.p4p & $\\dots$ \\\\\n",
       "\t2 & 3 & mo\\_BGO40\\_17\\_14\\_3\\_Family\\_129f\\_Bond\\_MP97\\_08\\_0001.sfrm & 2 & 20240718\\_BGO\\_40.p4p & $\\dots$ \\\\\n",
       "\\end{tabular}\n"
      ],
      "text/plain": [
       "\u001b[1m2×46 DataFrame\u001b[0m\n",
       "\u001b[1m Row \u001b[0m│\u001b[1m nframe \u001b[0m\u001b[1m frame                             \u001b[0m\u001b[1m norient \u001b[0m\u001b[1m orient             \u001b[0m ⋯\n",
       "     │\u001b[90m Any    \u001b[0m\u001b[90m Any                               \u001b[0m\u001b[90m Any     \u001b[0m\u001b[90m Any                \u001b[0m ⋯\n",
       "─────┼──────────────────────────────────────────────────────────────────────────\n",
       "   1 │ 2       mo_BGO40_17_14_3_Family_129f_Bon…  2        20240718_BGO_40.p4p ⋯\n",
       "   2 │ 3       mo_BGO40_17_14_3_Family_129f_Bon…  2        20240718_BGO_40.p4p\n",
       "\u001b[36m                                                              42 columns omitted\u001b[0m"
      ]
     },
     "execution_count": 15,
     "metadata": {},
     "output_type": "execute_result"
    }
   ],
   "source": [
    "frid = innerjoin(subset(data, [:h, :k, :l] => ByRow(hklpos)), transform(data, [:h, :k, :l] .=> -, renamecols = false),\n",
    "    on = [:tthD, :distance, :phi, :h, :k, :l, :norient, :orient],\n",
    "    renamecols = \"\" => \"_frid\"\n",
    ")\n",
    "subset!(frid, [:created, :created_frid] => ByRow((c1, c2) -> abs(c1 - c2) < Day(1)))\n",
    "transform!(frid, [:x1, :x1_frid] => ByRow((x, xf) -> (x + xf) / 2) => :x1_mean)\n",
    "transform!(frid, [:h, :k, :l] => ByRow(hklnorm2) => :hklnorm2)"
   ]
  },
  {
   "cell_type": "code",
   "execution_count": 16,
   "id": "4fea81c0-d739-4fa3-bda9-4dd3f497f5b2",
   "metadata": {},
   "outputs": [
    {
     "data": {
      "text/html": [
       "<div><div style = \"float: left;\"><span>1×91 DataFrame</span></div><div style = \"clear: both;\"></div></div><div class = \"data-frame\" style = \"overflow-x: scroll;\"><table class = \"data-frame\" style = \"margin-bottom: 6px;\"><thead><tr class = \"header\"><th class = \"rowNumber\" style = \"font-weight: bold; text-align: right;\">Row</th><th style = \"text-align: left;\">nframe_pos</th><th style = \"text-align: left;\">frame_pos</th><th style = \"text-align: left;\">norient</th><th style = \"text-align: left;\">orient</th><th style = \"text-align: left;\">created_pos</th><th style = \"text-align: left;\">distance</th><th style = \"text-align: left;\">tthD</th><th style = \"text-align: left;\">omega_pos</th><th style = \"text-align: left;\">phi_pos</th><th style = \"text-align: left;\">inc_pos</th><th style = \"text-align: left;\">time_pos</th><th style = \"text-align: left;\">h_pos</th><th style = \"text-align: left;\">k_pos</th><th style = \"text-align: left;\">l_pos</th><th style = \"text-align: left;\">x1_pos</th><th style = \"text-align: left;\">y1_pos</th><th style = \"text-align: left;\">x2_pos</th><th style = \"text-align: left;\">y2_pos</th><th style = \"text-align: left;\">Imax_pos</th><th style = \"text-align: left;\">background_pos</th><th style = \"text-align: left;\">A1_pos</th><th style = \"text-align: left;\">σx1_pos</th><th style = \"text-align: left;\">σy1_pos</th><th style = \"text-align: left;\">A2_pos</th><th style = \"text-align: left;\">σx2_pos</th><th style = \"text-align: left;\">σy2_pos</th><th style = \"text-align: left;\">nframe_frid_pos</th><th style = \"text-align: left;\">frame_frid_pos</th><th style = \"text-align: left;\">created_frid_pos</th><th style = \"text-align: left;\">omega_frid_pos</th><th style = \"text-align: left;\">inc_frid_pos</th><th style = \"text-align: left;\">time_frid_pos</th><th style = \"text-align: left;\">x1_frid_pos</th><th style = \"text-align: left;\">y1_frid_pos</th><th style = \"text-align: left;\">x2_frid_pos</th><th style = \"text-align: left;\">y2_frid_pos</th><th style = \"text-align: left;\">Imax_frid_pos</th><th style = \"text-align: left;\">background_frid_pos</th><th style = \"text-align: left;\">A1_frid_pos</th><th style = \"text-align: left;\">σx1_frid_pos</th><th style = \"text-align: left;\">σy1_frid_pos</th><th style = \"text-align: left;\">A2_frid_pos</th><th style = \"text-align: left;\">σx2_frid_pos</th><th style = \"text-align: left;\">σy2_frid_pos</th><th style = \"text-align: left;\">x1_mean_pos</th><th style = \"text-align: left;\">hklnorm2</th><th style = \"text-align: left;\">nframe_neg</th><th style = \"text-align: left;\">frame_neg</th><th style = \"text-align: left;\">created_neg</th><th style = \"text-align: left;\">omega_neg</th><th style = \"text-align: left;\">phi_neg</th><th style = \"text-align: left;\">inc_neg</th><th style = \"text-align: left;\">time_neg</th><th style = \"text-align: left;\">h_neg</th><th style = \"text-align: left;\">k_neg</th><th style = \"text-align: left;\">l_neg</th><th style = \"text-align: left;\">x1_neg</th><th style = \"text-align: left;\">y1_neg</th><th style = \"text-align: left;\">x2_neg</th><th style = \"text-align: left;\">y2_neg</th><th style = \"text-align: left;\">Imax_neg</th><th style = \"text-align: left;\">background_neg</th><th style = \"text-align: left;\">A1_neg</th><th style = \"text-align: left;\">σx1_neg</th><th style = \"text-align: left;\">σy1_neg</th><th style = \"text-align: left;\">A2_neg</th><th style = \"text-align: left;\">σx2_neg</th><th style = \"text-align: left;\">σy2_neg</th><th style = \"text-align: left;\">nframe_frid_neg</th><th style = \"text-align: left;\">frame_frid_neg</th><th style = \"text-align: left;\">created_frid_neg</th><th style = \"text-align: left;\">omega_frid_neg</th><th style = \"text-align: left;\">inc_frid_neg</th><th style = \"text-align: left;\">time_frid_neg</th><th style = \"text-align: left;\">x1_frid_neg</th><th style = \"text-align: left;\">y1_frid_neg</th><th style = \"text-align: left;\">x2_frid_neg</th><th style = \"text-align: left;\">y2_frid_neg</th><th style = \"text-align: left;\">Imax_frid_neg</th><th style = \"text-align: left;\">background_frid_neg</th><th style = \"text-align: left;\">A1_frid_neg</th><th style = \"text-align: left;\">σx1_frid_neg</th><th style = \"text-align: left;\">σy1_frid_neg</th><th style = \"text-align: left;\">A2_frid_neg</th><th style = \"text-align: left;\">σx2_frid_neg</th><th style = \"text-align: left;\">σy2_frid_neg</th><th style = \"text-align: left;\">x1_mean_neg</th><th style = \"text-align: left;\">tth</th><th style = \"text-align: left;\">Δtth</th><th style = \"text-align: left;\">a</th><th style = \"text-align: left;\">Δa</th></tr><tr class = \"subheader headerLastRow\"><th class = \"rowNumber\" style = \"font-weight: bold; text-align: right;\"></th><th title = \"Any\" style = \"text-align: left;\">Any</th><th title = \"Any\" style = \"text-align: left;\">Any</th><th title = \"Any\" style = \"text-align: left;\">Any</th><th title = \"Any\" style = \"text-align: left;\">Any</th><th title = \"Any\" style = \"text-align: left;\">Any</th><th title = \"Any\" style = \"text-align: left;\">Any</th><th title = \"Any\" style = \"text-align: left;\">Any</th><th title = \"Any\" style = \"text-align: left;\">Any</th><th title = \"Any\" style = \"text-align: left;\">Any</th><th title = \"Any\" style = \"text-align: left;\">Any</th><th title = \"Any\" style = \"text-align: left;\">Any</th><th title = \"Any\" style = \"text-align: left;\">Any</th><th title = \"Any\" style = \"text-align: left;\">Any</th><th title = \"Any\" style = \"text-align: left;\">Any</th><th title = \"Any\" style = \"text-align: left;\">Any</th><th title = \"Any\" style = \"text-align: left;\">Any</th><th title = \"Any\" style = \"text-align: left;\">Any</th><th title = \"Any\" style = \"text-align: left;\">Any</th><th title = \"Any\" style = \"text-align: left;\">Any</th><th title = \"Any\" style = \"text-align: left;\">Any</th><th title = \"Any\" style = \"text-align: left;\">Any</th><th title = \"Any\" style = \"text-align: left;\">Any</th><th title = \"Any\" style = \"text-align: left;\">Any</th><th title = \"Any\" style = \"text-align: left;\">Any</th><th title = \"Any\" style = \"text-align: left;\">Any</th><th title = \"Any\" style = \"text-align: left;\">Any</th><th title = \"Any\" style = \"text-align: left;\">Any</th><th title = \"Any\" style = \"text-align: left;\">Any</th><th title = \"Any\" style = \"text-align: left;\">Any</th><th title = \"Any\" style = \"text-align: left;\">Any</th><th title = \"Any\" style = \"text-align: left;\">Any</th><th title = \"Any\" style = \"text-align: left;\">Any</th><th title = \"Any\" style = \"text-align: left;\">Any</th><th title = \"Any\" style = \"text-align: left;\">Any</th><th title = \"Any\" style = \"text-align: left;\">Any</th><th title = \"Any\" style = \"text-align: left;\">Any</th><th title = \"Any\" style = \"text-align: left;\">Any</th><th title = \"Any\" style = \"text-align: left;\">Any</th><th title = \"Any\" style = \"text-align: left;\">Any</th><th title = \"Any\" style = \"text-align: left;\">Any</th><th title = \"Any\" style = \"text-align: left;\">Any</th><th title = \"Any\" style = \"text-align: left;\">Any</th><th title = \"Any\" style = \"text-align: left;\">Any</th><th title = \"Any\" style = \"text-align: left;\">Any</th><th title = \"Float64\" style = \"text-align: left;\">Float64</th><th title = \"Int64\" style = \"text-align: left;\">Int64</th><th title = \"Any\" style = \"text-align: left;\">Any</th><th title = \"Any\" style = \"text-align: left;\">Any</th><th title = \"Any\" style = \"text-align: left;\">Any</th><th title = \"Any\" style = \"text-align: left;\">Any</th><th title = \"Any\" style = \"text-align: left;\">Any</th><th title = \"Any\" style = \"text-align: left;\">Any</th><th title = \"Any\" style = \"text-align: left;\">Any</th><th title = \"Any\" style = \"text-align: left;\">Any</th><th title = \"Any\" style = \"text-align: left;\">Any</th><th title = \"Any\" style = \"text-align: left;\">Any</th><th title = \"Any\" style = \"text-align: left;\">Any</th><th title = \"Any\" style = \"text-align: left;\">Any</th><th title = \"Any\" style = \"text-align: left;\">Any</th><th title = \"Any\" style = \"text-align: left;\">Any</th><th title = \"Any\" style = \"text-align: left;\">Any</th><th title = \"Any\" style = \"text-align: left;\">Any</th><th title = \"Any\" style = \"text-align: left;\">Any</th><th title = \"Any\" style = \"text-align: left;\">Any</th><th title = \"Any\" style = \"text-align: left;\">Any</th><th title = \"Any\" style = \"text-align: left;\">Any</th><th title = \"Any\" style = \"text-align: left;\">Any</th><th title = \"Any\" style = \"text-align: left;\">Any</th><th title = \"Any\" style = \"text-align: left;\">Any</th><th title = \"Any\" style = \"text-align: left;\">Any</th><th title = \"Any\" style = \"text-align: left;\">Any</th><th title = \"Any\" style = \"text-align: left;\">Any</th><th title = \"Any\" style = \"text-align: left;\">Any</th><th title = \"Any\" style = \"text-align: left;\">Any</th><th title = \"Any\" style = \"text-align: left;\">Any</th><th title = \"Any\" style = \"text-align: left;\">Any</th><th title = \"Any\" style = \"text-align: left;\">Any</th><th title = \"Any\" style = \"text-align: left;\">Any</th><th title = \"Any\" style = \"text-align: left;\">Any</th><th title = \"Any\" style = \"text-align: left;\">Any</th><th title = \"Any\" style = \"text-align: left;\">Any</th><th title = \"Any\" style = \"text-align: left;\">Any</th><th title = \"Any\" style = \"text-align: left;\">Any</th><th title = \"Any\" style = \"text-align: left;\">Any</th><th title = \"Any\" style = \"text-align: left;\">Any</th><th title = \"Any\" style = \"text-align: left;\">Any</th><th title = \"Float64\" style = \"text-align: left;\">Float64</th><th title = \"Float64\" style = \"text-align: left;\">Float64</th><th title = \"Float64\" style = \"text-align: left;\">Float64</th><th title = \"Float64\" style = \"text-align: left;\">Float64</th><th title = \"Float64\" style = \"text-align: left;\">Float64</th></tr></thead><tbody><tr><td class = \"rowNumber\" style = \"font-weight: bold; text-align: right;\">1</td><td style = \"text-align: left;\">3</td><td style = \"text-align: left;\">mo_BGO40_17_14_3_Family_129f_Bond_MP97_08_0001.sfrm</td><td style = \"text-align: left;\">2</td><td style = \"text-align: left;\">20240718_BGO_40.p4p</td><td style = \"text-align: left;\">2024-07-19T09:42:52</td><td style = \"text-align: left;\">128.5</td><td style = \"text-align: left;\">97.0</td><td style = \"text-align: left;\">86.3</td><td style = \"text-align: left;\">36.1206</td><td style = \"text-align: left;\">4.0</td><td style = \"text-align: left;\">1800.0</td><td style = \"text-align: left;\">14</td><td style = \"text-align: left;\">-3</td><td style = \"text-align: left;\">17</td><td style = \"text-align: left;\">387.52</td><td style = \"text-align: left;\">512.709</td><td style = \"text-align: left;\">374.659</td><td style = \"text-align: left;\">513.208</td><td style = \"text-align: left;\">4223</td><td style = \"text-align: left;\">552.633</td><td style = \"text-align: left;\">3372.25</td><td style = \"text-align: left;\">1.80437</td><td style = \"text-align: left;\">2.68362</td><td style = \"text-align: left;\">1916.52</td><td style = \"text-align: left;\">1.90198</td><td style = \"text-align: left;\">2.47793</td><td style = \"text-align: left;\">4</td><td style = \"text-align: left;\">mo_BGO40_17_14_3_Family_129f_Bond_MP97_11_0001.sfrm</td><td style = \"text-align: left;\">2024-07-19T10:13:53</td><td style = \"text-align: left;\">-93.7</td><td style = \"text-align: left;\">4.0</td><td style = \"text-align: left;\">600.0</td><td style = \"text-align: left;\">387.621</td><td style = \"text-align: left;\">492.175</td><td style = \"text-align: left;\">374.733</td><td style = \"text-align: left;\">492.525</td><td style = \"text-align: left;\">2095</td><td style = \"text-align: left;\">178.753</td><td style = \"text-align: left;\">2047.18</td><td style = \"text-align: left;\">1.77131</td><td style = \"text-align: left;\">1.49563</td><td style = \"text-align: left;\">1023.55</td><td style = \"text-align: left;\">1.88262</td><td style = \"text-align: left;\">1.57206</td><td style = \"text-align: right;\">387.571</td><td style = \"text-align: right;\">494</td><td style = \"text-align: left;\">2</td><td style = \"text-align: left;\">mo_BGO40_17_14_3_Family_129f_Bond_MP97_05_0001.sfrm</td><td style = \"text-align: left;\">2024-07-19T09:11:30</td><td style = \"text-align: left;\">89.4</td><td style = \"text-align: left;\">34.7796</td><td style = \"text-align: left;\">4.0</td><td style = \"text-align: left;\">1800.0</td><td style = \"text-align: left;\">14</td><td style = \"text-align: left;\">17</td><td style = \"text-align: left;\">-3</td><td style = \"text-align: left;\">390.3</td><td style = \"text-align: left;\">503.748</td><td style = \"text-align: left;\">403.448</td><td style = \"text-align: left;\">503.903</td><td style = \"text-align: left;\">4329</td><td style = \"text-align: left;\">442.888</td><td style = \"text-align: left;\">4232.83</td><td style = \"text-align: left;\">1.6236</td><td style = \"text-align: left;\">1.54672</td><td style = \"text-align: left;\">2276.27</td><td style = \"text-align: left;\">1.68874</td><td style = \"text-align: left;\">1.52489</td><td style = \"text-align: left;\">1</td><td style = \"text-align: left;\">mo_BGO40_17_14_3_Family_129f_Bond_MP97_02_0001.sfrm</td><td style = \"text-align: left;\">2024-07-19T08:40:28</td><td style = \"text-align: left;\">-90.6</td><td style = \"text-align: left;\">4.0</td><td style = \"text-align: left;\">1800.0</td><td style = \"text-align: left;\">389.91</td><td style = \"text-align: left;\">504.614</td><td style = \"text-align: left;\">402.953</td><td style = \"text-align: left;\">504.69</td><td style = \"text-align: left;\">4574</td><td style = \"text-align: left;\">406.897</td><td style = \"text-align: left;\">4222.58</td><td style = \"text-align: left;\">1.56374</td><td style = \"text-align: left;\">1.4083</td><td style = \"text-align: left;\">2254.61</td><td style = \"text-align: left;\">1.67666</td><td style = \"text-align: left;\">1.49195</td><td style = \"text-align: right;\">390.105</td><td style = \"text-align: right;\">97.0764</td><td style = \"text-align: right;\">-0.00604661</td><td style = \"text-align: right;\">10.5187</td><td style = \"text-align: right;\">0.000490357</td></tr></tbody></table></div>"
      ],
      "text/latex": [
       "\\begin{tabular}{r|ccccc}\n",
       "\t& nframe\\_pos & frame\\_pos & norient & orient & \\\\\n",
       "\t\\hline\n",
       "\t& Any & Any & Any & Any & \\\\\n",
       "\t\\hline\n",
       "\t1 & 3 & mo\\_BGO40\\_17\\_14\\_3\\_Family\\_129f\\_Bond\\_MP97\\_08\\_0001.sfrm & 2 & 20240718\\_BGO\\_40.p4p & $\\dots$ \\\\\n",
       "\\end{tabular}\n"
      ],
      "text/plain": [
       "\u001b[1m1×91 DataFrame\u001b[0m\n",
       "\u001b[1m Row \u001b[0m│\u001b[1m nframe_pos \u001b[0m\u001b[1m frame_pos                         \u001b[0m\u001b[1m norient \u001b[0m\u001b[1m orient         \u001b[0m ⋯\n",
       "     │\u001b[90m Any        \u001b[0m\u001b[90m Any                               \u001b[0m\u001b[90m Any     \u001b[0m\u001b[90m Any            \u001b[0m ⋯\n",
       "─────┼──────────────────────────────────────────────────────────────────────────\n",
       "   1 │ 3           mo_BGO40_17_14_3_Family_129f_Bon…  2        20240718_BGO_40 ⋯\n",
       "\u001b[36m                                                              88 columns omitted\u001b[0m"
      ]
     },
     "execution_count": 16,
     "metadata": {},
     "output_type": "execute_result"
    }
   ],
   "source": [
    "eccentr = innerjoin(frid[frid.tthD .> 0, :], transform(frid, :tthD => -, renamecols = false),\n",
    "    on = [:tthD, :distance, :hklnorm2, :norient, :orient],\n",
    "    renamecols = \"_pos\" => \"_neg\"\n",
    ")\n",
    "subset!(eccentr, [:created_pos, :created_neg] => ByRow((c1, c2) -> abs(c1 - c2) < Day(1)))\n",
    "subset!(eccentr, [:phi_pos, :phi_neg] => ByRow((p1, p2) -> abs(rem(p1 - p2, 360, RoundNearest)) < 15))\n",
    "transform!(eccentr, [:h_pos, :k_pos, :l_pos, :distance, :tthD, :x1_mean_pos, :x1_mean_neg] => ByRow(bond_calc) => [:tth, :Δtth, :a, :Δa])"
   ]
  },
  {
   "cell_type": "code",
   "execution_count": 20,
   "id": "883892c4-5a6e-4822-bc3b-15562b4d33ff",
   "metadata": {},
   "outputs": [],
   "source": [
    "XLSX.openxlsx(\"$(name).xlsx\", mode=\"w\") do xf\n",
    "    sheet = xf[1]\n",
    "    XLSX.rename!(sheet, \"$(name)\")\n",
    "    XLSX.writetable!(xf[1], data)\n",
    "    sheet = XLSX.addsheet!(xf, \"bond\")\n",
    "    XLSX.writetable!(sheet, bond)\n",
    "    sheet = XLSX.addsheet!(xf, \"frid\")\n",
    "    XLSX.writetable!(sheet, frid)\n",
    "    sheet = XLSX.addsheet!(xf, \"eccentr\")\n",
    "    XLSX.writetable!(sheet, eccentr)\n",
    "end"
   ]
  },
  {
   "cell_type": "code",
   "execution_count": null,
   "id": "862bdcbf-b376-4f48-a32d-8bfae0306e41",
   "metadata": {},
   "outputs": [],
   "source": []
  }
 ],
 "metadata": {
  "kernelspec": {
   "display_name": "Julia 1.11.5",
   "language": "julia",
   "name": "julia-1.11"
  },
  "language_info": {
   "file_extension": ".jl",
   "mimetype": "application/julia",
   "name": "julia",
   "version": "1.11.5"
  }
 },
 "nbformat": 4,
 "nbformat_minor": 5
}
