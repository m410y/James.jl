{
 "cells": [
  {
   "cell_type": "code",
   "execution_count": 2,
   "id": "7c5fd85a-0a2e-43cf-b9b3-26e4febae4ae",
   "metadata": {},
   "outputs": [],
   "source": [
    "using DataFrames\n",
    "using Statistics\n",
    "using Dates\n",
    "using XLSX"
   ]
  },
  {
   "cell_type": "code",
   "execution_count": 3,
   "id": "7e4a9de4-5151-44bc-a06e-7237db5748d7",
   "metadata": {},
   "outputs": [
    {
     "data": {
      "text/plain": [
       "Dict{String, Float64} with 7 entries:\n",
       "  \"LaB6\"         => 4.15692\n",
       "  \"BGO_40\"       => 10.5182\n",
       "  \"Ge\"           => 5.65789\n",
       "  \"BGO_O4B\"      => 10.148\n",
       "  \"YEu_AM-17-22\" => 10.6174\n",
       "  \"Si_small\"     => 5.43104\n",
       "  \"Y2O3_O4B\"     => 10.6046"
      ]
     },
     "execution_count": 3,
     "metadata": {},
     "output_type": "execute_result"
    }
   ],
   "source": [
    "# λ = 0.70931715\n",
    "λ = 1.5405929\n",
    "ΔtthD = 0.005\n",
    "px = 0.1353\n",
    "standards = Dict(\n",
    "    \"Si_small\" => 5.431042,\n",
    "    \"Ge\" => 5.65789,\n",
    "    \"LaB6\" => 4.15692,\n",
    "    \"BGO_40\" => 10.5182,\n",
    "    \"BGO_O4B\" => 10.148,\n",
    "    \"Y2O3_O4B\" => 10.6046,\n",
    "    \"YEu_AM-17-22\" => 10.6174,\n",
    ")"
   ]
  },
  {
   "cell_type": "code",
   "execution_count": 4,
   "id": "57b22a1c-a7b6-4e97-8ff5-a21e9402bae9",
   "metadata": {},
   "outputs": [
    {
     "data": {
      "text/plain": [
       "bragg_tth (generic function with 1 method)"
      ]
     },
     "execution_count": 4,
     "metadata": {},
     "output_type": "execute_result"
    }
   ],
   "source": [
    "function bragg_tth(h, k, l)\n",
    "    global λ, a0\n",
    "    2asind(λ * hypot(h, k, l) / 2a0)\n",
    "end"
   ]
  },
  {
   "cell_type": "code",
   "execution_count": 5,
   "id": "9c62b4bc-421f-49c4-a9d1-2c9a5915e93e",
   "metadata": {},
   "outputs": [
    {
     "data": {
      "text/plain": [
       "bond_calc (generic function with 1 method)"
      ]
     },
     "execution_count": 5,
     "metadata": {},
     "output_type": "execute_result"
    }
   ],
   "source": [
    "function bond_calc(h, k, l, tth0, D, tthDp, tthDn, xp, xn)\n",
    "    global λ , ΔtthD, px, a0\n",
    "    γ = rad2deg(px / D) * cosd((tthDp + tthDn)/2)\n",
    "    tth = abs(rem((tthDp - tthDn) / 2, 360, RoundNearest)) - γ * (xp - xn) / 2\n",
    "    a = hypot(h, k, l) * λ / 2sind(tth / 2)\n",
    "    tth, tth - tth0, a, a - a0\n",
    "end"
   ]
  },
  {
   "cell_type": "code",
   "execution_count": 6,
   "id": "9ab07971-a71e-40c0-9c8f-6a1eaf80eec8",
   "metadata": {},
   "outputs": [
    {
     "data": {
      "text/plain": [
       "hklpos (generic function with 1 method)"
      ]
     },
     "execution_count": 6,
     "metadata": {},
     "output_type": "execute_result"
    }
   ],
   "source": [
    "function hklpos(h, k, l)\n",
    "    h != 0 ? h > 0 :\n",
    "    k != 0 ? k > 0 :\n",
    "    l > 0\n",
    "end"
   ]
  },
  {
   "cell_type": "code",
   "execution_count": 7,
   "id": "9b94adf6-d073-4fc3-b821-faf178824905",
   "metadata": {
    "scrolled": true
   },
   "outputs": [
    {
     "data": {
      "text/html": [
       "<div><div style = \"float: left;\"><span>6×12 DataFrame</span></div><div style = \"clear: both;\"></div></div><div class = \"data-frame\" style = \"overflow-x: scroll;\"><table class = \"data-frame\" style = \"margin-bottom: 6px;\"><thead><tr class = \"header\"><th class = \"rowNumber\" style = \"font-weight: bold; text-align: right;\">Row</th><th style = \"text-align: left;\">orient</th><th style = \"text-align: left;\">frame</th><th style = \"text-align: left;\">created</th><th style = \"text-align: left;\">distance</th><th style = \"text-align: left;\">tthD</th><th style = \"text-align: left;\">omega</th><th style = \"text-align: left;\">phi</th><th style = \"text-align: left;\">h</th><th style = \"text-align: left;\">k</th><th style = \"text-align: left;\">l</th><th style = \"text-align: left;\">x1</th><th style = \"text-align: left;\">tth0</th></tr><tr class = \"subheader headerLastRow\"><th class = \"rowNumber\" style = \"font-weight: bold; text-align: right;\"></th><th title = \"Any\" style = \"text-align: left;\">Any</th><th title = \"Any\" style = \"text-align: left;\">Any</th><th title = \"Any\" style = \"text-align: left;\">Any</th><th title = \"Any\" style = \"text-align: left;\">Any</th><th title = \"Any\" style = \"text-align: left;\">Any</th><th title = \"Any\" style = \"text-align: left;\">Any</th><th title = \"Any\" style = \"text-align: left;\">Any</th><th title = \"Any\" style = \"text-align: left;\">Any</th><th title = \"Any\" style = \"text-align: left;\">Any</th><th title = \"Any\" style = \"text-align: left;\">Any</th><th title = \"Any\" style = \"text-align: left;\">Any</th><th title = \"Float64\" style = \"text-align: left;\">Float64</th></tr></thead><tbody><tr><td class = \"rowNumber\" style = \"font-weight: bold; text-align: right;\">1</td><td style = \"text-align: left;\">20250615_YEu_AM-17-22.p4p</td><td style = \"text-align: left;\">cu_YEu_AM-17-22_6m84_96f_M80_OmSc4_600s_01_0001.sfrm</td><td style = \"text-align: left;\">2025-06-15T10:33:26</td><td style = \"text-align: left;\">96.3</td><td style = \"text-align: left;\">-80.0</td><td style = \"text-align: left;\">-94.0</td><td style = \"text-align: left;\">-124.6</td><td style = \"text-align: left;\">-6</td><td style = \"text-align: left;\">8</td><td style = \"text-align: left;\">-4</td><td style = \"text-align: left;\">681.643</td><td style = \"text-align: right;\">102.776</td></tr><tr><td class = \"rowNumber\" style = \"font-weight: bold; text-align: right;\">2</td><td style = \"text-align: left;\">20250615_YEu_AM-17-22.p4p</td><td style = \"text-align: left;\">cu_YEu_AM-17-22_6m84_96f_M80_OmSc4_600s_02_0001.sfrm</td><td style = \"text-align: left;\">2025-06-15T10:44:06</td><td style = \"text-align: left;\">96.3</td><td style = \"text-align: left;\">-80.0</td><td style = \"text-align: left;\">86.0</td><td style = \"text-align: left;\">-124.6</td><td style = \"text-align: left;\">6</td><td style = \"text-align: left;\">-8</td><td style = \"text-align: left;\">4</td><td style = \"text-align: left;\">681.411</td><td style = \"text-align: right;\">102.776</td></tr><tr><td class = \"rowNumber\" style = \"font-weight: bold; text-align: right;\">3</td><td style = \"text-align: left;\">20250615_YEu_AM-17-22.p4p</td><td style = \"text-align: left;\">cu_YEu_AM-17-22_6m84_96f_M80_OmSc4_600s_03_0001.sfrm</td><td style = \"text-align: left;\">2025-06-15T10:56:59</td><td style = \"text-align: left;\">96.3</td><td style = \"text-align: left;\">-79.9</td><td style = \"text-align: left;\">86.0</td><td style = \"text-align: left;\">-124.6</td><td style = \"text-align: left;\">6</td><td style = \"text-align: left;\">-8</td><td style = \"text-align: left;\">4</td><td style = \"text-align: left;\">682.828</td><td style = \"text-align: right;\">102.776</td></tr><tr><td class = \"rowNumber\" style = \"font-weight: bold; text-align: right;\">4</td><td style = \"text-align: left;\">20250615_YEu_AM-17-22.p4p</td><td style = \"text-align: left;\">cu_YEu_AM-17-22_4m6m8_96f_P126p2_OmSc4_600s_01_0001.sfrm</td><td style = \"text-align: left;\">2025-06-15T11:13:57</td><td style = \"text-align: left;\">96.3</td><td style = \"text-align: left;\">126.2</td><td style = \"text-align: left;\">-61.0</td><td style = \"text-align: left;\">-123.7</td><td style = \"text-align: left;\">4</td><td style = \"text-align: left;\">-6</td><td style = \"text-align: left;\">-8</td><td style = \"text-align: left;\">689.559</td><td style = \"text-align: right;\">102.776</td></tr><tr><td class = \"rowNumber\" style = \"font-weight: bold; text-align: right;\">5</td><td style = \"text-align: left;\">20250615_YEu_AM-17-22.p4p</td><td style = \"text-align: left;\">cu_YEu_AM-17-22_4m6m8_96f_P126p2_OmSc4_600s_02_0001.sfrm</td><td style = \"text-align: left;\">2025-06-15T11:24:36</td><td style = \"text-align: left;\">96.3</td><td style = \"text-align: left;\">126.2</td><td style = \"text-align: left;\">119.0</td><td style = \"text-align: left;\">-123.7</td><td style = \"text-align: left;\">-4</td><td style = \"text-align: left;\">6</td><td style = \"text-align: left;\">8</td><td style = \"text-align: left;\">689.794</td><td style = \"text-align: right;\">102.776</td></tr><tr><td class = \"rowNumber\" style = \"font-weight: bold; text-align: right;\">6</td><td style = \"text-align: left;\">20250615_YEu_AM-17-22.p4p</td><td style = \"text-align: left;\">cu_YEu_AM-17-22_4m6m8_96f_P126p2_OmSc4_600s_03_0001.sfrm</td><td style = \"text-align: left;\">2025-06-15T11:34:47</td><td style = \"text-align: left;\">96.3</td><td style = \"text-align: left;\">126.1</td><td style = \"text-align: left;\">119.0</td><td style = \"text-align: left;\">-123.7</td><td style = \"text-align: left;\">-4</td><td style = \"text-align: left;\">6</td><td style = \"text-align: left;\">8</td><td style = \"text-align: left;\">688.368</td><td style = \"text-align: right;\">102.776</td></tr></tbody></table></div>"
      ],
      "text/latex": [
       "\\begin{tabular}{r|ccc}\n",
       "\t& orient & frame & \\\\\n",
       "\t\\hline\n",
       "\t& Any & Any & \\\\\n",
       "\t\\hline\n",
       "\t1 & 20250615\\_YEu\\_AM-17-22.p4p & cu\\_YEu\\_AM-17-22\\_6m84\\_96f\\_M80\\_OmSc4\\_600s\\_01\\_0001.sfrm & $\\dots$ \\\\\n",
       "\t2 & 20250615\\_YEu\\_AM-17-22.p4p & cu\\_YEu\\_AM-17-22\\_6m84\\_96f\\_M80\\_OmSc4\\_600s\\_02\\_0001.sfrm & $\\dots$ \\\\\n",
       "\t3 & 20250615\\_YEu\\_AM-17-22.p4p & cu\\_YEu\\_AM-17-22\\_6m84\\_96f\\_M80\\_OmSc4\\_600s\\_03\\_0001.sfrm & $\\dots$ \\\\\n",
       "\t4 & 20250615\\_YEu\\_AM-17-22.p4p & cu\\_YEu\\_AM-17-22\\_4m6m8\\_96f\\_P126p2\\_OmSc4\\_600s\\_01\\_0001.sfrm & $\\dots$ \\\\\n",
       "\t5 & 20250615\\_YEu\\_AM-17-22.p4p & cu\\_YEu\\_AM-17-22\\_4m6m8\\_96f\\_P126p2\\_OmSc4\\_600s\\_02\\_0001.sfrm & $\\dots$ \\\\\n",
       "\t6 & 20250615\\_YEu\\_AM-17-22.p4p & cu\\_YEu\\_AM-17-22\\_4m6m8\\_96f\\_P126p2\\_OmSc4\\_600s\\_03\\_0001.sfrm & $\\dots$ \\\\\n",
       "\\end{tabular}\n"
      ],
      "text/plain": [
       "\u001b[1m6×12 DataFrame\u001b[0m\n",
       "\u001b[1m Row \u001b[0m│\u001b[1m orient                    \u001b[0m\u001b[1m frame                             \u001b[0m\u001b[1m created  \u001b[0m ⋯\n",
       "     │\u001b[90m Any                       \u001b[0m\u001b[90m Any                               \u001b[0m\u001b[90m Any      \u001b[0m ⋯\n",
       "─────┼──────────────────────────────────────────────────────────────────────────\n",
       "   1 │ 20250615_YEu_AM-17-22.p4p  cu_YEu_AM-17-22_6m84_96f_M80_OmS…  2025-06-1 ⋯\n",
       "   2 │ 20250615_YEu_AM-17-22.p4p  cu_YEu_AM-17-22_6m84_96f_M80_OmS…  2025-06-1\n",
       "   3 │ 20250615_YEu_AM-17-22.p4p  cu_YEu_AM-17-22_6m84_96f_M80_OmS…  2025-06-1\n",
       "   4 │ 20250615_YEu_AM-17-22.p4p  cu_YEu_AM-17-22_4m6m8_96f_P126p2…  2025-06-1\n",
       "   5 │ 20250615_YEu_AM-17-22.p4p  cu_YEu_AM-17-22_4m6m8_96f_P126p2…  2025-06-1 ⋯\n",
       "   6 │ 20250615_YEu_AM-17-22.p4p  cu_YEu_AM-17-22_4m6m8_96f_P126p2…  2025-06-1\n",
       "\u001b[36m                                                              10 columns omitted\u001b[0m"
      ]
     },
     "execution_count": 7,
     "metadata": {},
     "output_type": "execute_result"
    }
   ],
   "source": [
    "name = \"YEu_AM-17-22\"\n",
    "a0 = standards[name]\n",
    "data = DataFrame(XLSX.readtable(\"$(name).xlsx\", name))\n",
    "select!(data, :orient, :frame, :created, :distance, :tthD, :omega, :phi, :h, :k, :l, :x1)\n",
    "transform!(data, [:h, :k, :l] => ByRow(bragg_tth) => :tth0)"
   ]
  },
  {
   "cell_type": "code",
   "execution_count": 8,
   "id": "49386a44-fbf1-42f2-8667-dfd69c700ea5",
   "metadata": {
    "scrolled": true
   },
   "outputs": [
    {
     "data": {
      "text/html": [
       "<div><div style = \"float: left;\"><span>9×25 DataFrame</span></div><div style = \"clear: both;\"></div></div><div class = \"data-frame\" style = \"overflow-x: scroll;\"><table class = \"data-frame\" style = \"margin-bottom: 6px;\"><thead><tr class = \"header\"><th class = \"rowNumber\" style = \"font-weight: bold; text-align: right;\">Row</th><th style = \"text-align: left;\">orient</th><th style = \"text-align: left;\">frame_pos</th><th style = \"text-align: left;\">created_pos</th><th style = \"text-align: left;\">distance</th><th style = \"text-align: left;\">tthD_pos</th><th style = \"text-align: left;\">omega_pos</th><th style = \"text-align: left;\">phi_pos</th><th style = \"text-align: left;\">h_pos</th><th style = \"text-align: left;\">k_pos</th><th style = \"text-align: left;\">l_pos</th><th style = \"text-align: left;\">x1_pos</th><th style = \"text-align: left;\">tth0</th><th style = \"text-align: left;\">frame_neg</th><th style = \"text-align: left;\">created_neg</th><th style = \"text-align: left;\">tthD_neg</th><th style = \"text-align: left;\">omega_neg</th><th style = \"text-align: left;\">phi_neg</th><th style = \"text-align: left;\">h_neg</th><th style = \"text-align: left;\">k_neg</th><th style = \"text-align: left;\">l_neg</th><th style = \"text-align: left;\">x1_neg</th><th style = \"text-align: left;\">tth</th><th style = \"text-align: left;\">Δtth</th><th style = \"text-align: left;\">a</th><th style = \"text-align: left;\">Δa</th></tr><tr class = \"subheader headerLastRow\"><th class = \"rowNumber\" style = \"font-weight: bold; text-align: right;\"></th><th title = \"Any\" style = \"text-align: left;\">Any</th><th title = \"Any\" style = \"text-align: left;\">Any</th><th title = \"Any\" style = \"text-align: left;\">Any</th><th title = \"Any\" style = \"text-align: left;\">Any</th><th title = \"Any\" style = \"text-align: left;\">Any</th><th title = \"Any\" style = \"text-align: left;\">Any</th><th title = \"Any\" style = \"text-align: left;\">Any</th><th title = \"Any\" style = \"text-align: left;\">Any</th><th title = \"Any\" style = \"text-align: left;\">Any</th><th title = \"Any\" style = \"text-align: left;\">Any</th><th title = \"Any\" style = \"text-align: left;\">Any</th><th title = \"Float64\" style = \"text-align: left;\">Float64</th><th title = \"Any\" style = \"text-align: left;\">Any</th><th title = \"Any\" style = \"text-align: left;\">Any</th><th title = \"Any\" style = \"text-align: left;\">Any</th><th title = \"Any\" style = \"text-align: left;\">Any</th><th title = \"Any\" style = \"text-align: left;\">Any</th><th title = \"Any\" style = \"text-align: left;\">Any</th><th title = \"Any\" style = \"text-align: left;\">Any</th><th title = \"Any\" style = \"text-align: left;\">Any</th><th title = \"Any\" style = \"text-align: left;\">Any</th><th title = \"Float64\" style = \"text-align: left;\">Float64</th><th title = \"Float64\" style = \"text-align: left;\">Float64</th><th title = \"Float64\" style = \"text-align: left;\">Float64</th><th title = \"Float64\" style = \"text-align: left;\">Float64</th></tr></thead><tbody><tr><td class = \"rowNumber\" style = \"font-weight: bold; text-align: right;\">1</td><td style = \"text-align: left;\">20250615_YEu_AM-17-22.p4p</td><td style = \"text-align: left;\">cu_YEu_AM-17-22_4m6m8_96f_P126p2_OmSc4_600s_01_0001.sfrm</td><td style = \"text-align: left;\">2025-06-15T11:13:57</td><td style = \"text-align: left;\">96.3</td><td style = \"text-align: left;\">126.2</td><td style = \"text-align: left;\">-61.0</td><td style = \"text-align: left;\">-123.7</td><td style = \"text-align: left;\">4</td><td style = \"text-align: left;\">-6</td><td style = \"text-align: left;\">-8</td><td style = \"text-align: left;\">689.559</td><td style = \"text-align: right;\">102.776</td><td style = \"text-align: left;\">cu_YEu_AM-17-22_6m84_96f_M80_OmSc4_600s_01_0001.sfrm</td><td style = \"text-align: left;\">2025-06-15T10:33:26</td><td style = \"text-align: left;\">-80.0</td><td style = \"text-align: left;\">-94.0</td><td style = \"text-align: left;\">-124.6</td><td style = \"text-align: left;\">-6</td><td style = \"text-align: left;\">8</td><td style = \"text-align: left;\">-4</td><td style = \"text-align: left;\">681.643</td><td style = \"text-align: right;\">102.807</td><td style = \"text-align: right;\">0.030606</td><td style = \"text-align: right;\">10.6151</td><td style = \"text-align: right;\">-0.00226387</td></tr><tr><td class = \"rowNumber\" style = \"font-weight: bold; text-align: right;\">2</td><td style = \"text-align: left;\">20250615_YEu_AM-17-22.p4p</td><td style = \"text-align: left;\">cu_YEu_AM-17-22_4m6m8_96f_P126p2_OmSc4_600s_02_0001.sfrm</td><td style = \"text-align: left;\">2025-06-15T11:24:36</td><td style = \"text-align: left;\">96.3</td><td style = \"text-align: left;\">126.2</td><td style = \"text-align: left;\">119.0</td><td style = \"text-align: left;\">-123.7</td><td style = \"text-align: left;\">-4</td><td style = \"text-align: left;\">6</td><td style = \"text-align: left;\">8</td><td style = \"text-align: left;\">689.794</td><td style = \"text-align: right;\">102.776</td><td style = \"text-align: left;\">cu_YEu_AM-17-22_6m84_96f_M80_OmSc4_600s_01_0001.sfrm</td><td style = \"text-align: left;\">2025-06-15T10:33:26</td><td style = \"text-align: left;\">-80.0</td><td style = \"text-align: left;\">-94.0</td><td style = \"text-align: left;\">-124.6</td><td style = \"text-align: left;\">-6</td><td style = \"text-align: left;\">8</td><td style = \"text-align: left;\">-4</td><td style = \"text-align: left;\">681.643</td><td style = \"text-align: right;\">102.798</td><td style = \"text-align: right;\">0.0219149</td><td style = \"text-align: right;\">10.6158</td><td style = \"text-align: right;\">-0.00162118</td></tr><tr><td class = \"rowNumber\" style = \"font-weight: bold; text-align: right;\">3</td><td style = \"text-align: left;\">20250615_YEu_AM-17-22.p4p</td><td style = \"text-align: left;\">cu_YEu_AM-17-22_4m6m8_96f_P126p2_OmSc4_600s_03_0001.sfrm</td><td style = \"text-align: left;\">2025-06-15T11:34:47</td><td style = \"text-align: left;\">96.3</td><td style = \"text-align: left;\">126.1</td><td style = \"text-align: left;\">119.0</td><td style = \"text-align: left;\">-123.7</td><td style = \"text-align: left;\">-4</td><td style = \"text-align: left;\">6</td><td style = \"text-align: left;\">8</td><td style = \"text-align: left;\">688.368</td><td style = \"text-align: right;\">102.776</td><td style = \"text-align: left;\">cu_YEu_AM-17-22_6m84_96f_M80_OmSc4_600s_01_0001.sfrm</td><td style = \"text-align: left;\">2025-06-15T10:33:26</td><td style = \"text-align: left;\">-80.0</td><td style = \"text-align: left;\">-94.0</td><td style = \"text-align: left;\">-124.6</td><td style = \"text-align: left;\">-6</td><td style = \"text-align: left;\">8</td><td style = \"text-align: left;\">-4</td><td style = \"text-align: left;\">681.643</td><td style = \"text-align: right;\">102.801</td><td style = \"text-align: right;\">0.0246152</td><td style = \"text-align: right;\">10.6156</td><td style = \"text-align: right;\">-0.00182087</td></tr><tr><td class = \"rowNumber\" style = \"font-weight: bold; text-align: right;\">4</td><td style = \"text-align: left;\">20250615_YEu_AM-17-22.p4p</td><td style = \"text-align: left;\">cu_YEu_AM-17-22_4m6m8_96f_P126p2_OmSc4_600s_01_0001.sfrm</td><td style = \"text-align: left;\">2025-06-15T11:13:57</td><td style = \"text-align: left;\">96.3</td><td style = \"text-align: left;\">126.2</td><td style = \"text-align: left;\">-61.0</td><td style = \"text-align: left;\">-123.7</td><td style = \"text-align: left;\">4</td><td style = \"text-align: left;\">-6</td><td style = \"text-align: left;\">-8</td><td style = \"text-align: left;\">689.559</td><td style = \"text-align: right;\">102.776</td><td style = \"text-align: left;\">cu_YEu_AM-17-22_6m84_96f_M80_OmSc4_600s_02_0001.sfrm</td><td style = \"text-align: left;\">2025-06-15T10:44:06</td><td style = \"text-align: left;\">-80.0</td><td style = \"text-align: left;\">86.0</td><td style = \"text-align: left;\">-124.6</td><td style = \"text-align: left;\">6</td><td style = \"text-align: left;\">-8</td><td style = \"text-align: left;\">4</td><td style = \"text-align: left;\">681.411</td><td style = \"text-align: right;\">102.798</td><td style = \"text-align: right;\">0.0220025</td><td style = \"text-align: right;\">10.6158</td><td style = \"text-align: right;\">-0.00162766</td></tr><tr><td class = \"rowNumber\" style = \"font-weight: bold; text-align: right;\">5</td><td style = \"text-align: left;\">20250615_YEu_AM-17-22.p4p</td><td style = \"text-align: left;\">cu_YEu_AM-17-22_4m6m8_96f_P126p2_OmSc4_600s_02_0001.sfrm</td><td style = \"text-align: left;\">2025-06-15T11:24:36</td><td style = \"text-align: left;\">96.3</td><td style = \"text-align: left;\">126.2</td><td style = \"text-align: left;\">119.0</td><td style = \"text-align: left;\">-123.7</td><td style = \"text-align: left;\">-4</td><td style = \"text-align: left;\">6</td><td style = \"text-align: left;\">8</td><td style = \"text-align: left;\">689.794</td><td style = \"text-align: right;\">102.776</td><td style = \"text-align: left;\">cu_YEu_AM-17-22_6m84_96f_M80_OmSc4_600s_02_0001.sfrm</td><td style = \"text-align: left;\">2025-06-15T10:44:06</td><td style = \"text-align: left;\">-80.0</td><td style = \"text-align: left;\">86.0</td><td style = \"text-align: left;\">-124.6</td><td style = \"text-align: left;\">6</td><td style = \"text-align: left;\">-8</td><td style = \"text-align: left;\">4</td><td style = \"text-align: left;\">681.411</td><td style = \"text-align: right;\">102.79</td><td style = \"text-align: right;\">0.0133113</td><td style = \"text-align: right;\">10.6164</td><td style = \"text-align: right;\">-0.000984825</td></tr><tr><td class = \"rowNumber\" style = \"font-weight: bold; text-align: right;\">6</td><td style = \"text-align: left;\">20250615_YEu_AM-17-22.p4p</td><td style = \"text-align: left;\">cu_YEu_AM-17-22_4m6m8_96f_P126p2_OmSc4_600s_03_0001.sfrm</td><td style = \"text-align: left;\">2025-06-15T11:34:47</td><td style = \"text-align: left;\">96.3</td><td style = \"text-align: left;\">126.1</td><td style = \"text-align: left;\">119.0</td><td style = \"text-align: left;\">-123.7</td><td style = \"text-align: left;\">-4</td><td style = \"text-align: left;\">6</td><td style = \"text-align: left;\">8</td><td style = \"text-align: left;\">688.368</td><td style = \"text-align: right;\">102.776</td><td style = \"text-align: left;\">cu_YEu_AM-17-22_6m84_96f_M80_OmSc4_600s_02_0001.sfrm</td><td style = \"text-align: left;\">2025-06-15T10:44:06</td><td style = \"text-align: left;\">-80.0</td><td style = \"text-align: left;\">86.0</td><td style = \"text-align: left;\">-124.6</td><td style = \"text-align: left;\">6</td><td style = \"text-align: left;\">-8</td><td style = \"text-align: left;\">4</td><td style = \"text-align: left;\">681.411</td><td style = \"text-align: right;\">102.792</td><td style = \"text-align: right;\">0.0160084</td><td style = \"text-align: right;\">10.6162</td><td style = \"text-align: right;\">-0.00118433</td></tr><tr><td class = \"rowNumber\" style = \"font-weight: bold; text-align: right;\">7</td><td style = \"text-align: left;\">20250615_YEu_AM-17-22.p4p</td><td style = \"text-align: left;\">cu_YEu_AM-17-22_4m6m8_96f_P126p2_OmSc4_600s_01_0001.sfrm</td><td style = \"text-align: left;\">2025-06-15T11:13:57</td><td style = \"text-align: left;\">96.3</td><td style = \"text-align: left;\">126.2</td><td style = \"text-align: left;\">-61.0</td><td style = \"text-align: left;\">-123.7</td><td style = \"text-align: left;\">4</td><td style = \"text-align: left;\">-6</td><td style = \"text-align: left;\">-8</td><td style = \"text-align: left;\">689.559</td><td style = \"text-align: right;\">102.776</td><td style = \"text-align: left;\">cu_YEu_AM-17-22_6m84_96f_M80_OmSc4_600s_03_0001.sfrm</td><td style = \"text-align: left;\">2025-06-15T10:56:59</td><td style = \"text-align: left;\">-79.9</td><td style = \"text-align: left;\">86.0</td><td style = \"text-align: left;\">-124.6</td><td style = \"text-align: left;\">6</td><td style = \"text-align: left;\">-8</td><td style = \"text-align: left;\">4</td><td style = \"text-align: left;\">682.828</td><td style = \"text-align: right;\">102.801</td><td style = \"text-align: right;\">0.0245577</td><td style = \"text-align: right;\">10.6156</td><td style = \"text-align: right;\">-0.00181662</td></tr><tr><td class = \"rowNumber\" style = \"font-weight: bold; text-align: right;\">8</td><td style = \"text-align: left;\">20250615_YEu_AM-17-22.p4p</td><td style = \"text-align: left;\">cu_YEu_AM-17-22_4m6m8_96f_P126p2_OmSc4_600s_02_0001.sfrm</td><td style = \"text-align: left;\">2025-06-15T11:24:36</td><td style = \"text-align: left;\">96.3</td><td style = \"text-align: left;\">126.2</td><td style = \"text-align: left;\">119.0</td><td style = \"text-align: left;\">-123.7</td><td style = \"text-align: left;\">-4</td><td style = \"text-align: left;\">6</td><td style = \"text-align: left;\">8</td><td style = \"text-align: left;\">689.794</td><td style = \"text-align: right;\">102.776</td><td style = \"text-align: left;\">cu_YEu_AM-17-22_6m84_96f_M80_OmSc4_600s_03_0001.sfrm</td><td style = \"text-align: left;\">2025-06-15T10:56:59</td><td style = \"text-align: left;\">-79.9</td><td style = \"text-align: left;\">86.0</td><td style = \"text-align: left;\">-124.6</td><td style = \"text-align: left;\">6</td><td style = \"text-align: left;\">-8</td><td style = \"text-align: left;\">4</td><td style = \"text-align: left;\">682.828</td><td style = \"text-align: right;\">102.792</td><td style = \"text-align: right;\">0.0158697</td><td style = \"text-align: right;\">10.6162</td><td style = \"text-align: right;\">-0.00117407</td></tr><tr><td class = \"rowNumber\" style = \"font-weight: bold; text-align: right;\">9</td><td style = \"text-align: left;\">20250615_YEu_AM-17-22.p4p</td><td style = \"text-align: left;\">cu_YEu_AM-17-22_4m6m8_96f_P126p2_OmSc4_600s_03_0001.sfrm</td><td style = \"text-align: left;\">2025-06-15T11:34:47</td><td style = \"text-align: left;\">96.3</td><td style = \"text-align: left;\">126.1</td><td style = \"text-align: left;\">119.0</td><td style = \"text-align: left;\">-123.7</td><td style = \"text-align: left;\">-4</td><td style = \"text-align: left;\">6</td><td style = \"text-align: left;\">8</td><td style = \"text-align: left;\">688.368</td><td style = \"text-align: right;\">102.776</td><td style = \"text-align: left;\">cu_YEu_AM-17-22_6m84_96f_M80_OmSc4_600s_03_0001.sfrm</td><td style = \"text-align: left;\">2025-06-15T10:56:59</td><td style = \"text-align: left;\">-79.9</td><td style = \"text-align: left;\">86.0</td><td style = \"text-align: left;\">-124.6</td><td style = \"text-align: left;\">6</td><td style = \"text-align: left;\">-8</td><td style = \"text-align: left;\">4</td><td style = \"text-align: left;\">682.828</td><td style = \"text-align: right;\">102.795</td><td style = \"text-align: right;\">0.0185665</td><td style = \"text-align: right;\">10.616</td><td style = \"text-align: right;\">-0.00137353</td></tr></tbody></table></div>"
      ],
      "text/latex": [
       "\\begin{tabular}{r|ccc}\n",
       "\t& orient & frame\\_pos & \\\\\n",
       "\t\\hline\n",
       "\t& Any & Any & \\\\\n",
       "\t\\hline\n",
       "\t1 & 20250615\\_YEu\\_AM-17-22.p4p & cu\\_YEu\\_AM-17-22\\_4m6m8\\_96f\\_P126p2\\_OmSc4\\_600s\\_01\\_0001.sfrm & $\\dots$ \\\\\n",
       "\t2 & 20250615\\_YEu\\_AM-17-22.p4p & cu\\_YEu\\_AM-17-22\\_4m6m8\\_96f\\_P126p2\\_OmSc4\\_600s\\_02\\_0001.sfrm & $\\dots$ \\\\\n",
       "\t3 & 20250615\\_YEu\\_AM-17-22.p4p & cu\\_YEu\\_AM-17-22\\_4m6m8\\_96f\\_P126p2\\_OmSc4\\_600s\\_03\\_0001.sfrm & $\\dots$ \\\\\n",
       "\t4 & 20250615\\_YEu\\_AM-17-22.p4p & cu\\_YEu\\_AM-17-22\\_4m6m8\\_96f\\_P126p2\\_OmSc4\\_600s\\_01\\_0001.sfrm & $\\dots$ \\\\\n",
       "\t5 & 20250615\\_YEu\\_AM-17-22.p4p & cu\\_YEu\\_AM-17-22\\_4m6m8\\_96f\\_P126p2\\_OmSc4\\_600s\\_02\\_0001.sfrm & $\\dots$ \\\\\n",
       "\t6 & 20250615\\_YEu\\_AM-17-22.p4p & cu\\_YEu\\_AM-17-22\\_4m6m8\\_96f\\_P126p2\\_OmSc4\\_600s\\_03\\_0001.sfrm & $\\dots$ \\\\\n",
       "\t7 & 20250615\\_YEu\\_AM-17-22.p4p & cu\\_YEu\\_AM-17-22\\_4m6m8\\_96f\\_P126p2\\_OmSc4\\_600s\\_01\\_0001.sfrm & $\\dots$ \\\\\n",
       "\t8 & 20250615\\_YEu\\_AM-17-22.p4p & cu\\_YEu\\_AM-17-22\\_4m6m8\\_96f\\_P126p2\\_OmSc4\\_600s\\_02\\_0001.sfrm & $\\dots$ \\\\\n",
       "\t9 & 20250615\\_YEu\\_AM-17-22.p4p & cu\\_YEu\\_AM-17-22\\_4m6m8\\_96f\\_P126p2\\_OmSc4\\_600s\\_03\\_0001.sfrm & $\\dots$ \\\\\n",
       "\\end{tabular}\n"
      ],
      "text/plain": [
       "\u001b[1m9×25 DataFrame\u001b[0m\n",
       "\u001b[1m Row \u001b[0m│\u001b[1m orient                    \u001b[0m\u001b[1m frame_pos                         \u001b[0m\u001b[1m created_p\u001b[0m ⋯\n",
       "     │\u001b[90m Any                       \u001b[0m\u001b[90m Any                               \u001b[0m\u001b[90m Any      \u001b[0m ⋯\n",
       "─────┼──────────────────────────────────────────────────────────────────────────\n",
       "   1 │ 20250615_YEu_AM-17-22.p4p  cu_YEu_AM-17-22_4m6m8_96f_P126p2…  2025-06-1 ⋯\n",
       "   2 │ 20250615_YEu_AM-17-22.p4p  cu_YEu_AM-17-22_4m6m8_96f_P126p2…  2025-06-1\n",
       "   3 │ 20250615_YEu_AM-17-22.p4p  cu_YEu_AM-17-22_4m6m8_96f_P126p2…  2025-06-1\n",
       "   4 │ 20250615_YEu_AM-17-22.p4p  cu_YEu_AM-17-22_4m6m8_96f_P126p2…  2025-06-1\n",
       "   5 │ 20250615_YEu_AM-17-22.p4p  cu_YEu_AM-17-22_4m6m8_96f_P126p2…  2025-06-1 ⋯\n",
       "   6 │ 20250615_YEu_AM-17-22.p4p  cu_YEu_AM-17-22_4m6m8_96f_P126p2…  2025-06-1\n",
       "   7 │ 20250615_YEu_AM-17-22.p4p  cu_YEu_AM-17-22_4m6m8_96f_P126p2…  2025-06-1\n",
       "   8 │ 20250615_YEu_AM-17-22.p4p  cu_YEu_AM-17-22_4m6m8_96f_P126p2…  2025-06-1\n",
       "   9 │ 20250615_YEu_AM-17-22.p4p  cu_YEu_AM-17-22_4m6m8_96f_P126p2…  2025-06-1 ⋯\n",
       "\u001b[36m                                                              23 columns omitted\u001b[0m"
      ]
     },
     "execution_count": 8,
     "metadata": {},
     "output_type": "execute_result"
    }
   ],
   "source": [
    "bond = innerjoin(data[data.tthD .> 0, :], data[data.tthD .< 0, :],\n",
    "    on = [:distance, :tth0, :orient],\n",
    "    renamecols = \"_pos\" => \"_neg\",\n",
    ")\n",
    "subset!(bond, [:created_pos, :created_neg] => ByRow((c1, c2) -> abs(c1 - c2) < Day(1)))\n",
    "subset!(bond, [:phi_pos, :phi_neg] => ByRow((p1, p2) -> abs(rem(p1 - p2, 360, RoundNearest)) < 15))\n",
    "subset!(bond, [:x1_pos, :x1_neg] => ByRow((x1, x2) -> abs(x1 - x2) < 10))\n",
    "transform!(bond, [:h_pos, :k_pos, :l_pos, :tth0, :distance, :tthD_pos, :tthD_neg, :x1_pos, :x1_neg] => ByRow(bond_calc) => [:tth, :Δtth, :a, :Δa])"
   ]
  },
  {
   "cell_type": "code",
   "execution_count": 9,
   "id": "082d70b9-e2b7-4c79-9ef4-519e1ec33f10",
   "metadata": {
    "scrolled": true
   },
   "outputs": [
    {
     "data": {
      "text/html": [
       "<div><div style = \"float: left;\"><span>2×17 DataFrame</span></div><div style = \"clear: both;\"></div></div><div class = \"data-frame\" style = \"overflow-x: scroll;\"><table class = \"data-frame\" style = \"margin-bottom: 6px;\"><thead><tr class = \"header\"><th class = \"rowNumber\" style = \"font-weight: bold; text-align: right;\">Row</th><th style = \"text-align: left;\">orient</th><th style = \"text-align: left;\">frame</th><th style = \"text-align: left;\">created</th><th style = \"text-align: left;\">distance</th><th style = \"text-align: left;\">tthD</th><th style = \"text-align: left;\">omega</th><th style = \"text-align: left;\">phi</th><th style = \"text-align: left;\">h</th><th style = \"text-align: left;\">k</th><th style = \"text-align: left;\">l</th><th style = \"text-align: left;\">x1</th><th style = \"text-align: left;\">tth0</th><th style = \"text-align: left;\">frame_frid</th><th style = \"text-align: left;\">created_frid</th><th style = \"text-align: left;\">omega_frid</th><th style = \"text-align: left;\">x1_frid</th><th style = \"text-align: left;\">x1_mean</th></tr><tr class = \"subheader headerLastRow\"><th class = \"rowNumber\" style = \"font-weight: bold; text-align: right;\"></th><th title = \"Any\" style = \"text-align: left;\">Any</th><th title = \"Any\" style = \"text-align: left;\">Any</th><th title = \"Any\" style = \"text-align: left;\">Any</th><th title = \"Any\" style = \"text-align: left;\">Any</th><th title = \"Any\" style = \"text-align: left;\">Any</th><th title = \"Any\" style = \"text-align: left;\">Any</th><th title = \"Any\" style = \"text-align: left;\">Any</th><th title = \"Any\" style = \"text-align: left;\">Any</th><th title = \"Any\" style = \"text-align: left;\">Any</th><th title = \"Any\" style = \"text-align: left;\">Any</th><th title = \"Any\" style = \"text-align: left;\">Any</th><th title = \"Float64\" style = \"text-align: left;\">Float64</th><th title = \"Any\" style = \"text-align: left;\">Any</th><th title = \"Any\" style = \"text-align: left;\">Any</th><th title = \"Any\" style = \"text-align: left;\">Any</th><th title = \"Any\" style = \"text-align: left;\">Any</th><th title = \"Float64\" style = \"text-align: left;\">Float64</th></tr></thead><tbody><tr><td class = \"rowNumber\" style = \"font-weight: bold; text-align: right;\">1</td><td style = \"text-align: left;\">20250615_YEu_AM-17-22.p4p</td><td style = \"text-align: left;\">cu_YEu_AM-17-22_6m84_96f_M80_OmSc4_600s_02_0001.sfrm</td><td style = \"text-align: left;\">2025-06-15T10:44:06</td><td style = \"text-align: left;\">96.3</td><td style = \"text-align: left;\">-80.0</td><td style = \"text-align: left;\">86.0</td><td style = \"text-align: left;\">-124.6</td><td style = \"text-align: left;\">6</td><td style = \"text-align: left;\">-8</td><td style = \"text-align: left;\">4</td><td style = \"text-align: left;\">681.411</td><td style = \"text-align: right;\">102.776</td><td style = \"text-align: left;\">cu_YEu_AM-17-22_6m84_96f_M80_OmSc4_600s_01_0001.sfrm</td><td style = \"text-align: left;\">2025-06-15T10:33:26</td><td style = \"text-align: left;\">-94.0</td><td style = \"text-align: left;\">681.643</td><td style = \"text-align: right;\">681.527</td></tr><tr><td class = \"rowNumber\" style = \"font-weight: bold; text-align: right;\">2</td><td style = \"text-align: left;\">20250615_YEu_AM-17-22.p4p</td><td style = \"text-align: left;\">cu_YEu_AM-17-22_4m6m8_96f_P126p2_OmSc4_600s_01_0001.sfrm</td><td style = \"text-align: left;\">2025-06-15T11:13:57</td><td style = \"text-align: left;\">96.3</td><td style = \"text-align: left;\">126.2</td><td style = \"text-align: left;\">-61.0</td><td style = \"text-align: left;\">-123.7</td><td style = \"text-align: left;\">4</td><td style = \"text-align: left;\">-6</td><td style = \"text-align: left;\">-8</td><td style = \"text-align: left;\">689.559</td><td style = \"text-align: right;\">102.776</td><td style = \"text-align: left;\">cu_YEu_AM-17-22_4m6m8_96f_P126p2_OmSc4_600s_02_0001.sfrm</td><td style = \"text-align: left;\">2025-06-15T11:24:36</td><td style = \"text-align: left;\">119.0</td><td style = \"text-align: left;\">689.794</td><td style = \"text-align: right;\">689.676</td></tr></tbody></table></div>"
      ],
      "text/latex": [
       "\\begin{tabular}{r|ccc}\n",
       "\t& orient & frame & \\\\\n",
       "\t\\hline\n",
       "\t& Any & Any & \\\\\n",
       "\t\\hline\n",
       "\t1 & 20250615\\_YEu\\_AM-17-22.p4p & cu\\_YEu\\_AM-17-22\\_6m84\\_96f\\_M80\\_OmSc4\\_600s\\_02\\_0001.sfrm & $\\dots$ \\\\\n",
       "\t2 & 20250615\\_YEu\\_AM-17-22.p4p & cu\\_YEu\\_AM-17-22\\_4m6m8\\_96f\\_P126p2\\_OmSc4\\_600s\\_01\\_0001.sfrm & $\\dots$ \\\\\n",
       "\\end{tabular}\n"
      ],
      "text/plain": [
       "\u001b[1m2×17 DataFrame\u001b[0m\n",
       "\u001b[1m Row \u001b[0m│\u001b[1m orient                    \u001b[0m\u001b[1m frame                             \u001b[0m\u001b[1m created  \u001b[0m ⋯\n",
       "     │\u001b[90m Any                       \u001b[0m\u001b[90m Any                               \u001b[0m\u001b[90m Any      \u001b[0m ⋯\n",
       "─────┼──────────────────────────────────────────────────────────────────────────\n",
       "   1 │ 20250615_YEu_AM-17-22.p4p  cu_YEu_AM-17-22_6m84_96f_M80_OmS…  2025-06-1 ⋯\n",
       "   2 │ 20250615_YEu_AM-17-22.p4p  cu_YEu_AM-17-22_4m6m8_96f_P126p2…  2025-06-1\n",
       "\u001b[36m                                                              15 columns omitted\u001b[0m"
      ]
     },
     "execution_count": 9,
     "metadata": {},
     "output_type": "execute_result"
    }
   ],
   "source": [
    "frid = innerjoin(subset(data, [:h, :k, :l] => ByRow(hklpos)), transform(data, [:h, :k, :l] .=> -, renamecols = false),\n",
    "    on = [:tthD, :distance, :phi, :h, :k, :l, :tth0, :orient],\n",
    "    renamecols = \"\" => \"_frid\"\n",
    ")\n",
    "subset!(frid, [:created, :created_frid] => ByRow((c1, c2) -> abs(c1 - c2) < Day(1)))\n",
    "transform!(frid, [:x1, :x1_frid] => ByRow((x, xf) -> (x + xf) / 2) => :x1_mean)"
   ]
  },
  {
   "cell_type": "code",
   "execution_count": 10,
   "id": "4fea81c0-d739-4fa3-bda9-4dd3f497f5b2",
   "metadata": {},
   "outputs": [
    {
     "data": {
      "text/html": [
       "<div><div style = \"float: left;\"><span>1×35 DataFrame</span></div><div style = \"clear: both;\"></div></div><div class = \"data-frame\" style = \"overflow-x: scroll;\"><table class = \"data-frame\" style = \"margin-bottom: 6px;\"><thead><tr class = \"header\"><th class = \"rowNumber\" style = \"font-weight: bold; text-align: right;\">Row</th><th style = \"text-align: left;\">orient</th><th style = \"text-align: left;\">frame_pos</th><th style = \"text-align: left;\">created_pos</th><th style = \"text-align: left;\">distance</th><th style = \"text-align: left;\">tthD_pos</th><th style = \"text-align: left;\">omega_pos</th><th style = \"text-align: left;\">phi_pos</th><th style = \"text-align: left;\">h_pos</th><th style = \"text-align: left;\">k_pos</th><th style = \"text-align: left;\">l_pos</th><th style = \"text-align: left;\">x1_pos</th><th style = \"text-align: left;\">tth0</th><th style = \"text-align: left;\">frame_frid_pos</th><th style = \"text-align: left;\">created_frid_pos</th><th style = \"text-align: left;\">omega_frid_pos</th><th style = \"text-align: left;\">x1_frid_pos</th><th style = \"text-align: left;\">x1_mean_pos</th><th style = \"text-align: left;\">frame_neg</th><th style = \"text-align: left;\">created_neg</th><th style = \"text-align: left;\">tthD_neg</th><th style = \"text-align: left;\">omega_neg</th><th style = \"text-align: left;\">phi_neg</th><th style = \"text-align: left;\">h_neg</th><th style = \"text-align: left;\">k_neg</th><th style = \"text-align: left;\">l_neg</th><th style = \"text-align: left;\">x1_neg</th><th style = \"text-align: left;\">frame_frid_neg</th><th style = \"text-align: left;\">created_frid_neg</th><th style = \"text-align: left;\">omega_frid_neg</th><th style = \"text-align: left;\">x1_frid_neg</th><th style = \"text-align: left;\">x1_mean_neg</th><th style = \"text-align: left;\">tth</th><th style = \"text-align: left;\">Δtth</th><th style = \"text-align: left;\">a</th><th style = \"text-align: left;\">Δa</th></tr><tr class = \"subheader headerLastRow\"><th class = \"rowNumber\" style = \"font-weight: bold; text-align: right;\"></th><th title = \"Any\" style = \"text-align: left;\">Any</th><th title = \"Any\" style = \"text-align: left;\">Any</th><th title = \"Any\" style = \"text-align: left;\">Any</th><th title = \"Any\" style = \"text-align: left;\">Any</th><th title = \"Any\" style = \"text-align: left;\">Any</th><th title = \"Any\" style = \"text-align: left;\">Any</th><th title = \"Any\" style = \"text-align: left;\">Any</th><th title = \"Any\" style = \"text-align: left;\">Any</th><th title = \"Any\" style = \"text-align: left;\">Any</th><th title = \"Any\" style = \"text-align: left;\">Any</th><th title = \"Any\" style = \"text-align: left;\">Any</th><th title = \"Float64\" style = \"text-align: left;\">Float64</th><th title = \"Any\" style = \"text-align: left;\">Any</th><th title = \"Any\" style = \"text-align: left;\">Any</th><th title = \"Any\" style = \"text-align: left;\">Any</th><th title = \"Any\" style = \"text-align: left;\">Any</th><th title = \"Float64\" style = \"text-align: left;\">Float64</th><th title = \"Any\" style = \"text-align: left;\">Any</th><th title = \"Any\" style = \"text-align: left;\">Any</th><th title = \"Any\" style = \"text-align: left;\">Any</th><th title = \"Any\" style = \"text-align: left;\">Any</th><th title = \"Any\" style = \"text-align: left;\">Any</th><th title = \"Any\" style = \"text-align: left;\">Any</th><th title = \"Any\" style = \"text-align: left;\">Any</th><th title = \"Any\" style = \"text-align: left;\">Any</th><th title = \"Any\" style = \"text-align: left;\">Any</th><th title = \"Any\" style = \"text-align: left;\">Any</th><th title = \"Any\" style = \"text-align: left;\">Any</th><th title = \"Any\" style = \"text-align: left;\">Any</th><th title = \"Any\" style = \"text-align: left;\">Any</th><th title = \"Float64\" style = \"text-align: left;\">Float64</th><th title = \"Float64\" style = \"text-align: left;\">Float64</th><th title = \"Float64\" style = \"text-align: left;\">Float64</th><th title = \"Float64\" style = \"text-align: left;\">Float64</th><th title = \"Float64\" style = \"text-align: left;\">Float64</th></tr></thead><tbody><tr><td class = \"rowNumber\" style = \"font-weight: bold; text-align: right;\">1</td><td style = \"text-align: left;\">20250615_YEu_AM-17-22.p4p</td><td style = \"text-align: left;\">cu_YEu_AM-17-22_4m6m8_96f_P126p2_OmSc4_600s_01_0001.sfrm</td><td style = \"text-align: left;\">2025-06-15T11:13:57</td><td style = \"text-align: left;\">96.3</td><td style = \"text-align: left;\">126.2</td><td style = \"text-align: left;\">-61.0</td><td style = \"text-align: left;\">-123.7</td><td style = \"text-align: left;\">4</td><td style = \"text-align: left;\">-6</td><td style = \"text-align: left;\">-8</td><td style = \"text-align: left;\">689.559</td><td style = \"text-align: right;\">102.776</td><td style = \"text-align: left;\">cu_YEu_AM-17-22_4m6m8_96f_P126p2_OmSc4_600s_02_0001.sfrm</td><td style = \"text-align: left;\">2025-06-15T11:24:36</td><td style = \"text-align: left;\">119.0</td><td style = \"text-align: left;\">689.794</td><td style = \"text-align: right;\">689.676</td><td style = \"text-align: left;\">cu_YEu_AM-17-22_6m84_96f_M80_OmSc4_600s_02_0001.sfrm</td><td style = \"text-align: left;\">2025-06-15T10:44:06</td><td style = \"text-align: left;\">-80.0</td><td style = \"text-align: left;\">86.0</td><td style = \"text-align: left;\">-124.6</td><td style = \"text-align: left;\">6</td><td style = \"text-align: left;\">-8</td><td style = \"text-align: left;\">4</td><td style = \"text-align: left;\">681.411</td><td style = \"text-align: left;\">cu_YEu_AM-17-22_6m84_96f_M80_OmSc4_600s_01_0001.sfrm</td><td style = \"text-align: left;\">2025-06-15T10:33:26</td><td style = \"text-align: left;\">-94.0</td><td style = \"text-align: left;\">681.643</td><td style = \"text-align: right;\">681.527</td><td style = \"text-align: right;\">102.798</td><td style = \"text-align: right;\">0.0219587</td><td style = \"text-align: right;\">10.6158</td><td style = \"text-align: right;\">-0.00162442</td></tr></tbody></table></div>"
      ],
      "text/latex": [
       "\\begin{tabular}{r|ccc}\n",
       "\t& orient & frame\\_pos & \\\\\n",
       "\t\\hline\n",
       "\t& Any & Any & \\\\\n",
       "\t\\hline\n",
       "\t1 & 20250615\\_YEu\\_AM-17-22.p4p & cu\\_YEu\\_AM-17-22\\_4m6m8\\_96f\\_P126p2\\_OmSc4\\_600s\\_01\\_0001.sfrm & $\\dots$ \\\\\n",
       "\\end{tabular}\n"
      ],
      "text/plain": [
       "\u001b[1m1×35 DataFrame\u001b[0m\n",
       "\u001b[1m Row \u001b[0m│\u001b[1m orient                    \u001b[0m\u001b[1m frame_pos                         \u001b[0m\u001b[1m created_p\u001b[0m ⋯\n",
       "     │\u001b[90m Any                       \u001b[0m\u001b[90m Any                               \u001b[0m\u001b[90m Any      \u001b[0m ⋯\n",
       "─────┼──────────────────────────────────────────────────────────────────────────\n",
       "   1 │ 20250615_YEu_AM-17-22.p4p  cu_YEu_AM-17-22_4m6m8_96f_P126p2…  2025-06-1 ⋯\n",
       "\u001b[36m                                                              33 columns omitted\u001b[0m"
      ]
     },
     "execution_count": 10,
     "metadata": {},
     "output_type": "execute_result"
    }
   ],
   "source": [
    "eccentr = innerjoin(frid[frid.tthD .> 0, :], frid[frid.tthD .< 0, :],\n",
    "    on = [:distance, :tth0, :orient],\n",
    "    renamecols = \"_pos\" => \"_neg\"\n",
    ")\n",
    "subset!(eccentr, [:created_pos, :created_neg] => ByRow((c1, c2) -> abs(c1 - c2) < Day(1)))\n",
    "subset!(eccentr, [:phi_pos, :phi_neg] => ByRow((p1, p2) -> abs(rem(p1 - p2, 360, RoundNearest)) < 15))\n",
    "subset!(eccentr, [:x1_mean_pos, :x1_mean_neg] => ByRow((x1, x2) -> abs(x1 - x2) < 10))\n",
    "transform!(eccentr, [:h_pos, :k_pos, :l_pos, :tth0, :distance, :tthD_pos, :tthD_neg, :x1_mean_pos, :x1_mean_neg] => ByRow(bond_calc) => [:tth, :Δtth, :a, :Δa])"
   ]
  },
  {
   "cell_type": "code",
   "execution_count": 11,
   "id": "883892c4-5a6e-4822-bc3b-15562b4d33ff",
   "metadata": {},
   "outputs": [],
   "source": [
    "XLSX.openxlsx(\"$(name).xlsx\", mode=\"w\") do xf\n",
    "    sheet = xf[1]\n",
    "    XLSX.rename!(sheet, \"$(name)\")\n",
    "    XLSX.writetable!(xf[1], data)\n",
    "    sheet = XLSX.addsheet!(xf, \"bond\")\n",
    "    XLSX.writetable!(sheet, bond)\n",
    "    sheet = XLSX.addsheet!(xf, \"frid\")\n",
    "    XLSX.writetable!(sheet, frid)\n",
    "    sheet = XLSX.addsheet!(xf, \"eccentr\")\n",
    "    XLSX.writetable!(sheet, eccentr)\n",
    "end"
   ]
  },
  {
   "cell_type": "code",
   "execution_count": 85,
   "id": "862bdcbf-b376-4f48-a32d-8bfae0306e41",
   "metadata": {},
   "outputs": [
    {
     "data": {
      "text/plain": [
       "2.7049266336164482e-6"
      ]
     },
     "execution_count": 85,
     "metadata": {},
     "output_type": "execute_result"
    }
   ],
   "source": [
    "std(eccentr.a) / mean(eccentr.a)"
   ]
  },
  {
   "cell_type": "code",
   "execution_count": 5,
   "id": "1938d1c3-7106-4524-948b-081de434b108",
   "metadata": {},
   "outputs": [
    {
     "data": {
      "text/plain": [
       "0.08418512260195862"
      ]
     },
     "execution_count": 5,
     "metadata": {},
     "output_type": "execute_result"
    }
   ],
   "source": [
    "rad2deg(0.1353 / 96.5) / cosd((80 - 114.8)/2)"
   ]
  },
  {
   "cell_type": "code",
   "execution_count": 26,
   "id": "e8a0d0e9-3b22-4ff5-95ba-908e46d4ff45",
   "metadata": {},
   "outputs": [
    {
     "name": "stdout",
     "output_type": "stream",
     "text": [
      "rad2deg(px / D) / cosd((tthDp - tthDn) / 2) = 0.08418512260195862\n"
     ]
    },
    {
     "data": {
      "text/plain": [
       "(97.48039679208487, 0.133228879118505, 10.14403604765983, -0.010363952340171068)"
      ]
     },
     "execution_count": 26,
     "metadata": {},
     "output_type": "execute_result"
    }
   ],
   "source": [
    "assym_calc(8, 5, 3, 96.5, 114.8, 80, 603.76, 605.67)"
   ]
  },
  {
   "cell_type": "code",
   "execution_count": null,
   "id": "bfd4e91e-5756-4d6e-a09d-e564250598df",
   "metadata": {},
   "outputs": [],
   "source": []
  }
 ],
 "metadata": {
  "kernelspec": {
   "display_name": "Julia 1.11.5",
   "language": "julia",
   "name": "julia-1.11"
  },
  "language_info": {
   "file_extension": ".jl",
   "mimetype": "application/julia",
   "name": "julia",
   "version": "1.11.5"
  }
 },
 "nbformat": 4,
 "nbformat_minor": 5
}
