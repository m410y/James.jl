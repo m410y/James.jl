{
 "cells": [
  {
   "cell_type": "code",
   "execution_count": 61,
   "id": "13af94ff-48f6-40aa-91cf-e8b331e86d14",
   "metadata": {},
   "outputs": [],
   "source": [
    "using SFRM\n",
    "using P4P\n",
    "using CrystalInfoFramework\n",
    "using Crystalline\n",
    "using DataFrames\n",
    "using Unitful\n",
    "using UnitfulEquivalences\n",
    "using Interpolations\n",
    "using StaticArrays\n",
    "using JamesCore\n",
    "using XLSX\n",
    "using GeometryBasics"
   ]
  },
  {
   "cell_type": "code",
   "execution_count": 62,
   "id": "dbbf91e5-5ad5-474a-8da4-be7ca6fd3941",
   "metadata": {},
   "outputs": [
    {
     "data": {
      "text/plain": [
       "Dict{String, Any} with 21 entries:\n",
       "  \"SITEID\" => (nothing, nothing)\n",
       "  \"TITLE\"  => \"CCU_TSuhih\"\n",
       "  \"ZEROS\"  => (0.0, 0.0, 0.0, 0.0, 0.0, 0.0)\n",
       "  \"MOSAIC\" => (0.47, 1.88)\n",
       "  \"REF\"    => Any[(1024, false, false, false, true, 4, 0, 2, 28.0, 19.312, 0.0,…\n",
       "  \"CELL\"   => (10.5892, 10.5892, 10.5892, 90.0, 90.0, 90.0, 1187.36)\n",
       "  \"DNSMET\" => \"? \"\n",
       "  \"CHEM\"   => \"? \"\n",
       "  \"LIMITS\" => (0.0, 0.0, 0.0, 0.0, 0.0, 0.0, 0.0, 0.0, 0.0, 0.0)\n",
       "  \"ADPAR\"  => (387.22, 503.932, 28.993, 1024, 768)\n",
       "  \"ORT\"    => [-0.0109463 -0.0919879 0.0183471; 0.0650277 -0.0207543 -0.06526; …\n",
       "  \"CCOLOR\" => \"? \"\n",
       "  \"FILEID\" => (\"APEX3\", v\"2019.1.0-0\", v\"4.0.0\", DateTime(\"2025-06-15T09:56:45\"…\n",
       "  \"CSIZE\"  => (nothing, nothing, nothing, nothing, 25.85)\n",
       "  \"SOURCE\" => (\"CU\", 1.54184, 1.54056, 1.54439, 2.0, 50.0, 1.1)\n",
       "  \"MORPH\"  => \"? \"\n",
       "  \"SMAP\"   => (1,)\n",
       "  \"ADCOR\"  => (0.6017, 2.0131, -0.036, -0.1601, 0.34, 0.0081)\n",
       "  \"BRAVAI\" => ('c', 'I')\n",
       "  \"DATA\"   => Any[(\"SPATIAL\", \"linear\", \"linear\", \"3.0\", 384.0, 512.0, 17.0, 31…\n",
       "  \"CELLSD\" => (0.0003, 0.0, 0.0, 0.0, 0.0, 0.0, 0.035)"
      ]
     },
     "execution_count": 62,
     "metadata": {},
     "output_type": "execute_result"
    }
   ],
   "source": [
    "p4p = P4P.load(\"D:/p4p/20250615_YEu_AM-17-22.p4p\")"
   ]
  },
  {
   "cell_type": "code",
   "execution_count": 63,
   "id": "0810c6a6-b258-42db-a2f2-503b9109c12c",
   "metadata": {},
   "outputs": [],
   "source": [
    "# cif = first(Cif(\"D:/cif/BGO/mo_BGO_0m.cif\"))[2]\n",
    "cif = first(Cif(\"D:/cif/Y2O3/Y2O3_CollCode237970.cif\"))[2]\n",
    "group = cif;"
   ]
  },
  {
   "cell_type": "code",
   "execution_count": 64,
   "id": "5eccc026-5f77-455a-b601-cc8eb54c7ac7",
   "metadata": {
    "scrolled": true
   },
   "outputs": [
    {
     "data": {
      "text/plain": [
       "SpaceGroup{3} ⋕206 (Ia-3) with 48 operations:\n",
       " 1\n",
       " {2₀₀₁|½,0,½}\n",
       " {2₀₁₀|0,½,½}\n",
       " {2₁₀₀|½,½,0}\n",
       " 3₁₁₁⁺\n",
       " {3₋₁₁₋₁⁺|½,½,0}\n",
       " {3₋₁₁₁⁻|½,0,½}\n",
       " {3₋₁₋₁₁⁺|0,½,½}\n",
       " 3₁₁₁⁻\n",
       " {3₋₁₁₁⁺|0,½,½}\n",
       " {3₋₁₋₁₁⁻|½,½,0}\n",
       " {3₋₁₁₋₁⁻|½,0,½}\n",
       " -1\n",
       " {m₀₀₁|½,0,½}\n",
       " {m₀₁₀|0,½,½}\n",
       " {m₁₀₀|½,½,0}\n",
       " -3₁₁₁⁺\n",
       " {-3₋₁₁₋₁⁺|½,½,0}\n",
       " {-3₋₁₁₁⁻|½,0,½}\n",
       " {-3₋₁₋₁₁⁺|0,½,½}\n",
       " -3₁₁₁⁻\n",
       " {-3₋₁₁₁⁺|0,½,½}\n",
       " {-3₋₁₋₁₁⁻|½,½,0}\n",
       " {-3₋₁₁₋₁⁻|½,0,½}\n",
       " {1|½,½,½}\n",
       " {2₀₀₁|0,½,0}\n",
       " {2₀₁₀|½,0,0}\n",
       " {2₁₀₀|0,0,½}\n",
       " {3₁₁₁⁺|½,½,½}\n",
       " {3₋₁₁₋₁⁺|0,0,½}\n",
       " {3₋₁₁₁⁻|0,½,0}\n",
       " {3₋₁₋₁₁⁺|½,0,0}\n",
       " {3₁₁₁⁻|½,½,½}\n",
       " {3₋₁₁₁⁺|½,0,0}\n",
       " {3₋₁₋₁₁⁻|0,0,½}\n",
       " {3₋₁₁₋₁⁻|0,½,0}\n",
       " {-1|½,½,½}\n",
       " {m₀₀₁|0,½,0}\n",
       " {m₀₁₀|½,0,0}\n",
       " {m₁₀₀|0,0,½}\n",
       " {-3₁₁₁⁺|½,½,½}\n",
       " {-3₋₁₁₋₁⁺|0,0,½}\n",
       " {-3₋₁₁₁⁻|0,½,0}\n",
       " {-3₋₁₋₁₁⁺|½,0,0}\n",
       " {-3₁₁₁⁻|½,½,½}\n",
       " {-3₋₁₁₁⁺|½,0,0}\n",
       " {-3₋₁₋₁₁⁻|0,0,½}\n",
       " {-3₋₁₁₋₁⁻|0,½,0}"
      ]
     },
     "execution_count": 64,
     "metadata": {},
     "output_type": "execute_result"
    }
   ],
   "source": [
    "sg = spacegroup(parse(Int, cif[\"_space_group_IT_number\"][1]))"
   ]
  },
  {
   "cell_type": "code",
   "execution_count": 65,
   "id": "fbbde6f6-bdb0-4978-8e74-bba3f659d009",
   "metadata": {},
   "outputs": [],
   "source": [
    "pg = pointgroup(sg);"
   ]
  },
  {
   "cell_type": "code",
   "execution_count": 94,
   "id": "45987c1a-6c36-4d72-a56a-44266eec5d58",
   "metadata": {},
   "outputs": [
    {
     "data": {
      "text/html": [
       "<div><div style = \"float: left;\"><span>3×4 DataFrame</span></div><div style = \"clear: both;\"></div></div><div class = \"data-frame\" style = \"overflow-x: scroll;\"><table class = \"data-frame\" style = \"margin-bottom: 6px;\"><thead><tr class = \"header\"><th class = \"rowNumber\" style = \"font-weight: bold; text-align: right;\">Row</th><th style = \"text-align: left;\">atom</th><th style = \"text-align: left;\">x</th><th style = \"text-align: left;\">y</th><th style = \"text-align: left;\">z</th></tr><tr class = \"subheader headerLastRow\"><th class = \"rowNumber\" style = \"font-weight: bold; text-align: right;\"></th><th title = \"String\" style = \"text-align: left;\">String</th><th title = \"Float64\" style = \"text-align: left;\">Float64</th><th title = \"Float64\" style = \"text-align: left;\">Float64</th><th title = \"Float64\" style = \"text-align: left;\">Float64</th></tr></thead><tbody><tr><td class = \"rowNumber\" style = \"font-weight: bold; text-align: right;\">1</td><td style = \"text-align: left;\">Y3+</td><td style = \"text-align: right;\">0.25</td><td style = \"text-align: right;\">0.25</td><td style = \"text-align: right;\">0.25</td></tr><tr><td class = \"rowNumber\" style = \"font-weight: bold; text-align: right;\">2</td><td style = \"text-align: left;\">Y3+</td><td style = \"text-align: right;\">-0.03241</td><td style = \"text-align: right;\">0.0</td><td style = \"text-align: right;\">0.25</td></tr><tr><td class = \"rowNumber\" style = \"font-weight: bold; text-align: right;\">3</td><td style = \"text-align: left;\">O2-</td><td style = \"text-align: right;\">0.3908</td><td style = \"text-align: right;\">0.1518</td><td style = \"text-align: right;\">0.3803</td></tr></tbody></table></div>"
      ],
      "text/latex": [
       "\\begin{tabular}{r|cccc}\n",
       "\t& atom & x & y & z\\\\\n",
       "\t\\hline\n",
       "\t& String & Float64 & Float64 & Float64\\\\\n",
       "\t\\hline\n",
       "\t1 & Y3+ & 0.25 & 0.25 & 0.25 \\\\\n",
       "\t2 & Y3+ & -0.03241 & 0.0 & 0.25 \\\\\n",
       "\t3 & O2- & 0.3908 & 0.1518 & 0.3803 \\\\\n",
       "\\end{tabular}\n"
      ],
      "text/plain": [
       "\u001b[1m3×4 DataFrame\u001b[0m\n",
       "\u001b[1m Row \u001b[0m│\u001b[1m atom   \u001b[0m\u001b[1m x        \u001b[0m\u001b[1m y       \u001b[0m\u001b[1m z       \u001b[0m\n",
       "     │\u001b[90m String \u001b[0m\u001b[90m Float64  \u001b[0m\u001b[90m Float64 \u001b[0m\u001b[90m Float64 \u001b[0m\n",
       "─────┼────────────────────────────────────\n",
       "   1 │ Y3+      0.25      0.25     0.25\n",
       "   2 │ Y3+     -0.03241   0.0      0.25\n",
       "   3 │ O2-      0.3908    0.1518   0.3803"
      ]
     },
     "execution_count": 94,
     "metadata": {},
     "output_type": "execute_result"
    }
   ],
   "source": [
    "function parse_cif_coords(str::AbstractString)\n",
    "    m = match(r\"(.*)\\(\\d+\\)\", str)\n",
    "    num = isnothing(m) ? str : m[1]\n",
    "    parse(Float64, num)\n",
    "end\n",
    "atomcoords = get_loop(cif, \"_atom_site_label\")[:, [:_atom_site_type_symbol, :_atom_site_fract_x, :_atom_site_fract_y, :_atom_site_fract_z]]\n",
    "select!(atomcoords, :_atom_site_type_symbol => ByRow(x -> String(x)) => :atom, :_atom_site_fract_x => ByRow(parse_cif_coords) => :x, :_atom_site_fract_y => ByRow(parse_cif_coords) => :y, :_atom_site_fract_z => ByRow(parse_cif_coords) => :z)"
   ]
  },
  {
   "cell_type": "code",
   "execution_count": 95,
   "id": "da6a0f1a-b309-4c78-b838-e88d1379a071",
   "metadata": {},
   "outputs": [
    {
     "data": {
      "text/html": [
       "<div><div style = \"float: left;\"><span>3×4 DataFrame</span></div><div style = \"clear: both;\"></div></div><div class = \"data-frame\" style = \"overflow-x: scroll;\"><table class = \"data-frame\" style = \"margin-bottom: 6px;\"><thead><tr class = \"header\"><th class = \"rowNumber\" style = \"font-weight: bold; text-align: right;\">Row</th><th style = \"text-align: left;\">atom</th><th style = \"text-align: left;\">x</th><th style = \"text-align: left;\">y</th><th style = \"text-align: left;\">z</th></tr><tr class = \"subheader headerLastRow\"><th class = \"rowNumber\" style = \"font-weight: bold; text-align: right;\"></th><th title = \"String\" style = \"text-align: left;\">String</th><th title = \"Float64\" style = \"text-align: left;\">Float64</th><th title = \"Float64\" style = \"text-align: left;\">Float64</th><th title = \"Float64\" style = \"text-align: left;\">Float64</th></tr></thead><tbody><tr><td class = \"rowNumber\" style = \"font-weight: bold; text-align: right;\">1</td><td style = \"text-align: left;\">Y3+</td><td style = \"text-align: right;\">0.75</td><td style = \"text-align: right;\">0.75</td><td style = \"text-align: right;\">0.75</td></tr><tr><td class = \"rowNumber\" style = \"font-weight: bold; text-align: right;\">2</td><td style = \"text-align: left;\">Y3+</td><td style = \"text-align: right;\">1.03241</td><td style = \"text-align: right;\">1.0</td><td style = \"text-align: right;\">0.75</td></tr><tr><td class = \"rowNumber\" style = \"font-weight: bold; text-align: right;\">3</td><td style = \"text-align: left;\">O2-</td><td style = \"text-align: right;\">0.6092</td><td style = \"text-align: right;\">0.8482</td><td style = \"text-align: right;\">0.6197</td></tr></tbody></table></div>"
      ],
      "text/latex": [
       "\\begin{tabular}{r|cccc}\n",
       "\t& atom & x & y & z\\\\\n",
       "\t\\hline\n",
       "\t& String & Float64 & Float64 & Float64\\\\\n",
       "\t\\hline\n",
       "\t1 & Y3+ & 0.75 & 0.75 & 0.75 \\\\\n",
       "\t2 & Y3+ & 1.03241 & 1.0 & 0.75 \\\\\n",
       "\t3 & O2- & 0.6092 & 0.8482 & 0.6197 \\\\\n",
       "\\end{tabular}\n"
      ],
      "text/plain": [
       "\u001b[1m3×4 DataFrame\u001b[0m\n",
       "\u001b[1m Row \u001b[0m│\u001b[1m atom   \u001b[0m\u001b[1m x       \u001b[0m\u001b[1m y       \u001b[0m\u001b[1m z       \u001b[0m\n",
       "     │\u001b[90m String \u001b[0m\u001b[90m Float64 \u001b[0m\u001b[90m Float64 \u001b[0m\u001b[90m Float64 \u001b[0m\n",
       "─────┼───────────────────────────────────\n",
       "   1 │ Y3+     0.75      0.75     0.75\n",
       "   2 │ Y3+     1.03241   1.0      0.75\n",
       "   3 │ O2-     0.6092    0.8482   0.6197"
      ]
     },
     "execution_count": 95,
     "metadata": {},
     "output_type": "execute_result"
    }
   ],
   "source": [
    "transform!(atomcoords, [:x, :y, :z] => ByRow((x,y,z) -> 1 .- (x,y,z)) => [:x, :y, :z], renamecols=false)"
   ]
  },
  {
   "cell_type": "code",
   "execution_count": 96,
   "id": "55e57688-a02e-48ae-828b-966658d44ec5",
   "metadata": {},
   "outputs": [
    {
     "data": {
      "text/plain": [
       "8.047823564109652"
      ]
     },
     "execution_count": 96,
     "metadata": {},
     "output_type": "execute_result"
    }
   ],
   "source": [
    "λ = 1.5405929u\"Å\"\n",
    "E = ustrip(uconvert(u\"keV\", λ, Spectral()))"
   ]
  },
  {
   "cell_type": "code",
   "execution_count": 97,
   "id": "f5c002d6-680c-4759-aa62-d1fd17d03e5a",
   "metadata": {},
   "outputs": [
    {
     "data": {
      "text/html": [
       "<div><div style = \"float: left;\"><span>3×5 DataFrame</span></div><div style = \"clear: both;\"></div></div><div class = \"data-frame\" style = \"overflow-x: scroll;\"><table class = \"data-frame\" style = \"margin-bottom: 6px;\"><thead><tr class = \"header\"><th class = \"rowNumber\" style = \"font-weight: bold; text-align: right;\">Row</th><th style = \"text-align: left;\">atom</th><th style = \"text-align: left;\">x</th><th style = \"text-align: left;\">y</th><th style = \"text-align: left;\">z</th><th style = \"text-align: left;\">f</th></tr><tr class = \"subheader headerLastRow\"><th class = \"rowNumber\" style = \"font-weight: bold; text-align: right;\"></th><th title = \"String\" style = \"text-align: left;\">String</th><th title = \"Float64\" style = \"text-align: left;\">Float64</th><th title = \"Float64\" style = \"text-align: left;\">Float64</th><th title = \"Float64\" style = \"text-align: left;\">Float64</th><th title = \"Float64\" style = \"text-align: left;\">Float64</th></tr></thead><tbody><tr><td class = \"rowNumber\" style = \"font-weight: bold; text-align: right;\">1</td><td style = \"text-align: left;\">Y3+</td><td style = \"text-align: right;\">0.75</td><td style = \"text-align: right;\">0.75</td><td style = \"text-align: right;\">0.75</td><td style = \"text-align: right;\">35.5803</td></tr><tr><td class = \"rowNumber\" style = \"font-weight: bold; text-align: right;\">2</td><td style = \"text-align: left;\">Y3+</td><td style = \"text-align: right;\">1.03241</td><td style = \"text-align: right;\">1.0</td><td style = \"text-align: right;\">0.75</td><td style = \"text-align: right;\">35.5803</td></tr><tr><td class = \"rowNumber\" style = \"font-weight: bold; text-align: right;\">3</td><td style = \"text-align: left;\">O2-</td><td style = \"text-align: right;\">0.6092</td><td style = \"text-align: right;\">0.8482</td><td style = \"text-align: right;\">0.6197</td><td style = \"text-align: right;\">10.1065</td></tr></tbody></table></div>"
      ],
      "text/latex": [
       "\\begin{tabular}{r|ccccc}\n",
       "\t& atom & x & y & z & f\\\\\n",
       "\t\\hline\n",
       "\t& String & Float64 & Float64 & Float64 & Float64\\\\\n",
       "\t\\hline\n",
       "\t1 & Y3+ & 0.75 & 0.75 & 0.75 & 35.5803 \\\\\n",
       "\t2 & Y3+ & 1.03241 & 1.0 & 0.75 & 35.5803 \\\\\n",
       "\t3 & O2- & 0.6092 & 0.8482 & 0.6197 & 10.1065 \\\\\n",
       "\\end{tabular}\n"
      ],
      "text/plain": [
       "\u001b[1m3×5 DataFrame\u001b[0m\n",
       "\u001b[1m Row \u001b[0m│\u001b[1m atom   \u001b[0m\u001b[1m x       \u001b[0m\u001b[1m y       \u001b[0m\u001b[1m z       \u001b[0m\u001b[1m f       \u001b[0m\n",
       "     │\u001b[90m String \u001b[0m\u001b[90m Float64 \u001b[0m\u001b[90m Float64 \u001b[0m\u001b[90m Float64 \u001b[0m\u001b[90m Float64 \u001b[0m\n",
       "─────┼────────────────────────────────────────────\n",
       "   1 │ Y3+     0.75      0.75     0.75    35.5803\n",
       "   2 │ Y3+     1.03241   1.0      0.75    35.5803\n",
       "   3 │ O2-     0.6092    0.8482   0.6197  10.1065"
      ]
     },
     "execution_count": 97,
     "metadata": {},
     "output_type": "execute_result"
    }
   ],
   "source": [
    "function nist_form_factor(data::AbstractMatrix; E = E)\n",
    "    itp = linear_interpolation(data[:, 1], data[:, 2])\n",
    "    itp(E)\n",
    "end\n",
    "form_factors = DataFrame(atom = [\"O\", \"Ge\", \"Bi\", \"Y3+\", \"O2-\"],\n",
    "    f = [\n",
    "        nist_form_factor([7.902609E+00  8.05336E+00; 8.447890E+00  8.04808E+00]),\n",
    "        nist_form_factor([7.902609E+00  3.10798E+01; 8.447890E+00  3.09116E+01]),\n",
    "        nist_form_factor([8.0438952E+00  7.99123E+01; 8.0841147E+00  7.99025E+01]),\n",
    "        nist_form_factor([7.902609E+00  3.56076E+01; 8.447890E+00  3.55052E+01]),\n",
    "        nist_form_factor([7.902609E+00  1.01091E+01; 8.447890E+00  1.00992E+01]),\n",
    "    ]\n",
    ")\n",
    "atomdata = innerjoin(atomcoords, form_factors, on = :atom)"
   ]
  },
  {
   "cell_type": "code",
   "execution_count": 98,
   "id": "f1454da9-19f7-4d81-b3fc-900eaab6637b",
   "metadata": {
    "scrolled": true
   },
   "outputs": [
    {
     "data": {
      "text/html": [
       "<div><div style = \"float: left;\"><span>82×5 DataFrame</span></div><div style = \"float: right;\"><span style = \"font-style: italic;\">57 rows omitted</span></div><div style = \"clear: both;\"></div></div><div class = \"data-frame\" style = \"overflow-x: scroll;\"><table class = \"data-frame\" style = \"margin-bottom: 6px;\"><thead><tr class = \"header\"><th class = \"rowNumber\" style = \"font-weight: bold; text-align: right;\">Row</th><th style = \"text-align: left;\">atom</th><th style = \"text-align: left;\">x</th><th style = \"text-align: left;\">y</th><th style = \"text-align: left;\">z</th><th style = \"text-align: left;\">f</th></tr><tr class = \"subheader headerLastRow\"><th class = \"rowNumber\" style = \"font-weight: bold; text-align: right;\"></th><th title = \"String\" style = \"text-align: left;\">String</th><th title = \"Float64\" style = \"text-align: left;\">Float64</th><th title = \"Float64\" style = \"text-align: left;\">Float64</th><th title = \"Float64\" style = \"text-align: left;\">Float64</th><th title = \"Float64\" style = \"text-align: left;\">Float64</th></tr></thead><tbody><tr><td class = \"rowNumber\" style = \"font-weight: bold; text-align: right;\">1</td><td style = \"text-align: left;\">Y3+</td><td style = \"text-align: right;\">0.75</td><td style = \"text-align: right;\">0.75</td><td style = \"text-align: right;\">0.75</td><td style = \"text-align: right;\">35.5803</td></tr><tr><td class = \"rowNumber\" style = \"font-weight: bold; text-align: right;\">2</td><td style = \"text-align: left;\">Y3+</td><td style = \"text-align: right;\">1.03241</td><td style = \"text-align: right;\">1.0</td><td style = \"text-align: right;\">0.75</td><td style = \"text-align: right;\">35.5803</td></tr><tr><td class = \"rowNumber\" style = \"font-weight: bold; text-align: right;\">3</td><td style = \"text-align: left;\">O2-</td><td style = \"text-align: right;\">0.6092</td><td style = \"text-align: right;\">0.8482</td><td style = \"text-align: right;\">0.6197</td><td style = \"text-align: right;\">10.1065</td></tr><tr><td class = \"rowNumber\" style = \"font-weight: bold; text-align: right;\">4</td><td style = \"text-align: left;\">Y3+</td><td style = \"text-align: right;\">0.75</td><td style = \"text-align: right;\">0.25</td><td style = \"text-align: right;\">0.25</td><td style = \"text-align: right;\">35.5803</td></tr><tr><td class = \"rowNumber\" style = \"font-weight: bold; text-align: right;\">5</td><td style = \"text-align: left;\">Y3+</td><td style = \"text-align: right;\">0.25</td><td style = \"text-align: right;\">0.25</td><td style = \"text-align: right;\">0.75</td><td style = \"text-align: right;\">35.5803</td></tr><tr><td class = \"rowNumber\" style = \"font-weight: bold; text-align: right;\">6</td><td style = \"text-align: left;\">Y3+</td><td style = \"text-align: right;\">0.25</td><td style = \"text-align: right;\">0.75</td><td style = \"text-align: right;\">0.25</td><td style = \"text-align: right;\">35.5803</td></tr><tr><td class = \"rowNumber\" style = \"font-weight: bold; text-align: right;\">7</td><td style = \"text-align: left;\">Y3+</td><td style = \"text-align: right;\">0.25</td><td style = \"text-align: right;\">0.25</td><td style = \"text-align: right;\">0.25</td><td style = \"text-align: right;\">35.5803</td></tr><tr><td class = \"rowNumber\" style = \"font-weight: bold; text-align: right;\">8</td><td style = \"text-align: left;\">Y3+</td><td style = \"text-align: right;\">0.25</td><td style = \"text-align: right;\">0.75</td><td style = \"text-align: right;\">0.75</td><td style = \"text-align: right;\">35.5803</td></tr><tr><td class = \"rowNumber\" style = \"font-weight: bold; text-align: right;\">9</td><td style = \"text-align: left;\">Y3+</td><td style = \"text-align: right;\">0.75</td><td style = \"text-align: right;\">0.75</td><td style = \"text-align: right;\">0.25</td><td style = \"text-align: right;\">35.5803</td></tr><tr><td class = \"rowNumber\" style = \"font-weight: bold; text-align: right;\">10</td><td style = \"text-align: left;\">Y3+</td><td style = \"text-align: right;\">0.75</td><td style = \"text-align: right;\">0.25</td><td style = \"text-align: right;\">0.75</td><td style = \"text-align: right;\">35.5803</td></tr><tr><td class = \"rowNumber\" style = \"font-weight: bold; text-align: right;\">11</td><td style = \"text-align: left;\">Y3+</td><td style = \"text-align: right;\">0.0324</td><td style = \"text-align: right;\">0.0</td><td style = \"text-align: right;\">0.75</td><td style = \"text-align: right;\">35.5803</td></tr><tr><td class = \"rowNumber\" style = \"font-weight: bold; text-align: right;\">12</td><td style = \"text-align: left;\">Y3+</td><td style = \"text-align: right;\">0.4676</td><td style = \"text-align: right;\">0.0</td><td style = \"text-align: right;\">0.25</td><td style = \"text-align: right;\">35.5803</td></tr><tr><td class = \"rowNumber\" style = \"font-weight: bold; text-align: right;\">13</td><td style = \"text-align: left;\">Y3+</td><td style = \"text-align: right;\">0.9676</td><td style = \"text-align: right;\">0.5</td><td style = \"text-align: right;\">0.75</td><td style = \"text-align: right;\">35.5803</td></tr><tr><td style = \"text-align: right;\">&vellip;</td><td style = \"text-align: right;\">&vellip;</td><td style = \"text-align: right;\">&vellip;</td><td style = \"text-align: right;\">&vellip;</td><td style = \"text-align: right;\">&vellip;</td><td style = \"text-align: right;\">&vellip;</td></tr><tr><td class = \"rowNumber\" style = \"font-weight: bold; text-align: right;\">71</td><td style = \"text-align: left;\">O2-</td><td style = \"text-align: right;\">0.8908</td><td style = \"text-align: right;\">0.6518</td><td style = \"text-align: right;\">0.8803</td><td style = \"text-align: right;\">10.1065</td></tr><tr><td class = \"rowNumber\" style = \"font-weight: bold; text-align: right;\">72</td><td style = \"text-align: left;\">O2-</td><td style = \"text-align: right;\">0.6092</td><td style = \"text-align: right;\">0.3482</td><td style = \"text-align: right;\">0.3803</td><td style = \"text-align: right;\">10.1065</td></tr><tr><td class = \"rowNumber\" style = \"font-weight: bold; text-align: right;\">73</td><td style = \"text-align: left;\">O2-</td><td style = \"text-align: right;\">0.1092</td><td style = \"text-align: right;\">0.1518</td><td style = \"text-align: right;\">0.6197</td><td style = \"text-align: right;\">10.1065</td></tr><tr><td class = \"rowNumber\" style = \"font-weight: bold; text-align: right;\">74</td><td style = \"text-align: left;\">O2-</td><td style = \"text-align: right;\">0.3908</td><td style = \"text-align: right;\">0.8482</td><td style = \"text-align: right;\">0.1197</td><td style = \"text-align: right;\">10.1065</td></tr><tr><td class = \"rowNumber\" style = \"font-weight: bold; text-align: right;\">75</td><td style = \"text-align: left;\">O2-</td><td style = \"text-align: right;\">0.8803</td><td style = \"text-align: right;\">0.8908</td><td style = \"text-align: right;\">0.6518</td><td style = \"text-align: right;\">10.1065</td></tr><tr><td class = \"rowNumber\" style = \"font-weight: bold; text-align: right;\">76</td><td style = \"text-align: left;\">O2-</td><td style = \"text-align: right;\">0.3803</td><td style = \"text-align: right;\">0.6092</td><td style = \"text-align: right;\">0.3482</td><td style = \"text-align: right;\">10.1065</td></tr><tr><td class = \"rowNumber\" style = \"font-weight: bold; text-align: right;\">77</td><td style = \"text-align: left;\">O2-</td><td style = \"text-align: right;\">0.6197</td><td style = \"text-align: right;\">0.1092</td><td style = \"text-align: right;\">0.1518</td><td style = \"text-align: right;\">10.1065</td></tr><tr><td class = \"rowNumber\" style = \"font-weight: bold; text-align: right;\">78</td><td style = \"text-align: left;\">O2-</td><td style = \"text-align: right;\">0.1197</td><td style = \"text-align: right;\">0.3908</td><td style = \"text-align: right;\">0.8482</td><td style = \"text-align: right;\">10.1065</td></tr><tr><td class = \"rowNumber\" style = \"font-weight: bold; text-align: right;\">79</td><td style = \"text-align: left;\">O2-</td><td style = \"text-align: right;\">0.6518</td><td style = \"text-align: right;\">0.8803</td><td style = \"text-align: right;\">0.8908</td><td style = \"text-align: right;\">10.1065</td></tr><tr><td class = \"rowNumber\" style = \"font-weight: bold; text-align: right;\">80</td><td style = \"text-align: left;\">O2-</td><td style = \"text-align: right;\">0.3482</td><td style = \"text-align: right;\">0.3803</td><td style = \"text-align: right;\">0.6092</td><td style = \"text-align: right;\">10.1065</td></tr><tr><td class = \"rowNumber\" style = \"font-weight: bold; text-align: right;\">81</td><td style = \"text-align: left;\">O2-</td><td style = \"text-align: right;\">0.1518</td><td style = \"text-align: right;\">0.6197</td><td style = \"text-align: right;\">0.1092</td><td style = \"text-align: right;\">10.1065</td></tr><tr><td class = \"rowNumber\" style = \"font-weight: bold; text-align: right;\">82</td><td style = \"text-align: left;\">O2-</td><td style = \"text-align: right;\">0.8482</td><td style = \"text-align: right;\">0.1197</td><td style = \"text-align: right;\">0.3908</td><td style = \"text-align: right;\">10.1065</td></tr></tbody></table></div>"
      ],
      "text/latex": [
       "\\begin{tabular}{r|ccccc}\n",
       "\t& atom & x & y & z & f\\\\\n",
       "\t\\hline\n",
       "\t& String & Float64 & Float64 & Float64 & Float64\\\\\n",
       "\t\\hline\n",
       "\t1 & Y3+ & 0.75 & 0.75 & 0.75 & 35.5803 \\\\\n",
       "\t2 & Y3+ & 1.03241 & 1.0 & 0.75 & 35.5803 \\\\\n",
       "\t3 & O2- & 0.6092 & 0.8482 & 0.6197 & 10.1065 \\\\\n",
       "\t4 & Y3+ & 0.75 & 0.25 & 0.25 & 35.5803 \\\\\n",
       "\t5 & Y3+ & 0.25 & 0.25 & 0.75 & 35.5803 \\\\\n",
       "\t6 & Y3+ & 0.25 & 0.75 & 0.25 & 35.5803 \\\\\n",
       "\t7 & Y3+ & 0.25 & 0.25 & 0.25 & 35.5803 \\\\\n",
       "\t8 & Y3+ & 0.25 & 0.75 & 0.75 & 35.5803 \\\\\n",
       "\t9 & Y3+ & 0.75 & 0.75 & 0.25 & 35.5803 \\\\\n",
       "\t10 & Y3+ & 0.75 & 0.25 & 0.75 & 35.5803 \\\\\n",
       "\t11 & Y3+ & 0.0324 & 0.0 & 0.75 & 35.5803 \\\\\n",
       "\t12 & Y3+ & 0.4676 & 0.0 & 0.25 & 35.5803 \\\\\n",
       "\t13 & Y3+ & 0.9676 & 0.5 & 0.75 & 35.5803 \\\\\n",
       "\t14 & Y3+ & 0.5324 & 0.5 & 0.25 & 35.5803 \\\\\n",
       "\t15 & Y3+ & 0.75 & 0.0324 & 0.0 & 35.5803 \\\\\n",
       "\t16 & Y3+ & 0.25 & 0.4676 & 0.0 & 35.5803 \\\\\n",
       "\t17 & Y3+ & 0.75 & 0.9676 & 0.5 & 35.5803 \\\\\n",
       "\t18 & Y3+ & 0.25 & 0.5324 & 0.5 & 35.5803 \\\\\n",
       "\t19 & Y3+ & 0.0 & 0.75 & 0.0324 & 35.5803 \\\\\n",
       "\t20 & Y3+ & 0.0 & 0.25 & 0.4676 & 35.5803 \\\\\n",
       "\t21 & Y3+ & 0.5 & 0.75 & 0.9676 & 35.5803 \\\\\n",
       "\t22 & Y3+ & 0.5 & 0.25 & 0.5324 & 35.5803 \\\\\n",
       "\t23 & Y3+ & 0.9676 & 0.0 & 0.25 & 35.5803 \\\\\n",
       "\t24 & Y3+ & 0.5324 & 0.0 & 0.75 & 35.5803 \\\\\n",
       "\t25 & Y3+ & 0.0324 & 0.5 & 0.25 & 35.5803 \\\\\n",
       "\t26 & Y3+ & 0.4676 & 0.5 & 0.75 & 35.5803 \\\\\n",
       "\t27 & Y3+ & 0.25 & 0.9676 & 0.0 & 35.5803 \\\\\n",
       "\t28 & Y3+ & 0.75 & 0.5324 & 0.0 & 35.5803 \\\\\n",
       "\t29 & Y3+ & 0.25 & 0.0324 & 0.5 & 35.5803 \\\\\n",
       "\t30 & Y3+ & 0.75 & 0.4676 & 0.5 & 35.5803 \\\\\n",
       "\t$\\dots$ & $\\dots$ & $\\dots$ & $\\dots$ & $\\dots$ & $\\dots$ \\\\\n",
       "\\end{tabular}\n"
      ],
      "text/plain": [
       "\u001b[1m82×5 DataFrame\u001b[0m\n",
       "\u001b[1m Row \u001b[0m│\u001b[1m atom   \u001b[0m\u001b[1m x       \u001b[0m\u001b[1m y       \u001b[0m\u001b[1m z       \u001b[0m\u001b[1m f       \u001b[0m\n",
       "     │\u001b[90m String \u001b[0m\u001b[90m Float64 \u001b[0m\u001b[90m Float64 \u001b[0m\u001b[90m Float64 \u001b[0m\u001b[90m Float64 \u001b[0m\n",
       "─────┼────────────────────────────────────────────\n",
       "   1 │ Y3+     0.75      0.75     0.75    35.5803\n",
       "   2 │ Y3+     1.03241   1.0      0.75    35.5803\n",
       "   3 │ O2-     0.6092    0.8482   0.6197  10.1065\n",
       "   4 │ Y3+     0.75      0.25     0.25    35.5803\n",
       "   5 │ Y3+     0.25      0.25     0.75    35.5803\n",
       "   6 │ Y3+     0.25      0.75     0.25    35.5803\n",
       "   7 │ Y3+     0.25      0.25     0.25    35.5803\n",
       "   8 │ Y3+     0.25      0.75     0.75    35.5803\n",
       "   9 │ Y3+     0.75      0.75     0.25    35.5803\n",
       "  10 │ Y3+     0.75      0.25     0.75    35.5803\n",
       "  11 │ Y3+     0.0324    0.0      0.75    35.5803\n",
       "  ⋮  │   ⋮        ⋮        ⋮        ⋮        ⋮\n",
       "  73 │ O2-     0.1092    0.1518   0.6197  10.1065\n",
       "  74 │ O2-     0.3908    0.8482   0.1197  10.1065\n",
       "  75 │ O2-     0.8803    0.8908   0.6518  10.1065\n",
       "  76 │ O2-     0.3803    0.6092   0.3482  10.1065\n",
       "  77 │ O2-     0.6197    0.1092   0.1518  10.1065\n",
       "  78 │ O2-     0.1197    0.3908   0.8482  10.1065\n",
       "  79 │ O2-     0.6518    0.8803   0.8908  10.1065\n",
       "  80 │ O2-     0.3482    0.3803   0.6092  10.1065\n",
       "  81 │ O2-     0.1518    0.6197   0.1092  10.1065\n",
       "  82 │ O2-     0.8482    0.1197   0.3908  10.1065\n",
       "\u001b[36m                                   61 rows omitted\u001b[0m"
      ]
     },
     "execution_count": 98,
     "metadata": {},
     "output_type": "execute_result"
    }
   ],
   "source": [
    "for (atom0, x0, y0, z0, f0) in eachrow(atomdata)\n",
    "    for xyz in unique(map(op -> (op * [x0, y0, z0, 1]), sg))\n",
    "        xyz = map(xyz) do t\n",
    "            round(t - round(t, RoundDown), digits = 4)\n",
    "        end\n",
    "        if isempty(subset(atomdata, [:x, :y, :z] => ByRow((x, y, z) -> all((x, y, z) .== xyz))))\n",
    "            push!(atomdata, (atom0, xyz..., f0))\n",
    "        end\n",
    "    end\n",
    "end\n",
    "atomdata"
   ]
  },
  {
   "cell_type": "code",
   "execution_count": 99,
   "id": "cff342f6-1946-4656-a0ba-3d2456ece501",
   "metadata": {},
   "outputs": [
    {
     "data": {
      "text/plain": [
       "structure_amplitude (generic function with 1 method)"
      ]
     },
     "execution_count": 99,
     "metadata": {},
     "output_type": "execute_result"
    }
   ],
   "source": [
    "structure_amplitude(h, k, l; atomdata = atomdata) = sum(eachrow(atomdata)) do row\n",
    "    _, x, y, z, f = collect(row)\n",
    "    f * cispi(2 * (h * x + k * y + l * z))\n",
    "end"
   ]
  },
  {
   "cell_type": "code",
   "execution_count": 100,
   "id": "28f8d6be-3306-4824-82a3-3d774295935f",
   "metadata": {
    "scrolled": true
   },
   "outputs": [
    {
     "data": {
      "text/html": [
       "<div><div style = \"float: left;\"><span>68921×3 DataFrame</span></div><div style = \"float: right;\"><span style = \"font-style: italic;\">68896 rows omitted</span></div><div style = \"clear: both;\"></div></div><div class = \"data-frame\" style = \"overflow-x: scroll;\"><table class = \"data-frame\" style = \"margin-bottom: 6px;\"><thead><tr class = \"header\"><th class = \"rowNumber\" style = \"font-weight: bold; text-align: right;\">Row</th><th style = \"text-align: left;\">h</th><th style = \"text-align: left;\">k</th><th style = \"text-align: left;\">l</th></tr><tr class = \"subheader headerLastRow\"><th class = \"rowNumber\" style = \"font-weight: bold; text-align: right;\"></th><th title = \"Int64\" style = \"text-align: left;\">Int64</th><th title = \"Int64\" style = \"text-align: left;\">Int64</th><th title = \"Int64\" style = \"text-align: left;\">Int64</th></tr></thead><tbody><tr><td class = \"rowNumber\" style = \"font-weight: bold; text-align: right;\">1</td><td style = \"text-align: right;\">-20</td><td style = \"text-align: right;\">-20</td><td style = \"text-align: right;\">-20</td></tr><tr><td class = \"rowNumber\" style = \"font-weight: bold; text-align: right;\">2</td><td style = \"text-align: right;\">-20</td><td style = \"text-align: right;\">-20</td><td style = \"text-align: right;\">-19</td></tr><tr><td class = \"rowNumber\" style = \"font-weight: bold; text-align: right;\">3</td><td style = \"text-align: right;\">-20</td><td style = \"text-align: right;\">-20</td><td style = \"text-align: right;\">-18</td></tr><tr><td class = \"rowNumber\" style = \"font-weight: bold; text-align: right;\">4</td><td style = \"text-align: right;\">-20</td><td style = \"text-align: right;\">-20</td><td style = \"text-align: right;\">-17</td></tr><tr><td class = \"rowNumber\" style = \"font-weight: bold; text-align: right;\">5</td><td style = \"text-align: right;\">-20</td><td style = \"text-align: right;\">-20</td><td style = \"text-align: right;\">-16</td></tr><tr><td class = \"rowNumber\" style = \"font-weight: bold; text-align: right;\">6</td><td style = \"text-align: right;\">-20</td><td style = \"text-align: right;\">-20</td><td style = \"text-align: right;\">-15</td></tr><tr><td class = \"rowNumber\" style = \"font-weight: bold; text-align: right;\">7</td><td style = \"text-align: right;\">-20</td><td style = \"text-align: right;\">-20</td><td style = \"text-align: right;\">-14</td></tr><tr><td class = \"rowNumber\" style = \"font-weight: bold; text-align: right;\">8</td><td style = \"text-align: right;\">-20</td><td style = \"text-align: right;\">-20</td><td style = \"text-align: right;\">-13</td></tr><tr><td class = \"rowNumber\" style = \"font-weight: bold; text-align: right;\">9</td><td style = \"text-align: right;\">-20</td><td style = \"text-align: right;\">-20</td><td style = \"text-align: right;\">-12</td></tr><tr><td class = \"rowNumber\" style = \"font-weight: bold; text-align: right;\">10</td><td style = \"text-align: right;\">-20</td><td style = \"text-align: right;\">-20</td><td style = \"text-align: right;\">-11</td></tr><tr><td class = \"rowNumber\" style = \"font-weight: bold; text-align: right;\">11</td><td style = \"text-align: right;\">-20</td><td style = \"text-align: right;\">-20</td><td style = \"text-align: right;\">-10</td></tr><tr><td class = \"rowNumber\" style = \"font-weight: bold; text-align: right;\">12</td><td style = \"text-align: right;\">-20</td><td style = \"text-align: right;\">-20</td><td style = \"text-align: right;\">-9</td></tr><tr><td class = \"rowNumber\" style = \"font-weight: bold; text-align: right;\">13</td><td style = \"text-align: right;\">-20</td><td style = \"text-align: right;\">-20</td><td style = \"text-align: right;\">-8</td></tr><tr><td style = \"text-align: right;\">&vellip;</td><td style = \"text-align: right;\">&vellip;</td><td style = \"text-align: right;\">&vellip;</td><td style = \"text-align: right;\">&vellip;</td></tr><tr><td class = \"rowNumber\" style = \"font-weight: bold; text-align: right;\">68910</td><td style = \"text-align: right;\">20</td><td style = \"text-align: right;\">20</td><td style = \"text-align: right;\">9</td></tr><tr><td class = \"rowNumber\" style = \"font-weight: bold; text-align: right;\">68911</td><td style = \"text-align: right;\">20</td><td style = \"text-align: right;\">20</td><td style = \"text-align: right;\">10</td></tr><tr><td class = \"rowNumber\" style = \"font-weight: bold; text-align: right;\">68912</td><td style = \"text-align: right;\">20</td><td style = \"text-align: right;\">20</td><td style = \"text-align: right;\">11</td></tr><tr><td class = \"rowNumber\" style = \"font-weight: bold; text-align: right;\">68913</td><td style = \"text-align: right;\">20</td><td style = \"text-align: right;\">20</td><td style = \"text-align: right;\">12</td></tr><tr><td class = \"rowNumber\" style = \"font-weight: bold; text-align: right;\">68914</td><td style = \"text-align: right;\">20</td><td style = \"text-align: right;\">20</td><td style = \"text-align: right;\">13</td></tr><tr><td class = \"rowNumber\" style = \"font-weight: bold; text-align: right;\">68915</td><td style = \"text-align: right;\">20</td><td style = \"text-align: right;\">20</td><td style = \"text-align: right;\">14</td></tr><tr><td class = \"rowNumber\" style = \"font-weight: bold; text-align: right;\">68916</td><td style = \"text-align: right;\">20</td><td style = \"text-align: right;\">20</td><td style = \"text-align: right;\">15</td></tr><tr><td class = \"rowNumber\" style = \"font-weight: bold; text-align: right;\">68917</td><td style = \"text-align: right;\">20</td><td style = \"text-align: right;\">20</td><td style = \"text-align: right;\">16</td></tr><tr><td class = \"rowNumber\" style = \"font-weight: bold; text-align: right;\">68918</td><td style = \"text-align: right;\">20</td><td style = \"text-align: right;\">20</td><td style = \"text-align: right;\">17</td></tr><tr><td class = \"rowNumber\" style = \"font-weight: bold; text-align: right;\">68919</td><td style = \"text-align: right;\">20</td><td style = \"text-align: right;\">20</td><td style = \"text-align: right;\">18</td></tr><tr><td class = \"rowNumber\" style = \"font-weight: bold; text-align: right;\">68920</td><td style = \"text-align: right;\">20</td><td style = \"text-align: right;\">20</td><td style = \"text-align: right;\">19</td></tr><tr><td class = \"rowNumber\" style = \"font-weight: bold; text-align: right;\">68921</td><td style = \"text-align: right;\">20</td><td style = \"text-align: right;\">20</td><td style = \"text-align: right;\">20</td></tr></tbody></table></div>"
      ],
      "text/latex": [
       "\\begin{tabular}{r|ccc}\n",
       "\t& h & k & l\\\\\n",
       "\t\\hline\n",
       "\t& Int64 & Int64 & Int64\\\\\n",
       "\t\\hline\n",
       "\t1 & -20 & -20 & -20 \\\\\n",
       "\t2 & -20 & -20 & -19 \\\\\n",
       "\t3 & -20 & -20 & -18 \\\\\n",
       "\t4 & -20 & -20 & -17 \\\\\n",
       "\t5 & -20 & -20 & -16 \\\\\n",
       "\t6 & -20 & -20 & -15 \\\\\n",
       "\t7 & -20 & -20 & -14 \\\\\n",
       "\t8 & -20 & -20 & -13 \\\\\n",
       "\t9 & -20 & -20 & -12 \\\\\n",
       "\t10 & -20 & -20 & -11 \\\\\n",
       "\t11 & -20 & -20 & -10 \\\\\n",
       "\t12 & -20 & -20 & -9 \\\\\n",
       "\t13 & -20 & -20 & -8 \\\\\n",
       "\t14 & -20 & -20 & -7 \\\\\n",
       "\t15 & -20 & -20 & -6 \\\\\n",
       "\t16 & -20 & -20 & -5 \\\\\n",
       "\t17 & -20 & -20 & -4 \\\\\n",
       "\t18 & -20 & -20 & -3 \\\\\n",
       "\t19 & -20 & -20 & -2 \\\\\n",
       "\t20 & -20 & -20 & -1 \\\\\n",
       "\t21 & -20 & -20 & 0 \\\\\n",
       "\t22 & -20 & -20 & 1 \\\\\n",
       "\t23 & -20 & -20 & 2 \\\\\n",
       "\t24 & -20 & -20 & 3 \\\\\n",
       "\t25 & -20 & -20 & 4 \\\\\n",
       "\t26 & -20 & -20 & 5 \\\\\n",
       "\t27 & -20 & -20 & 6 \\\\\n",
       "\t28 & -20 & -20 & 7 \\\\\n",
       "\t29 & -20 & -20 & 8 \\\\\n",
       "\t30 & -20 & -20 & 9 \\\\\n",
       "\t$\\dots$ & $\\dots$ & $\\dots$ & $\\dots$ \\\\\n",
       "\\end{tabular}\n"
      ],
      "text/plain": [
       "\u001b[1m68921×3 DataFrame\u001b[0m\n",
       "\u001b[1m   Row \u001b[0m│\u001b[1m h     \u001b[0m\u001b[1m k     \u001b[0m\u001b[1m l     \u001b[0m\n",
       "       │\u001b[90m Int64 \u001b[0m\u001b[90m Int64 \u001b[0m\u001b[90m Int64 \u001b[0m\n",
       "───────┼─────────────────────\n",
       "     1 │   -20    -20    -20\n",
       "     2 │   -20    -20    -19\n",
       "     3 │   -20    -20    -18\n",
       "     4 │   -20    -20    -17\n",
       "     5 │   -20    -20    -16\n",
       "     6 │   -20    -20    -15\n",
       "     7 │   -20    -20    -14\n",
       "     8 │   -20    -20    -13\n",
       "     9 │   -20    -20    -12\n",
       "    10 │   -20    -20    -11\n",
       "    11 │   -20    -20    -10\n",
       "   ⋮   │   ⋮      ⋮      ⋮\n",
       " 68912 │    20     20     11\n",
       " 68913 │    20     20     12\n",
       " 68914 │    20     20     13\n",
       " 68915 │    20     20     14\n",
       " 68916 │    20     20     15\n",
       " 68917 │    20     20     16\n",
       " 68918 │    20     20     17\n",
       " 68919 │    20     20     18\n",
       " 68920 │    20     20     19\n",
       " 68921 │    20     20     20\n",
       "\u001b[36m           68900 rows omitted\u001b[0m"
      ]
     },
     "execution_count": 100,
     "metadata": {},
     "output_type": "execute_result"
    }
   ],
   "source": [
    "refs = DataFrame(h = Int[], k = Int[], l = Int[])\n",
    "for h in -20:20, k in -20:20, l in -20:20\n",
    "    push!(refs, (h, k, l))\n",
    "end\n",
    "refs"
   ]
  },
  {
   "cell_type": "code",
   "execution_count": 101,
   "id": "5d0d3732-cd8b-4aa2-9d02-50bc9a07ed27",
   "metadata": {
    "scrolled": true
   },
   "outputs": [],
   "source": [
    "a_inv = ustrip(u\"keV\", 10.594u\"Å\", Spectral())\n",
    "bragg_tth(h, k, l; a = 1 / a_inv, λ = 1 / E) = try round(rad2deg(2asin(hypot(h, k, l) * λ / 2a)), digits = 4)\n",
    "catch\n",
    "    180.0\n",
    "end\n",
    "tth_ax = RotAxis(0, 0, 1)\n",
    "omega_ax = RotAxis(0, 0, 1)\n",
    "phi_ax = RotAxis(0, 0, -1)\n",
    "chi_ax = RotAxis(-1, 0, 0)\n",
    "χ = 54.7112\n",
    "phi_ax = chi_ax(deg2rad(χ)) * phi_ax\n",
    "UB = p4p[\"ORT\"] * ustrip(uconvert(u\"keV\", 1u\"Å^-1\", Spectral()))\n",
    "# UB *= p4p[\"CELL\"][1] / 10.6046\n",
    "UB = chi_ax(deg2rad(χ)) * UB\n",
    "function equator_angles(h, k, l, tth)\n",
    "    q = UB * [h, k, l]\n",
    "    eq = [cosd(90 + tth/2), sind(90 + tth/2), 0]\n",
    "    try map(orient_angles(phi_ax, omega_ax, q => eq)) do angles\n",
    "            @.rem(rad2deg(angles), 360, RoundDown)\n",
    "        end |> Tuple\n",
    "    catch\n",
    "        (nothing, nothing)\n",
    "    end\n",
    "end\n",
    "DataFrames.transform!(refs, [:h, :k, :l] => ByRow(bragg_tth) => [:tth])\n",
    "DataFrames.transform!(refs, [:h, :k, :l] => ByRow(abs ∘ structure_amplitude) => [:F])\n",
    "DataFrames.subset!(refs, :tth => tth -> @.tth != 180.0 && tth != 0.0);"
   ]
  },
  {
   "cell_type": "code",
   "execution_count": 102,
   "id": "f1ee99c5-c1fb-4885-ac91-88e6f04e7ae9",
   "metadata": {
    "scrolled": true
   },
   "outputs": [],
   "source": [
    "angles_raw = DataFrame(h = Int[], k = Int[], l = Int[], tth = Float64[], F = Float64[], phi = Float64[], omega = Float64[])\n",
    "for (h, k, l, tth0, FF) in eachrow(refs),\n",
    "    tth in (tth0, -tth0),\n",
    "    ang in equator_angles(h, k, l, tth)\n",
    "    if !isnothing(ang)\n",
    "        push!(angles_raw, (h, k, l, tth, FF, round(ang[1], digits = 4), round(ang[2], digits = 4)))\n",
    "    end\n",
    "end"
   ]
  },
  {
   "cell_type": "code",
   "execution_count": 103,
   "id": "21b929da-2657-4dd4-8a79-06a398109ad8",
   "metadata": {},
   "outputs": [
    {
     "data": {
      "text/plain": [
       "omega_range (generic function with 1 method)"
      ]
     },
     "execution_count": 103,
     "metadata": {},
     "output_type": "execute_result"
    }
   ],
   "source": [
    "function omega_range(distance)\n",
    "    data = [\n",
    "         39.033 -172.50 -7.50\n",
    "         48.890 -183.19  3.19\n",
    "         59.034 -191.94 11.94\n",
    "         69.087 -199.38 19.38\n",
    "         96.319 -214.94 34.94\n",
    "        109.357 -220.31 40.38\n",
    "        128.820 -226.88 46.88\n",
    "        138.855 -229.62 49.62\n",
    "        159.357 -234.44 54.44\n",
    "        178.843 -252.12 72.12\n",
    "        209.205 -270.00 90.00\n",
    "    ]\n",
    "    min = linear_interpolation(data[:, 1], data[:, 2])\n",
    "    max = linear_interpolation(data[:, 1], data[:, 3])\n",
    "    min(distance), max(distance)\n",
    "end"
   ]
  },
  {
   "cell_type": "code",
   "execution_count": 104,
   "id": "069a7e12-907b-4c0e-b1c4-21bec3d5bd40",
   "metadata": {},
   "outputs": [
    {
     "data": {
      "text/plain": [
       "collision_check (generic function with 4 methods)"
      ]
     },
     "execution_count": 104,
     "metadata": {},
     "output_type": "execute_result"
    }
   ],
   "source": [
    "function collision_check(tth, omega, distance = 96.319, tthDneg = 80, scan = 4)\n",
    "    tthD = tth < 0 ? -tthDneg : 2tth - tthDneg\n",
    "    omega_1, omega_2 = omega_range(distance) .+ tthD\n",
    "    omega_mean = (omega_1 + omega_2) / 2\n",
    "    omega_gap = abs(omega_1 - omega_2) / 2\n",
    "    abs(rem(omega + scan / 2 - omega_mean, 360, RoundNearest)) < omega_gap &&\n",
    "    abs(rem(omega - scan / 2 - omega_mean, 360, RoundNearest)) < omega_gap &&\n",
    "    90 < abs(tth) < 110\n",
    "end"
   ]
  },
  {
   "cell_type": "code",
   "execution_count": 105,
   "id": "8fc97d4c-bf31-4de6-b627-8ef73636becd",
   "metadata": {
    "scrolled": true
   },
   "outputs": [
    {
     "data": {
      "text/html": [
       "<div><div style = \"float: left;\"><span>4862×7 DataFrame</span></div><div style = \"float: right;\"><span style = \"font-style: italic;\">4837 rows omitted</span></div><div style = \"clear: both;\"></div></div><div class = \"data-frame\" style = \"overflow-x: scroll;\"><table class = \"data-frame\" style = \"margin-bottom: 6px;\"><thead><tr class = \"header\"><th class = \"rowNumber\" style = \"font-weight: bold; text-align: right;\">Row</th><th style = \"text-align: left;\">h</th><th style = \"text-align: left;\">k</th><th style = \"text-align: left;\">l</th><th style = \"text-align: left;\">tth</th><th style = \"text-align: left;\">F</th><th style = \"text-align: left;\">phi</th><th style = \"text-align: left;\">omega</th></tr><tr class = \"subheader headerLastRow\"><th class = \"rowNumber\" style = \"font-weight: bold; text-align: right;\"></th><th title = \"Int64\" style = \"text-align: left;\">Int64</th><th title = \"Int64\" style = \"text-align: left;\">Int64</th><th title = \"Int64\" style = \"text-align: left;\">Int64</th><th title = \"Float64\" style = \"text-align: left;\">Float64</th><th title = \"Float64\" style = \"text-align: left;\">Float64</th><th title = \"Float64\" style = \"text-align: left;\">Float64</th><th title = \"Float64\" style = \"text-align: left;\">Float64</th></tr></thead><tbody><tr><td class = \"rowNumber\" style = \"font-weight: bold; text-align: right;\">1</td><td style = \"text-align: right;\">-11</td><td style = \"text-align: right;\">-2</td><td style = \"text-align: right;\">-1</td><td style = \"text-align: right;\">-109.407</td><td style = \"text-align: right;\">225.784</td><td style = \"text-align: right;\">55.5709</td><td style = \"text-align: right;\">144.016</td></tr><tr><td class = \"rowNumber\" style = \"font-weight: bold; text-align: right;\">2</td><td style = \"text-align: right;\">-11</td><td style = \"text-align: right;\">-2</td><td style = \"text-align: right;\">-1</td><td style = \"text-align: right;\">-109.407</td><td style = \"text-align: right;\">225.784</td><td style = \"text-align: right;\">354.78</td><td style = \"text-align: right;\">106.576</td></tr><tr><td class = \"rowNumber\" style = \"font-weight: bold; text-align: right;\">3</td><td style = \"text-align: right;\">-11</td><td style = \"text-align: right;\">-2</td><td style = \"text-align: right;\">0</td><td style = \"text-align: right;\">-108.766</td><td style = \"text-align: right;\">45.4252</td><td style = \"text-align: right;\">68.1314</td><td style = \"text-align: right;\">154.62</td></tr><tr><td class = \"rowNumber\" style = \"font-weight: bold; text-align: right;\">4</td><td style = \"text-align: right;\">-11</td><td style = \"text-align: right;\">-2</td><td style = \"text-align: right;\">0</td><td style = \"text-align: right;\">-108.766</td><td style = \"text-align: right;\">45.4252</td><td style = \"text-align: right;\">340.49</td><td style = \"text-align: right;\">96.6134</td></tr><tr><td class = \"rowNumber\" style = \"font-weight: bold; text-align: right;\">5</td><td style = \"text-align: right;\">-11</td><td style = \"text-align: right;\">-2</td><td style = \"text-align: right;\">1</td><td style = \"text-align: right;\">-109.407</td><td style = \"text-align: right;\">163.66</td><td style = \"text-align: right;\">76.4483</td><td style = \"text-align: right;\">162.629</td></tr><tr><td class = \"rowNumber\" style = \"font-weight: bold; text-align: right;\">6</td><td style = \"text-align: right;\">-11</td><td style = \"text-align: right;\">-2</td><td style = \"text-align: right;\">1</td><td style = \"text-align: right;\">-109.407</td><td style = \"text-align: right;\">163.66</td><td style = \"text-align: right;\">330.732</td><td style = \"text-align: right;\">87.9636</td></tr><tr><td class = \"rowNumber\" style = \"font-weight: bold; text-align: right;\">7</td><td style = \"text-align: right;\">-11</td><td style = \"text-align: right;\">-1</td><td style = \"text-align: right;\">-1</td><td style = \"text-align: right;\">-107.491</td><td style = \"text-align: right;\">45.082</td><td style = \"text-align: right;\">46.059</td><td style = \"text-align: right;\">143.957</td></tr><tr><td class = \"rowNumber\" style = \"font-weight: bold; text-align: right;\">8</td><td style = \"text-align: right;\">-11</td><td style = \"text-align: right;\">-1</td><td style = \"text-align: right;\">-1</td><td style = \"text-align: right;\">-107.491</td><td style = \"text-align: right;\">45.082</td><td style = \"text-align: right;\">348.217</td><td style = \"text-align: right;\">108.552</td></tr><tr><td class = \"rowNumber\" style = \"font-weight: bold; text-align: right;\">9</td><td style = \"text-align: right;\">-11</td><td style = \"text-align: right;\">-1</td><td style = \"text-align: right;\">0</td><td style = \"text-align: right;\">-106.857</td><td style = \"text-align: right;\">40.2575</td><td style = \"text-align: right;\">60.1556</td><td style = \"text-align: right;\">155.01</td></tr><tr><td class = \"rowNumber\" style = \"font-weight: bold; text-align: right;\">10</td><td style = \"text-align: right;\">-11</td><td style = \"text-align: right;\">-1</td><td style = \"text-align: right;\">0</td><td style = \"text-align: right;\">-106.857</td><td style = \"text-align: right;\">40.2575</td><td style = \"text-align: right;\">333.852</td><td style = \"text-align: right;\">98.1324</td></tr><tr><td class = \"rowNumber\" style = \"font-weight: bold; text-align: right;\">11</td><td style = \"text-align: right;\">-11</td><td style = \"text-align: right;\">-1</td><td style = \"text-align: right;\">1</td><td style = \"text-align: right;\">-107.491</td><td style = \"text-align: right;\">32.3868</td><td style = \"text-align: right;\">69.3988</td><td style = \"text-align: right;\">163.235</td></tr><tr><td class = \"rowNumber\" style = \"font-weight: bold; text-align: right;\">12</td><td style = \"text-align: right;\">-11</td><td style = \"text-align: right;\">-1</td><td style = \"text-align: right;\">1</td><td style = \"text-align: right;\">-107.491</td><td style = \"text-align: right;\">32.3868</td><td style = \"text-align: right;\">324.387</td><td style = \"text-align: right;\">89.2734</td></tr><tr><td class = \"rowNumber\" style = \"font-weight: bold; text-align: right;\">13</td><td style = \"text-align: right;\">-11</td><td style = \"text-align: right;\">-1</td><td style = \"text-align: right;\">2</td><td style = \"text-align: right;\">-109.407</td><td style = \"text-align: right;\">41.3678</td><td style = \"text-align: right;\">76.3469</td><td style = \"text-align: right;\">169.794</td></tr><tr><td style = \"text-align: right;\">&vellip;</td><td style = \"text-align: right;\">&vellip;</td><td style = \"text-align: right;\">&vellip;</td><td style = \"text-align: right;\">&vellip;</td><td style = \"text-align: right;\">&vellip;</td><td style = \"text-align: right;\">&vellip;</td><td style = \"text-align: right;\">&vellip;</td><td style = \"text-align: right;\">&vellip;</td></tr><tr><td class = \"rowNumber\" style = \"font-weight: bold; text-align: right;\">4851</td><td style = \"text-align: right;\">11</td><td style = \"text-align: right;\">1</td><td style = \"text-align: right;\">1</td><td style = \"text-align: right;\">107.491</td><td style = \"text-align: right;\">45.082</td><td style = \"text-align: right;\">348.217</td><td style = \"text-align: right;\">36.0433</td></tr><tr><td class = \"rowNumber\" style = \"font-weight: bold; text-align: right;\">4852</td><td style = \"text-align: right;\">11</td><td style = \"text-align: right;\">1</td><td style = \"text-align: right;\">1</td><td style = \"text-align: right;\">107.491</td><td style = \"text-align: right;\">45.082</td><td style = \"text-align: right;\">46.059</td><td style = \"text-align: right;\">71.448</td></tr><tr><td class = \"rowNumber\" style = \"font-weight: bold; text-align: right;\">4853</td><td style = \"text-align: right;\">11</td><td style = \"text-align: right;\">1</td><td style = \"text-align: right;\">1</td><td style = \"text-align: right;\">-107.491</td><td style = \"text-align: right;\">45.082</td><td style = \"text-align: right;\">348.217</td><td style = \"text-align: right;\">288.552</td></tr><tr><td class = \"rowNumber\" style = \"font-weight: bold; text-align: right;\">4854</td><td style = \"text-align: right;\">11</td><td style = \"text-align: right;\">2</td><td style = \"text-align: right;\">-1</td><td style = \"text-align: right;\">109.407</td><td style = \"text-align: right;\">163.66</td><td style = \"text-align: right;\">330.732</td><td style = \"text-align: right;\">17.371</td></tr><tr><td class = \"rowNumber\" style = \"font-weight: bold; text-align: right;\">4855</td><td style = \"text-align: right;\">11</td><td style = \"text-align: right;\">2</td><td style = \"text-align: right;\">-1</td><td style = \"text-align: right;\">109.407</td><td style = \"text-align: right;\">163.66</td><td style = \"text-align: right;\">76.4483</td><td style = \"text-align: right;\">92.0364</td></tr><tr><td class = \"rowNumber\" style = \"font-weight: bold; text-align: right;\">4856</td><td style = \"text-align: right;\">11</td><td style = \"text-align: right;\">2</td><td style = \"text-align: right;\">-1</td><td style = \"text-align: right;\">-109.407</td><td style = \"text-align: right;\">163.66</td><td style = \"text-align: right;\">330.732</td><td style = \"text-align: right;\">267.964</td></tr><tr><td class = \"rowNumber\" style = \"font-weight: bold; text-align: right;\">4857</td><td style = \"text-align: right;\">11</td><td style = \"text-align: right;\">2</td><td style = \"text-align: right;\">0</td><td style = \"text-align: right;\">108.766</td><td style = \"text-align: right;\">45.4252</td><td style = \"text-align: right;\">340.49</td><td style = \"text-align: right;\">25.3797</td></tr><tr><td class = \"rowNumber\" style = \"font-weight: bold; text-align: right;\">4858</td><td style = \"text-align: right;\">11</td><td style = \"text-align: right;\">2</td><td style = \"text-align: right;\">0</td><td style = \"text-align: right;\">108.766</td><td style = \"text-align: right;\">45.4252</td><td style = \"text-align: right;\">68.1314</td><td style = \"text-align: right;\">83.3866</td></tr><tr><td class = \"rowNumber\" style = \"font-weight: bold; text-align: right;\">4859</td><td style = \"text-align: right;\">11</td><td style = \"text-align: right;\">2</td><td style = \"text-align: right;\">0</td><td style = \"text-align: right;\">-108.766</td><td style = \"text-align: right;\">45.4252</td><td style = \"text-align: right;\">340.49</td><td style = \"text-align: right;\">276.613</td></tr><tr><td class = \"rowNumber\" style = \"font-weight: bold; text-align: right;\">4860</td><td style = \"text-align: right;\">11</td><td style = \"text-align: right;\">2</td><td style = \"text-align: right;\">1</td><td style = \"text-align: right;\">109.407</td><td style = \"text-align: right;\">225.784</td><td style = \"text-align: right;\">354.78</td><td style = \"text-align: right;\">35.9837</td></tr><tr><td class = \"rowNumber\" style = \"font-weight: bold; text-align: right;\">4861</td><td style = \"text-align: right;\">11</td><td style = \"text-align: right;\">2</td><td style = \"text-align: right;\">1</td><td style = \"text-align: right;\">109.407</td><td style = \"text-align: right;\">225.784</td><td style = \"text-align: right;\">55.5709</td><td style = \"text-align: right;\">73.4237</td></tr><tr><td class = \"rowNumber\" style = \"font-weight: bold; text-align: right;\">4862</td><td style = \"text-align: right;\">11</td><td style = \"text-align: right;\">2</td><td style = \"text-align: right;\">1</td><td style = \"text-align: right;\">-109.407</td><td style = \"text-align: right;\">225.784</td><td style = \"text-align: right;\">354.78</td><td style = \"text-align: right;\">286.576</td></tr></tbody></table></div>"
      ],
      "text/latex": [
       "\\begin{tabular}{r|ccccccc}\n",
       "\t& h & k & l & tth & F & phi & omega\\\\\n",
       "\t\\hline\n",
       "\t& Int64 & Int64 & Int64 & Float64 & Float64 & Float64 & Float64\\\\\n",
       "\t\\hline\n",
       "\t1 & -11 & -2 & -1 & -109.407 & 225.784 & 55.5709 & 144.016 \\\\\n",
       "\t2 & -11 & -2 & -1 & -109.407 & 225.784 & 354.78 & 106.576 \\\\\n",
       "\t3 & -11 & -2 & 0 & -108.766 & 45.4252 & 68.1314 & 154.62 \\\\\n",
       "\t4 & -11 & -2 & 0 & -108.766 & 45.4252 & 340.49 & 96.6134 \\\\\n",
       "\t5 & -11 & -2 & 1 & -109.407 & 163.66 & 76.4483 & 162.629 \\\\\n",
       "\t6 & -11 & -2 & 1 & -109.407 & 163.66 & 330.732 & 87.9636 \\\\\n",
       "\t7 & -11 & -1 & -1 & -107.491 & 45.082 & 46.059 & 143.957 \\\\\n",
       "\t8 & -11 & -1 & -1 & -107.491 & 45.082 & 348.217 & 108.552 \\\\\n",
       "\t9 & -11 & -1 & 0 & -106.857 & 40.2575 & 60.1556 & 155.01 \\\\\n",
       "\t10 & -11 & -1 & 0 & -106.857 & 40.2575 & 333.852 & 98.1324 \\\\\n",
       "\t11 & -11 & -1 & 1 & -107.491 & 32.3868 & 69.3988 & 163.235 \\\\\n",
       "\t12 & -11 & -1 & 1 & -107.491 & 32.3868 & 324.387 & 89.2734 \\\\\n",
       "\t13 & -11 & -1 & 2 & -109.407 & 41.3678 & 76.3469 & 169.794 \\\\\n",
       "\t14 & -11 & -1 & 2 & -109.407 & 41.3678 & 317.252 & 80.799 \\\\\n",
       "\t15 & -11 & 0 & -1 & -106.857 & 39.0855 & 38.4031 & 144.657 \\\\\n",
       "\t16 & -11 & 0 & -1 & -106.857 & 39.0855 & 339.443 & 108.485 \\\\\n",
       "\t17 & -11 & 0 & 0 & -106.225 & 31.0648 & 53.0416 & 155.608 \\\\\n",
       "\t18 & -11 & 0 & 0 & -106.225 & 31.0648 & 326.069 & 98.1666 \\\\\n",
       "\t19 & -11 & 0 & 1 & -106.857 & 25.6472 & 62.8415 & 163.808 \\\\\n",
       "\t20 & -11 & 0 & 1 & -106.857 & 25.6472 & 317.318 & 89.3353 \\\\\n",
       "\t21 & -11 & 0 & 2 & -108.766 & 28.2956 & 70.2857 & 170.362 \\\\\n",
       "\t22 & -11 & 0 & 2 & -108.766 & 28.2956 & 310.759 & 80.872 \\\\\n",
       "\t23 & -11 & 1 & -1 & -107.491 & 29.8073 & 32.8132 & 146.07 \\\\\n",
       "\t24 & -11 & 1 & -1 & -107.491 & 29.8073 & 328.908 & 106.439 \\\\\n",
       "\t25 & -11 & 1 & 0 & -106.857 & 25.4773 & 47.0092 & 156.412 \\\\\n",
       "\t26 & -11 & 1 & 0 & -106.857 & 25.4773 & 317.413 & 96.7312 \\\\\n",
       "\t27 & -11 & 1 & 1 & -107.491 & 29.4162 & 56.9549 & 164.351 \\\\\n",
       "\t28 & -11 & 1 & 1 & -107.491 & 29.4162 & 309.726 & 88.1582 \\\\\n",
       "\t29 & -11 & 1 & 2 & -109.407 & 34.7781 & 64.6682 & 170.744 \\\\\n",
       "\t30 & -11 & 1 & 2 & -109.407 & 34.7781 & 303.926 & 79.8491 \\\\\n",
       "\t$\\dots$ & $\\dots$ & $\\dots$ & $\\dots$ & $\\dots$ & $\\dots$ & $\\dots$ & $\\dots$ \\\\\n",
       "\\end{tabular}\n"
      ],
      "text/plain": [
       "\u001b[1m4862×7 DataFrame\u001b[0m\n",
       "\u001b[1m  Row \u001b[0m│\u001b[1m h     \u001b[0m\u001b[1m k     \u001b[0m\u001b[1m l     \u001b[0m\u001b[1m tth      \u001b[0m\u001b[1m F        \u001b[0m\u001b[1m phi      \u001b[0m\u001b[1m omega    \u001b[0m\n",
       "      │\u001b[90m Int64 \u001b[0m\u001b[90m Int64 \u001b[0m\u001b[90m Int64 \u001b[0m\u001b[90m Float64  \u001b[0m\u001b[90m Float64  \u001b[0m\u001b[90m Float64  \u001b[0m\u001b[90m Float64  \u001b[0m\n",
       "──────┼─────────────────────────────────────────────────────────────\n",
       "    1 │   -11     -2     -1  -109.407  225.784    55.5709  144.016\n",
       "    2 │   -11     -2     -1  -109.407  225.784   354.78    106.576\n",
       "    3 │   -11     -2      0  -108.766   45.4252   68.1314  154.62\n",
       "    4 │   -11     -2      0  -108.766   45.4252  340.49     96.6134\n",
       "    5 │   -11     -2      1  -109.407  163.66     76.4483  162.629\n",
       "    6 │   -11     -2      1  -109.407  163.66    330.732    87.9636\n",
       "    7 │   -11     -1     -1  -107.491   45.082    46.059   143.957\n",
       "    8 │   -11     -1     -1  -107.491   45.082   348.217   108.552\n",
       "    9 │   -11     -1      0  -106.857   40.2575   60.1556  155.01\n",
       "   10 │   -11     -1      0  -106.857   40.2575  333.852    98.1324\n",
       "   11 │   -11     -1      1  -107.491   32.3868   69.3988  163.235\n",
       "  ⋮   │   ⋮      ⋮      ⋮       ⋮         ⋮         ⋮         ⋮\n",
       " 4853 │    11      1      1  -107.491   45.082   348.217   288.552\n",
       " 4854 │    11      2     -1   109.407  163.66    330.732    17.371\n",
       " 4855 │    11      2     -1   109.407  163.66     76.4483   92.0364\n",
       " 4856 │    11      2     -1  -109.407  163.66    330.732   267.964\n",
       " 4857 │    11      2      0   108.766   45.4252  340.49     25.3797\n",
       " 4858 │    11      2      0   108.766   45.4252   68.1314   83.3866\n",
       " 4859 │    11      2      0  -108.766   45.4252  340.49    276.613\n",
       " 4860 │    11      2      1   109.407  225.784   354.78     35.9837\n",
       " 4861 │    11      2      1   109.407  225.784    55.5709   73.4237\n",
       " 4862 │    11      2      1  -109.407  225.784   354.78    286.576\n",
       "\u001b[36m                                                   4841 rows omitted\u001b[0m"
      ]
     },
     "execution_count": 105,
     "metadata": {},
     "output_type": "execute_result"
    }
   ],
   "source": [
    "angles = subset(angles_raw, [:tth, :omega] => ByRow(collision_check))"
   ]
  },
  {
   "cell_type": "code",
   "execution_count": 106,
   "id": "7f4a410f-dacc-4323-8c22-c83f24928e63",
   "metadata": {
    "scrolled": true
   },
   "outputs": [
    {
     "data": {
      "text/html": [
       "<div><div style = \"float: left;\"><span>1556×8 DataFrame</span></div><div style = \"float: right;\"><span style = \"font-style: italic;\">1531 rows omitted</span></div><div style = \"clear: both;\"></div></div><div class = \"data-frame\" style = \"overflow-x: scroll;\"><table class = \"data-frame\" style = \"margin-bottom: 6px;\"><thead><tr class = \"header\"><th class = \"rowNumber\" style = \"font-weight: bold; text-align: right;\">Row</th><th style = \"text-align: left;\">h</th><th style = \"text-align: left;\">k</th><th style = \"text-align: left;\">l</th><th style = \"text-align: left;\">tth</th><th style = \"text-align: left;\">F</th><th style = \"text-align: left;\">phi</th><th style = \"text-align: left;\">omega_pos</th><th style = \"text-align: left;\">omega_neg</th></tr><tr class = \"subheader headerLastRow\"><th class = \"rowNumber\" style = \"font-weight: bold; text-align: right;\"></th><th title = \"Int64\" style = \"text-align: left;\">Int64</th><th title = \"Int64\" style = \"text-align: left;\">Int64</th><th title = \"Int64\" style = \"text-align: left;\">Int64</th><th title = \"Float64\" style = \"text-align: left;\">Float64</th><th title = \"Float64\" style = \"text-align: left;\">Float64</th><th title = \"Float64\" style = \"text-align: left;\">Float64</th><th title = \"Float64\" style = \"text-align: left;\">Float64</th><th title = \"Float64\" style = \"text-align: left;\">Float64</th></tr></thead><tbody><tr><td class = \"rowNumber\" style = \"font-weight: bold; text-align: right;\">1</td><td style = \"text-align: right;\">-10</td><td style = \"text-align: right;\">-4</td><td style = \"text-align: right;\">2</td><td style = \"text-align: right;\">105.595</td><td style = \"text-align: right;\">535.453</td><td style = \"text-align: right;\">98.918</td><td style = \"text-align: right;\">280.819</td><td style = \"text-align: right;\">175.224</td></tr><tr><td class = \"rowNumber\" style = \"font-weight: bold; text-align: right;\">2</td><td style = \"text-align: right;\">-10</td><td style = \"text-align: right;\">-4</td><td style = \"text-align: right;\">3</td><td style = \"text-align: right;\">108.766</td><td style = \"text-align: right;\">26.199</td><td style = \"text-align: right;\">102.599</td><td style = \"text-align: right;\">289.0</td><td style = \"text-align: right;\">180.233</td></tr><tr><td class = \"rowNumber\" style = \"font-weight: bold; text-align: right;\">3</td><td style = \"text-align: right;\">-10</td><td style = \"text-align: right;\">-3</td><td style = \"text-align: right;\">1</td><td style = \"text-align: right;\">99.3871</td><td style = \"text-align: right;\">284.266</td><td style = \"text-align: right;\">86.5213</td><td style = \"text-align: right;\">269.011</td><td style = \"text-align: right;\">169.624</td></tr><tr><td class = \"rowNumber\" style = \"font-weight: bold; text-align: right;\">4</td><td style = \"text-align: right;\">-10</td><td style = \"text-align: right;\">-3</td><td style = \"text-align: right;\">2</td><td style = \"text-align: right;\">101.234</td><td style = \"text-align: right;\">26.8971</td><td style = \"text-align: right;\">92.0509</td><td style = \"text-align: right;\">277.533</td><td style = \"text-align: right;\">176.299</td></tr><tr><td class = \"rowNumber\" style = \"font-weight: bold; text-align: right;\">5</td><td style = \"text-align: right;\">-10</td><td style = \"text-align: right;\">-3</td><td style = \"text-align: right;\">3</td><td style = \"text-align: right;\">104.341</td><td style = \"text-align: right;\">323.731</td><td style = \"text-align: right;\">96.4519</td><td style = \"text-align: right;\">286.019</td><td style = \"text-align: right;\">181.678</td></tr><tr><td class = \"rowNumber\" style = \"font-weight: bold; text-align: right;\">6</td><td style = \"text-align: right;\">-10</td><td style = \"text-align: right;\">-3</td><td style = \"text-align: right;\">4</td><td style = \"text-align: right;\">108.766</td><td style = \"text-align: right;\">41.5828</td><td style = \"text-align: right;\">100.084</td><td style = \"text-align: right;\">294.589</td><td style = \"text-align: right;\">185.823</td></tr><tr><td class = \"rowNumber\" style = \"font-weight: bold; text-align: right;\">7</td><td style = \"text-align: right;\">-10</td><td style = \"text-align: right;\">-2</td><td style = \"text-align: right;\">1</td><td style = \"text-align: right;\">96.3289</td><td style = \"text-align: right;\">27.7896</td><td style = \"text-align: right;\">78.579</td><td style = \"text-align: right;\">266.404</td><td style = \"text-align: right;\">170.075</td></tr><tr><td class = \"rowNumber\" style = \"font-weight: bold; text-align: right;\">8</td><td style = \"text-align: right;\">-10</td><td style = \"text-align: right;\">-2</td><td style = \"text-align: right;\">2</td><td style = \"text-align: right;\">98.1611</td><td style = \"text-align: right;\">682.842</td><td style = \"text-align: right;\">85.0616</td><td style = \"text-align: right;\">275.262</td><td style = \"text-align: right;\">177.101</td></tr><tr><td class = \"rowNumber\" style = \"font-weight: bold; text-align: right;\">9</td><td style = \"text-align: right;\">-10</td><td style = \"text-align: right;\">-2</td><td style = \"text-align: right;\">3</td><td style = \"text-align: right;\">101.234</td><td style = \"text-align: right;\">42.5395</td><td style = \"text-align: right;\">90.1754</td><td style = \"text-align: right;\">283.987</td><td style = \"text-align: right;\">182.753</td></tr><tr><td class = \"rowNumber\" style = \"font-weight: bold; text-align: right;\">10</td><td style = \"text-align: right;\">-10</td><td style = \"text-align: right;\">-2</td><td style = \"text-align: right;\">4</td><td style = \"text-align: right;\">105.595</td><td style = \"text-align: right;\">276.422</td><td style = \"text-align: right;\">94.37</td><td style = \"text-align: right;\">292.724</td><td style = \"text-align: right;\">187.128</td></tr><tr><td class = \"rowNumber\" style = \"font-weight: bold; text-align: right;\">11</td><td style = \"text-align: right;\">-10</td><td style = \"text-align: right;\">-1</td><td style = \"text-align: right;\">0</td><td style = \"text-align: right;\">93.8957</td><td style = \"text-align: right;\">28.8433</td><td style = \"text-align: right;\">60.9197</td><td style = \"text-align: right;\">255.406</td><td style = \"text-align: right;\">161.511</td></tr><tr><td class = \"rowNumber\" style = \"font-weight: bold; text-align: right;\">12</td><td style = \"text-align: right;\">-10</td><td style = \"text-align: right;\">-1</td><td style = \"text-align: right;\">1</td><td style = \"text-align: right;\">94.5032</td><td style = \"text-align: right;\">220.702</td><td style = \"text-align: right;\">70.8559</td><td style = \"text-align: right;\">265.03</td><td style = \"text-align: right;\">170.526</td></tr><tr><td class = \"rowNumber\" style = \"font-weight: bold; text-align: right;\">13</td><td style = \"text-align: right;\">-10</td><td style = \"text-align: right;\">-1</td><td style = \"text-align: right;\">2</td><td style = \"text-align: right;\">96.3289</td><td style = \"text-align: right;\">43.3825</td><td style = \"text-align: right;\">78.1652</td><td style = \"text-align: right;\">274.075</td><td style = \"text-align: right;\">177.746</td></tr><tr><td style = \"text-align: right;\">&vellip;</td><td style = \"text-align: right;\">&vellip;</td><td style = \"text-align: right;\">&vellip;</td><td style = \"text-align: right;\">&vellip;</td><td style = \"text-align: right;\">&vellip;</td><td style = \"text-align: right;\">&vellip;</td><td style = \"text-align: right;\">&vellip;</td><td style = \"text-align: right;\">&vellip;</td><td style = \"text-align: right;\">&vellip;</td></tr><tr><td class = \"rowNumber\" style = \"font-weight: bold; text-align: right;\">1545</td><td style = \"text-align: right;\">11</td><td style = \"text-align: right;\">-1</td><td style = \"text-align: right;\">1</td><td style = \"text-align: right;\">107.491</td><td style = \"text-align: right;\">29.8073</td><td style = \"text-align: right;\">328.908</td><td style = \"text-align: right;\">33.9303</td><td style = \"text-align: right;\">286.439</td></tr><tr><td class = \"rowNumber\" style = \"font-weight: bold; text-align: right;\">1546</td><td style = \"text-align: right;\">11</td><td style = \"text-align: right;\">0</td><td style = \"text-align: right;\">-2</td><td style = \"text-align: right;\">108.766</td><td style = \"text-align: right;\">28.2956</td><td style = \"text-align: right;\">310.759</td><td style = \"text-align: right;\">9.6383</td><td style = \"text-align: right;\">260.872</td></tr><tr><td class = \"rowNumber\" style = \"font-weight: bold; text-align: right;\">1547</td><td style = \"text-align: right;\">11</td><td style = \"text-align: right;\">0</td><td style = \"text-align: right;\">-1</td><td style = \"text-align: right;\">106.857</td><td style = \"text-align: right;\">25.6472</td><td style = \"text-align: right;\">317.318</td><td style = \"text-align: right;\">16.1925</td><td style = \"text-align: right;\">269.335</td></tr><tr><td class = \"rowNumber\" style = \"font-weight: bold; text-align: right;\">1548</td><td style = \"text-align: right;\">11</td><td style = \"text-align: right;\">0</td><td style = \"text-align: right;\">0</td><td style = \"text-align: right;\">106.225</td><td style = \"text-align: right;\">31.0648</td><td style = \"text-align: right;\">326.069</td><td style = \"text-align: right;\">24.3919</td><td style = \"text-align: right;\">278.167</td></tr><tr><td class = \"rowNumber\" style = \"font-weight: bold; text-align: right;\">1549</td><td style = \"text-align: right;\">11</td><td style = \"text-align: right;\">0</td><td style = \"text-align: right;\">1</td><td style = \"text-align: right;\">106.857</td><td style = \"text-align: right;\">39.0855</td><td style = \"text-align: right;\">339.443</td><td style = \"text-align: right;\">35.3426</td><td style = \"text-align: right;\">288.485</td></tr><tr><td class = \"rowNumber\" style = \"font-weight: bold; text-align: right;\">1550</td><td style = \"text-align: right;\">11</td><td style = \"text-align: right;\">1</td><td style = \"text-align: right;\">-2</td><td style = \"text-align: right;\">109.407</td><td style = \"text-align: right;\">41.3678</td><td style = \"text-align: right;\">317.252</td><td style = \"text-align: right;\">10.2064</td><td style = \"text-align: right;\">260.799</td></tr><tr><td class = \"rowNumber\" style = \"font-weight: bold; text-align: right;\">1551</td><td style = \"text-align: right;\">11</td><td style = \"text-align: right;\">1</td><td style = \"text-align: right;\">-1</td><td style = \"text-align: right;\">107.491</td><td style = \"text-align: right;\">32.3868</td><td style = \"text-align: right;\">324.387</td><td style = \"text-align: right;\">16.7647</td><td style = \"text-align: right;\">269.273</td></tr><tr><td class = \"rowNumber\" style = \"font-weight: bold; text-align: right;\">1552</td><td style = \"text-align: right;\">11</td><td style = \"text-align: right;\">1</td><td style = \"text-align: right;\">0</td><td style = \"text-align: right;\">106.857</td><td style = \"text-align: right;\">40.2575</td><td style = \"text-align: right;\">333.852</td><td style = \"text-align: right;\">24.9896</td><td style = \"text-align: right;\">278.132</td></tr><tr><td class = \"rowNumber\" style = \"font-weight: bold; text-align: right;\">1553</td><td style = \"text-align: right;\">11</td><td style = \"text-align: right;\">1</td><td style = \"text-align: right;\">1</td><td style = \"text-align: right;\">107.491</td><td style = \"text-align: right;\">45.082</td><td style = \"text-align: right;\">348.217</td><td style = \"text-align: right;\">36.0433</td><td style = \"text-align: right;\">288.552</td></tr><tr><td class = \"rowNumber\" style = \"font-weight: bold; text-align: right;\">1554</td><td style = \"text-align: right;\">11</td><td style = \"text-align: right;\">2</td><td style = \"text-align: right;\">-1</td><td style = \"text-align: right;\">109.407</td><td style = \"text-align: right;\">163.66</td><td style = \"text-align: right;\">330.732</td><td style = \"text-align: right;\">17.371</td><td style = \"text-align: right;\">267.964</td></tr><tr><td class = \"rowNumber\" style = \"font-weight: bold; text-align: right;\">1555</td><td style = \"text-align: right;\">11</td><td style = \"text-align: right;\">2</td><td style = \"text-align: right;\">0</td><td style = \"text-align: right;\">108.766</td><td style = \"text-align: right;\">45.4252</td><td style = \"text-align: right;\">340.49</td><td style = \"text-align: right;\">25.3797</td><td style = \"text-align: right;\">276.613</td></tr><tr><td class = \"rowNumber\" style = \"font-weight: bold; text-align: right;\">1556</td><td style = \"text-align: right;\">11</td><td style = \"text-align: right;\">2</td><td style = \"text-align: right;\">1</td><td style = \"text-align: right;\">109.407</td><td style = \"text-align: right;\">225.784</td><td style = \"text-align: right;\">354.78</td><td style = \"text-align: right;\">35.9837</td><td style = \"text-align: right;\">286.576</td></tr></tbody></table></div>"
      ],
      "text/latex": [
       "\\begin{tabular}{r|cccccccc}\n",
       "\t& h & k & l & tth & F & phi & omega\\_pos & omega\\_neg\\\\\n",
       "\t\\hline\n",
       "\t& Int64 & Int64 & Int64 & Float64 & Float64 & Float64 & Float64 & Float64\\\\\n",
       "\t\\hline\n",
       "\t1 & -10 & -4 & 2 & 105.595 & 535.453 & 98.918 & 280.819 & 175.224 \\\\\n",
       "\t2 & -10 & -4 & 3 & 108.766 & 26.199 & 102.599 & 289.0 & 180.233 \\\\\n",
       "\t3 & -10 & -3 & 1 & 99.3871 & 284.266 & 86.5213 & 269.011 & 169.624 \\\\\n",
       "\t4 & -10 & -3 & 2 & 101.234 & 26.8971 & 92.0509 & 277.533 & 176.299 \\\\\n",
       "\t5 & -10 & -3 & 3 & 104.341 & 323.731 & 96.4519 & 286.019 & 181.678 \\\\\n",
       "\t6 & -10 & -3 & 4 & 108.766 & 41.5828 & 100.084 & 294.589 & 185.823 \\\\\n",
       "\t7 & -10 & -2 & 1 & 96.3289 & 27.7896 & 78.579 & 266.404 & 170.075 \\\\\n",
       "\t8 & -10 & -2 & 2 & 98.1611 & 682.842 & 85.0616 & 275.262 & 177.101 \\\\\n",
       "\t9 & -10 & -2 & 3 & 101.234 & 42.5395 & 90.1754 & 283.987 & 182.753 \\\\\n",
       "\t10 & -10 & -2 & 4 & 105.595 & 276.422 & 94.37 & 292.724 & 187.128 \\\\\n",
       "\t11 & -10 & -1 & 0 & 93.8957 & 28.8433 & 60.9197 & 255.406 & 161.511 \\\\\n",
       "\t12 & -10 & -1 & 1 & 94.5032 & 220.702 & 70.8559 & 265.03 & 170.526 \\\\\n",
       "\t13 & -10 & -1 & 2 & 96.3289 & 43.3825 & 78.1652 & 274.075 & 177.746 \\\\\n",
       "\t14 & -10 & -1 & 3 & 99.3871 & 300.671 & 83.9225 & 282.934 & 183.547 \\\\\n",
       "\t15 & -10 & -1 & 4 & 103.717 & 42.8469 & 88.6402 & 291.764 & 188.047 \\\\\n",
       "\t16 & -10 & -1 & 5 & 109.407 & 373.703 & 92.6096 & 300.675 & 191.267 \\\\\n",
       "\t17 & -10 & 0 & 0 & 93.2887 & 393.932 & 53.0416 & 255.365 & 162.076 \\\\\n",
       "\t18 & -10 & 0 & 1 & 93.8957 & 44.1034 & 63.6714 & 264.972 & 171.077 \\\\\n",
       "\t19 & -10 & 0 & 2 & 95.7197 & 373.041 & 71.581 & 274.018 & 178.298 \\\\\n",
       "\t20 & -10 & 0 & 3 & 98.7736 & 41.9288 & 77.8536 & 282.882 & 184.108 \\\\\n",
       "\t21 & -10 & 0 & 4 & 103.094 & 553.124 & 83.0157 & 291.714 & 188.62 \\\\\n",
       "\t22 & -10 & 0 & 5 & 108.766 & 27.188 & 87.3713 & 300.621 & 191.855 \\\\\n",
       "\t23 & -10 & 1 & 0 & 93.8957 & 44.6953 & 46.4678 & 256.942 & 163.046 \\\\\n",
       "\t24 & -10 & 1 & 1 & 94.5032 & 224.639 & 57.2619 & 266.231 & 171.728 \\\\\n",
       "\t25 & -10 & 1 & 2 & 96.3289 & 40.9034 & 65.4923 & 275.09 & 178.762 \\\\\n",
       "\t26 & -10 & 1 & 3 & 99.3871 & 284.457 & 72.1124 & 283.826 & 184.439 \\\\\n",
       "\t27 & -10 & 1 & 4 & 103.717 & 26.4185 & 77.6111 & 292.566 & 188.849 \\\\\n",
       "\t28 & -10 & 1 & 5 & 109.407 & 372.315 & 82.2804 & 301.408 & 192.0 \\\\\n",
       "\t29 & -10 & 2 & 0 & 95.7197 & 459.575 & 41.2186 & 259.968 & 164.249 \\\\\n",
       "\t30 & -10 & 2 & 1 & 96.3289 & 39.7818 & 51.7358 & 268.721 & 172.392 \\\\\n",
       "\t$\\dots$ & $\\dots$ & $\\dots$ & $\\dots$ & $\\dots$ & $\\dots$ & $\\dots$ & $\\dots$ & $\\dots$ \\\\\n",
       "\\end{tabular}\n"
      ],
      "text/plain": [
       "\u001b[1m1556×8 DataFrame\u001b[0m\n",
       "\u001b[1m  Row \u001b[0m│\u001b[1m h     \u001b[0m\u001b[1m k     \u001b[0m\u001b[1m l     \u001b[0m\u001b[1m tth      \u001b[0m\u001b[1m F        \u001b[0m\u001b[1m phi      \u001b[0m\u001b[1m omega_pos \u001b[0m\u001b[1m omega_ne\u001b[0m ⋯\n",
       "      │\u001b[90m Int64 \u001b[0m\u001b[90m Int64 \u001b[0m\u001b[90m Int64 \u001b[0m\u001b[90m Float64  \u001b[0m\u001b[90m Float64  \u001b[0m\u001b[90m Float64  \u001b[0m\u001b[90m Float64   \u001b[0m\u001b[90m Float64 \u001b[0m ⋯\n",
       "──────┼─────────────────────────────────────────────────────────────────────────\n",
       "    1 │   -10     -4      2  105.595   535.453    98.918    280.819     175.22 ⋯\n",
       "    2 │   -10     -4      3  108.766    26.199   102.599    289.0       180.23\n",
       "    3 │   -10     -3      1   99.3871  284.266    86.5213   269.011     169.62\n",
       "    4 │   -10     -3      2  101.234    26.8971   92.0509   277.533     176.29\n",
       "    5 │   -10     -3      3  104.341   323.731    96.4519   286.019     181.67 ⋯\n",
       "    6 │   -10     -3      4  108.766    41.5828  100.084    294.589     185.82\n",
       "    7 │   -10     -2      1   96.3289   27.7896   78.579    266.404     170.07\n",
       "    8 │   -10     -2      2   98.1611  682.842    85.0616   275.262     177.10\n",
       "    9 │   -10     -2      3  101.234    42.5395   90.1754   283.987     182.75 ⋯\n",
       "   10 │   -10     -2      4  105.595   276.422    94.37     292.724     187.12\n",
       "   11 │   -10     -1      0   93.8957   28.8433   60.9197   255.406     161.51\n",
       "  ⋮   │   ⋮      ⋮      ⋮       ⋮         ⋮         ⋮          ⋮          ⋮    ⋱\n",
       " 1547 │    11      0     -1  106.857    25.6472  317.318     16.1925    269.33\n",
       " 1548 │    11      0      0  106.225    31.0648  326.069     24.3919    278.16 ⋯\n",
       " 1549 │    11      0      1  106.857    39.0855  339.443     35.3426    288.48\n",
       " 1550 │    11      1     -2  109.407    41.3678  317.252     10.2064    260.79\n",
       " 1551 │    11      1     -1  107.491    32.3868  324.387     16.7647    269.27\n",
       " 1552 │    11      1      0  106.857    40.2575  333.852     24.9896    278.13 ⋯\n",
       " 1553 │    11      1      1  107.491    45.082   348.217     36.0433    288.55\n",
       " 1554 │    11      2     -1  109.407   163.66    330.732     17.371     267.96\n",
       " 1555 │    11      2      0  108.766    45.4252  340.49      25.3797    276.61\n",
       " 1556 │    11      2      1  109.407   225.784   354.78      35.9837    286.57 ⋯\n",
       "\u001b[36m                                                  1 column and 1535 rows omitted\u001b[0m"
      ]
     },
     "execution_count": 106,
     "metadata": {},
     "output_type": "execute_result"
    }
   ],
   "source": [
    "bond = innerjoin(angles[angles.tth .> 0, :], DataFrames.transform(angles, :tth => -, renamecols = false),\n",
    "    on = [:tth, :phi, :h, :k, :l, :F],\n",
    "    renamecols = \"_pos\" => \"_neg\",\n",
    ")"
   ]
  },
  {
   "cell_type": "code",
   "execution_count": 107,
   "id": "5c87f929-0cb9-4e8e-8d52-69349ff32613",
   "metadata": {},
   "outputs": [
    {
     "data": {
      "text/plain": [
       "dphi! (generic function with 1 method)"
      ]
     },
     "execution_count": 107,
     "metadata": {},
     "output_type": "execute_result"
    }
   ],
   "source": [
    "function hklpos(h, k, l)\n",
    "    h != 0 ? h > 0 :\n",
    "    k != 0 ? k > 0 :\n",
    "    l > 0\n",
    "end\n",
    "function dphi!(df::DataFrame)\n",
    "    transform!(df, r\"phi\" => ByRow((p...) -> abs(rem(maximum(p) - minimum(p), 360, RoundNearest))) => :dphi)\n",
    "end"
   ]
  },
  {
   "cell_type": "code",
   "execution_count": 108,
   "id": "e989684d-ee1f-4977-a946-0646f2ae6647",
   "metadata": {
    "scrolled": true
   },
   "outputs": [
    {
     "data": {
      "text/html": [
       "<div><div style = \"float: left;\"><span>1358×10 DataFrame</span></div><div style = \"float: right;\"><span style = \"font-style: italic;\">1333 rows omitted</span></div><div style = \"clear: both;\"></div></div><div class = \"data-frame\" style = \"overflow-x: scroll;\"><table class = \"data-frame\" style = \"margin-bottom: 6px;\"><thead><tr class = \"header\"><th class = \"rowNumber\" style = \"font-weight: bold; text-align: right;\">Row</th><th style = \"text-align: left;\">h</th><th style = \"text-align: left;\">k</th><th style = \"text-align: left;\">l</th><th style = \"text-align: left;\">tth</th><th style = \"text-align: left;\">F</th><th style = \"text-align: left;\">phi</th><th style = \"text-align: left;\">omega</th><th style = \"text-align: left;\">phi_frid</th><th style = \"text-align: left;\">omega_frid</th><th style = \"text-align: left;\">dphi</th></tr><tr class = \"subheader headerLastRow\"><th class = \"rowNumber\" style = \"font-weight: bold; text-align: right;\"></th><th title = \"Int64\" style = \"text-align: left;\">Int64</th><th title = \"Int64\" style = \"text-align: left;\">Int64</th><th title = \"Int64\" style = \"text-align: left;\">Int64</th><th title = \"Float64\" style = \"text-align: left;\">Float64</th><th title = \"Float64\" style = \"text-align: left;\">Float64</th><th title = \"Float64\" style = \"text-align: left;\">Float64</th><th title = \"Float64\" style = \"text-align: left;\">Float64</th><th title = \"Float64\" style = \"text-align: left;\">Float64</th><th title = \"Float64\" style = \"text-align: left;\">Float64</th><th title = \"Float64\" style = \"text-align: left;\">Float64</th></tr></thead><tbody><tr><td class = \"rowNumber\" style = \"font-weight: bold; text-align: right;\">1</td><td style = \"text-align: right;\">11</td><td style = \"text-align: right;\">2</td><td style = \"text-align: right;\">1</td><td style = \"text-align: right;\">-109.407</td><td style = \"text-align: right;\">225.784</td><td style = \"text-align: right;\">354.78</td><td style = \"text-align: right;\">286.576</td><td style = \"text-align: right;\">354.78</td><td style = \"text-align: right;\">106.576</td><td style = \"text-align: right;\">0.0</td></tr><tr><td class = \"rowNumber\" style = \"font-weight: bold; text-align: right;\">2</td><td style = \"text-align: right;\">11</td><td style = \"text-align: right;\">2</td><td style = \"text-align: right;\">0</td><td style = \"text-align: right;\">-108.766</td><td style = \"text-align: right;\">45.4252</td><td style = \"text-align: right;\">340.49</td><td style = \"text-align: right;\">276.613</td><td style = \"text-align: right;\">340.49</td><td style = \"text-align: right;\">96.6134</td><td style = \"text-align: right;\">0.0</td></tr><tr><td class = \"rowNumber\" style = \"font-weight: bold; text-align: right;\">3</td><td style = \"text-align: right;\">11</td><td style = \"text-align: right;\">2</td><td style = \"text-align: right;\">-1</td><td style = \"text-align: right;\">-109.407</td><td style = \"text-align: right;\">163.66</td><td style = \"text-align: right;\">330.732</td><td style = \"text-align: right;\">267.964</td><td style = \"text-align: right;\">330.732</td><td style = \"text-align: right;\">87.9636</td><td style = \"text-align: right;\">0.0</td></tr><tr><td class = \"rowNumber\" style = \"font-weight: bold; text-align: right;\">4</td><td style = \"text-align: right;\">11</td><td style = \"text-align: right;\">1</td><td style = \"text-align: right;\">1</td><td style = \"text-align: right;\">-107.491</td><td style = \"text-align: right;\">45.082</td><td style = \"text-align: right;\">348.217</td><td style = \"text-align: right;\">288.552</td><td style = \"text-align: right;\">348.217</td><td style = \"text-align: right;\">108.552</td><td style = \"text-align: right;\">0.0</td></tr><tr><td class = \"rowNumber\" style = \"font-weight: bold; text-align: right;\">5</td><td style = \"text-align: right;\">11</td><td style = \"text-align: right;\">1</td><td style = \"text-align: right;\">0</td><td style = \"text-align: right;\">-106.857</td><td style = \"text-align: right;\">40.2575</td><td style = \"text-align: right;\">333.852</td><td style = \"text-align: right;\">278.132</td><td style = \"text-align: right;\">333.852</td><td style = \"text-align: right;\">98.1324</td><td style = \"text-align: right;\">0.0</td></tr><tr><td class = \"rowNumber\" style = \"font-weight: bold; text-align: right;\">6</td><td style = \"text-align: right;\">11</td><td style = \"text-align: right;\">1</td><td style = \"text-align: right;\">-1</td><td style = \"text-align: right;\">-107.491</td><td style = \"text-align: right;\">32.3868</td><td style = \"text-align: right;\">324.387</td><td style = \"text-align: right;\">269.273</td><td style = \"text-align: right;\">324.387</td><td style = \"text-align: right;\">89.2734</td><td style = \"text-align: right;\">0.0</td></tr><tr><td class = \"rowNumber\" style = \"font-weight: bold; text-align: right;\">7</td><td style = \"text-align: right;\">11</td><td style = \"text-align: right;\">1</td><td style = \"text-align: right;\">-2</td><td style = \"text-align: right;\">-109.407</td><td style = \"text-align: right;\">41.3678</td><td style = \"text-align: right;\">317.252</td><td style = \"text-align: right;\">260.799</td><td style = \"text-align: right;\">317.252</td><td style = \"text-align: right;\">80.799</td><td style = \"text-align: right;\">0.0</td></tr><tr><td class = \"rowNumber\" style = \"font-weight: bold; text-align: right;\">8</td><td style = \"text-align: right;\">11</td><td style = \"text-align: right;\">0</td><td style = \"text-align: right;\">1</td><td style = \"text-align: right;\">-106.857</td><td style = \"text-align: right;\">39.0855</td><td style = \"text-align: right;\">339.443</td><td style = \"text-align: right;\">288.485</td><td style = \"text-align: right;\">339.443</td><td style = \"text-align: right;\">108.485</td><td style = \"text-align: right;\">0.0</td></tr><tr><td class = \"rowNumber\" style = \"font-weight: bold; text-align: right;\">9</td><td style = \"text-align: right;\">11</td><td style = \"text-align: right;\">0</td><td style = \"text-align: right;\">0</td><td style = \"text-align: right;\">-106.225</td><td style = \"text-align: right;\">31.0648</td><td style = \"text-align: right;\">326.069</td><td style = \"text-align: right;\">278.167</td><td style = \"text-align: right;\">326.069</td><td style = \"text-align: right;\">98.1666</td><td style = \"text-align: right;\">0.0</td></tr><tr><td class = \"rowNumber\" style = \"font-weight: bold; text-align: right;\">10</td><td style = \"text-align: right;\">11</td><td style = \"text-align: right;\">0</td><td style = \"text-align: right;\">-1</td><td style = \"text-align: right;\">-106.857</td><td style = \"text-align: right;\">25.6472</td><td style = \"text-align: right;\">317.318</td><td style = \"text-align: right;\">269.335</td><td style = \"text-align: right;\">317.318</td><td style = \"text-align: right;\">89.3353</td><td style = \"text-align: right;\">0.0</td></tr><tr><td class = \"rowNumber\" style = \"font-weight: bold; text-align: right;\">11</td><td style = \"text-align: right;\">11</td><td style = \"text-align: right;\">0</td><td style = \"text-align: right;\">-2</td><td style = \"text-align: right;\">-108.766</td><td style = \"text-align: right;\">28.2956</td><td style = \"text-align: right;\">310.759</td><td style = \"text-align: right;\">260.872</td><td style = \"text-align: right;\">310.759</td><td style = \"text-align: right;\">80.872</td><td style = \"text-align: right;\">0.0</td></tr><tr><td class = \"rowNumber\" style = \"font-weight: bold; text-align: right;\">12</td><td style = \"text-align: right;\">11</td><td style = \"text-align: right;\">-1</td><td style = \"text-align: right;\">1</td><td style = \"text-align: right;\">-107.491</td><td style = \"text-align: right;\">29.8073</td><td style = \"text-align: right;\">328.908</td><td style = \"text-align: right;\">286.439</td><td style = \"text-align: right;\">328.908</td><td style = \"text-align: right;\">106.439</td><td style = \"text-align: right;\">0.0</td></tr><tr><td class = \"rowNumber\" style = \"font-weight: bold; text-align: right;\">13</td><td style = \"text-align: right;\">11</td><td style = \"text-align: right;\">-1</td><td style = \"text-align: right;\">0</td><td style = \"text-align: right;\">-106.857</td><td style = \"text-align: right;\">25.4773</td><td style = \"text-align: right;\">317.413</td><td style = \"text-align: right;\">276.731</td><td style = \"text-align: right;\">317.413</td><td style = \"text-align: right;\">96.7312</td><td style = \"text-align: right;\">0.0</td></tr><tr><td style = \"text-align: right;\">&vellip;</td><td style = \"text-align: right;\">&vellip;</td><td style = \"text-align: right;\">&vellip;</td><td style = \"text-align: right;\">&vellip;</td><td style = \"text-align: right;\">&vellip;</td><td style = \"text-align: right;\">&vellip;</td><td style = \"text-align: right;\">&vellip;</td><td style = \"text-align: right;\">&vellip;</td><td style = \"text-align: right;\">&vellip;</td><td style = \"text-align: right;\">&vellip;</td><td style = \"text-align: right;\">&vellip;</td></tr><tr><td class = \"rowNumber\" style = \"font-weight: bold; text-align: right;\">1347</td><td style = \"text-align: right;\">0</td><td style = \"text-align: right;\">2</td><td style = \"text-align: right;\">-10</td><td style = \"text-align: right;\">95.7197</td><td style = \"text-align: right;\">303.171</td><td style = \"text-align: right;\">261.039</td><td style = \"text-align: right;\">262.426</td><td style = \"text-align: right;\">261.039</td><td style = \"text-align: right;\">82.4256</td><td style = \"text-align: right;\">0.0</td></tr><tr><td class = \"rowNumber\" style = \"font-weight: bold; text-align: right;\">1348</td><td style = \"text-align: right;\">0</td><td style = \"text-align: right;\">2</td><td style = \"text-align: right;\">-10</td><td style = \"text-align: right;\">-95.7197</td><td style = \"text-align: right;\">303.171</td><td style = \"text-align: right;\">160.998</td><td style = \"text-align: right;\">97.5744</td><td style = \"text-align: right;\">160.998</td><td style = \"text-align: right;\">277.574</td><td style = \"text-align: right;\">0.0</td></tr><tr><td class = \"rowNumber\" style = \"font-weight: bold; text-align: right;\">1349</td><td style = \"text-align: right;\">0</td><td style = \"text-align: right;\">2</td><td style = \"text-align: right;\">-11</td><td style = \"text-align: right;\">-108.766</td><td style = \"text-align: right;\">43.144</td><td style = \"text-align: right;\">160.103</td><td style = \"text-align: right;\">91.4509</td><td style = \"text-align: right;\">160.103</td><td style = \"text-align: right;\">271.451</td><td style = \"text-align: right;\">0.0</td></tr><tr><td class = \"rowNumber\" style = \"font-weight: bold; text-align: right;\">1350</td><td style = \"text-align: right;\">0</td><td style = \"text-align: right;\">1</td><td style = \"text-align: right;\">11</td><td style = \"text-align: right;\">-106.857</td><td style = \"text-align: right;\">27.3733</td><td style = \"text-align: right;\">142.109</td><td style = \"text-align: right;\">275.374</td><td style = \"text-align: right;\">142.109</td><td style = \"text-align: right;\">95.3739</td><td style = \"text-align: right;\">0.0</td></tr><tr><td class = \"rowNumber\" style = \"font-weight: bold; text-align: right;\">1351</td><td style = \"text-align: right;\">0</td><td style = \"text-align: right;\">1</td><td style = \"text-align: right;\">10</td><td style = \"text-align: right;\">93.8957</td><td style = \"text-align: right;\">26.0332</td><td style = \"text-align: right;\">234.103</td><td style = \"text-align: right;\">78.1609</td><td style = \"text-align: right;\">234.103</td><td style = \"text-align: right;\">258.161</td><td style = \"text-align: right;\">0.0</td></tr><tr><td class = \"rowNumber\" style = \"font-weight: bold; text-align: right;\">1352</td><td style = \"text-align: right;\">0</td><td style = \"text-align: right;\">1</td><td style = \"text-align: right;\">10</td><td style = \"text-align: right;\">-93.8957</td><td style = \"text-align: right;\">26.0332</td><td style = \"text-align: right;\">141.37</td><td style = \"text-align: right;\">281.839</td><td style = \"text-align: right;\">141.37</td><td style = \"text-align: right;\">101.839</td><td style = \"text-align: right;\">0.0</td></tr><tr><td class = \"rowNumber\" style = \"font-weight: bold; text-align: right;\">1353</td><td style = \"text-align: right;\">0</td><td style = \"text-align: right;\">1</td><td style = \"text-align: right;\">-10</td><td style = \"text-align: right;\">93.8957</td><td style = \"text-align: right;\">42.2661</td><td style = \"text-align: right;\">251.497</td><td style = \"text-align: right;\">259.579</td><td style = \"text-align: right;\">251.497</td><td style = \"text-align: right;\">79.579</td><td style = \"text-align: right;\">0.0</td></tr><tr><td class = \"rowNumber\" style = \"font-weight: bold; text-align: right;\">1354</td><td style = \"text-align: right;\">0</td><td style = \"text-align: right;\">1</td><td style = \"text-align: right;\">-10</td><td style = \"text-align: right;\">-93.8957</td><td style = \"text-align: right;\">42.2661</td><td style = \"text-align: right;\">155.613</td><td style = \"text-align: right;\">100.421</td><td style = \"text-align: right;\">155.613</td><td style = \"text-align: right;\">280.421</td><td style = \"text-align: right;\">0.0</td></tr><tr><td class = \"rowNumber\" style = \"font-weight: bold; text-align: right;\">1355</td><td style = \"text-align: right;\">0</td><td style = \"text-align: right;\">1</td><td style = \"text-align: right;\">-11</td><td style = \"text-align: right;\">-106.857</td><td style = \"text-align: right;\">35.0241</td><td style = \"text-align: right;\">155.066</td><td style = \"text-align: right;\">94.0808</td><td style = \"text-align: right;\">155.066</td><td style = \"text-align: right;\">274.081</td><td style = \"text-align: right;\">0.0</td></tr><tr><td class = \"rowNumber\" style = \"font-weight: bold; text-align: right;\">1356</td><td style = \"text-align: right;\">0</td><td style = \"text-align: right;\">0</td><td style = \"text-align: right;\">11</td><td style = \"text-align: right;\">-106.225</td><td style = \"text-align: right;\">26.6675</td><td style = \"text-align: right;\">149.05</td><td style = \"text-align: right;\">275.42</td><td style = \"text-align: right;\">149.05</td><td style = \"text-align: right;\">95.4198</td><td style = \"text-align: right;\">0.0</td></tr><tr><td class = \"rowNumber\" style = \"font-weight: bold; text-align: right;\">1357</td><td style = \"text-align: right;\">0</td><td style = \"text-align: right;\">0</td><td style = \"text-align: right;\">10</td><td style = \"text-align: right;\">93.2887</td><td style = \"text-align: right;\">417.038</td><td style = \"text-align: right;\">242.355</td><td style = \"text-align: right;\">78.1119</td><td style = \"text-align: right;\">242.355</td><td style = \"text-align: right;\">258.112</td><td style = \"text-align: right;\">0.0</td></tr><tr><td class = \"rowNumber\" style = \"font-weight: bold; text-align: right;\">1358</td><td style = \"text-align: right;\">0</td><td style = \"text-align: right;\">0</td><td style = \"text-align: right;\">10</td><td style = \"text-align: right;\">-93.2887</td><td style = \"text-align: right;\">417.038</td><td style = \"text-align: right;\">149.05</td><td style = \"text-align: right;\">281.888</td><td style = \"text-align: right;\">149.05</td><td style = \"text-align: right;\">101.888</td><td style = \"text-align: right;\">0.0</td></tr></tbody></table></div>"
      ],
      "text/latex": [
       "\\begin{tabular}{r|cccccccccc}\n",
       "\t& h & k & l & tth & F & phi & omega & phi\\_frid & omega\\_frid & \\\\\n",
       "\t\\hline\n",
       "\t& Int64 & Int64 & Int64 & Float64 & Float64 & Float64 & Float64 & Float64 & Float64 & \\\\\n",
       "\t\\hline\n",
       "\t1 & 11 & 2 & 1 & -109.407 & 225.784 & 354.78 & 286.576 & 354.78 & 106.576 & $\\dots$ \\\\\n",
       "\t2 & 11 & 2 & 0 & -108.766 & 45.4252 & 340.49 & 276.613 & 340.49 & 96.6134 & $\\dots$ \\\\\n",
       "\t3 & 11 & 2 & -1 & -109.407 & 163.66 & 330.732 & 267.964 & 330.732 & 87.9636 & $\\dots$ \\\\\n",
       "\t4 & 11 & 1 & 1 & -107.491 & 45.082 & 348.217 & 288.552 & 348.217 & 108.552 & $\\dots$ \\\\\n",
       "\t5 & 11 & 1 & 0 & -106.857 & 40.2575 & 333.852 & 278.132 & 333.852 & 98.1324 & $\\dots$ \\\\\n",
       "\t6 & 11 & 1 & -1 & -107.491 & 32.3868 & 324.387 & 269.273 & 324.387 & 89.2734 & $\\dots$ \\\\\n",
       "\t7 & 11 & 1 & -2 & -109.407 & 41.3678 & 317.252 & 260.799 & 317.252 & 80.799 & $\\dots$ \\\\\n",
       "\t8 & 11 & 0 & 1 & -106.857 & 39.0855 & 339.443 & 288.485 & 339.443 & 108.485 & $\\dots$ \\\\\n",
       "\t9 & 11 & 0 & 0 & -106.225 & 31.0648 & 326.069 & 278.167 & 326.069 & 98.1666 & $\\dots$ \\\\\n",
       "\t10 & 11 & 0 & -1 & -106.857 & 25.6472 & 317.318 & 269.335 & 317.318 & 89.3353 & $\\dots$ \\\\\n",
       "\t11 & 11 & 0 & -2 & -108.766 & 28.2956 & 310.759 & 260.872 & 310.759 & 80.872 & $\\dots$ \\\\\n",
       "\t12 & 11 & -1 & 1 & -107.491 & 29.8073 & 328.908 & 286.439 & 328.908 & 106.439 & $\\dots$ \\\\\n",
       "\t13 & 11 & -1 & 0 & -106.857 & 25.4773 & 317.413 & 276.731 & 317.413 & 96.7312 & $\\dots$ \\\\\n",
       "\t14 & 11 & -1 & -1 & -107.491 & 29.4162 & 309.726 & 268.158 & 309.726 & 88.1582 & $\\dots$ \\\\\n",
       "\t15 & 11 & -1 & -2 & -109.407 & 34.7781 & 303.926 & 259.849 & 303.926 & 79.8491 & $\\dots$ \\\\\n",
       "\t16 & 11 & -2 & 1 & -109.407 & 166.574 & 317.561 & 282.764 & 317.561 & 102.764 & $\\dots$ \\\\\n",
       "\t17 & 11 & -2 & 0 & -108.766 & 30.6455 & 308.317 & 273.944 & 308.317 & 93.9443 & $\\dots$ \\\\\n",
       "\t18 & 11 & -2 & -1 & -109.407 & 222.663 & 301.88 & 265.803 & 301.88 & 85.8025 & $\\dots$ \\\\\n",
       "\t19 & 10 & 5 & 1 & -109.407 & 428.38 & 6.7768 & 277.739 & 6.7768 & 97.7388 & $\\dots$ \\\\\n",
       "\t20 & 10 & 5 & 0 & -108.766 & 45.6745 & 355.147 & 270.086 & 355.147 & 90.0855 & $\\dots$ \\\\\n",
       "\t21 & 10 & 5 & -1 & -109.407 & 421.62 & 345.876 & 262.568 & 345.876 & 82.5677 & $\\dots$ \\\\\n",
       "\t22 & 10 & 4 & 2 & -105.595 & 534.724 & 26.0324 & 295.81 & 26.0324 & 115.811 & $\\dots$ \\\\\n",
       "\t23 & 10 & 4 & 1 & -103.717 & 45.5434 & 4.8923 & 284.197 & 4.8923 & 104.197 & $\\dots$ \\\\\n",
       "\t24 & 10 & 4 & 0 & -103.094 & 345.942 & 351.74 & 275.453 & 351.74 & 95.4532 & $\\dots$ \\\\\n",
       "\t25 & 10 & 4 & -1 & -103.717 & 34.422 & 341.819 & 267.274 & 341.819 & 87.2743 & $\\dots$ \\\\\n",
       "\t26 & 10 & 4 & -2 & 105.595 & 535.453 & 98.918 & 100.819 & 98.918 & 280.819 & $\\dots$ \\\\\n",
       "\t27 & 10 & 4 & -2 & -105.595 & 535.453 & 333.846 & 259.181 & 333.846 & 79.1808 & $\\dots$ \\\\\n",
       "\t28 & 10 & 4 & -3 & 108.766 & 26.199 & 102.599 & 108.999 & 102.599 & 289.0 & $\\dots$ \\\\\n",
       "\t29 & 10 & 4 & -3 & -108.766 & 26.199 & 327.216 & 251.0 & 327.216 & 71.0005 & $\\dots$ \\\\\n",
       "\t30 & 10 & 3 & 1 & -99.3871 & 294.68 & 2.0801 & 289.745 & 2.0801 & 109.745 & $\\dots$ \\\\\n",
       "\t$\\dots$ & $\\dots$ & $\\dots$ & $\\dots$ & $\\dots$ & $\\dots$ & $\\dots$ & $\\dots$ & $\\dots$ & $\\dots$ &  \\\\\n",
       "\\end{tabular}\n"
      ],
      "text/plain": [
       "\u001b[1m1358×10 DataFrame\u001b[0m\n",
       "\u001b[1m  Row \u001b[0m│\u001b[1m h     \u001b[0m\u001b[1m k     \u001b[0m\u001b[1m l     \u001b[0m\u001b[1m tth       \u001b[0m\u001b[1m F        \u001b[0m\u001b[1m phi     \u001b[0m\u001b[1m omega    \u001b[0m\u001b[1m phi_frid \u001b[0m\u001b[1m\u001b[0m ⋯\n",
       "      │\u001b[90m Int64 \u001b[0m\u001b[90m Int64 \u001b[0m\u001b[90m Int64 \u001b[0m\u001b[90m Float64   \u001b[0m\u001b[90m Float64  \u001b[0m\u001b[90m Float64 \u001b[0m\u001b[90m Float64  \u001b[0m\u001b[90m Float64  \u001b[0m\u001b[90m\u001b[0m ⋯\n",
       "──────┼─────────────────────────────────────────────────────────────────────────\n",
       "    1 │    11      2      1  -109.407   225.784   354.78   286.576    354.78   ⋯\n",
       "    2 │    11      2      0  -108.766    45.4252  340.49   276.613    340.49\n",
       "    3 │    11      2     -1  -109.407   163.66    330.732  267.964    330.732\n",
       "    4 │    11      1      1  -107.491    45.082   348.217  288.552    348.217\n",
       "    5 │    11      1      0  -106.857    40.2575  333.852  278.132    333.852  ⋯\n",
       "    6 │    11      1     -1  -107.491    32.3868  324.387  269.273    324.387\n",
       "    7 │    11      1     -2  -109.407    41.3678  317.252  260.799    317.252\n",
       "    8 │    11      0      1  -106.857    39.0855  339.443  288.485    339.443\n",
       "    9 │    11      0      0  -106.225    31.0648  326.069  278.167    326.069  ⋯\n",
       "   10 │    11      0     -1  -106.857    25.6472  317.318  269.335    317.318\n",
       "   11 │    11      0     -2  -108.766    28.2956  310.759  260.872    310.759\n",
       "  ⋮   │   ⋮      ⋮      ⋮        ⋮         ⋮         ⋮        ⋮         ⋮      ⋱\n",
       " 1349 │     0      2    -11  -108.766    43.144   160.103   91.4509   160.103\n",
       " 1350 │     0      1     11  -106.857    27.3733  142.109  275.374    142.109  ⋯\n",
       " 1351 │     0      1     10    93.8957   26.0332  234.103   78.1609   234.103\n",
       " 1352 │     0      1     10   -93.8957   26.0332  141.37   281.839    141.37\n",
       " 1353 │     0      1    -10    93.8957   42.2661  251.497  259.579    251.497\n",
       " 1354 │     0      1    -10   -93.8957   42.2661  155.613  100.421    155.613  ⋯\n",
       " 1355 │     0      1    -11  -106.857    35.0241  155.066   94.0808   155.066\n",
       " 1356 │     0      0     11  -106.225    26.6675  149.05   275.42     149.05\n",
       " 1357 │     0      0     10    93.2887  417.038   242.355   78.1119   242.355\n",
       " 1358 │     0      0     10   -93.2887  417.038   149.05   281.888    149.05   ⋯\n",
       "\u001b[36m                                                 2 columns and 1337 rows omitted\u001b[0m"
      ]
     },
     "execution_count": 108,
     "metadata": {},
     "output_type": "execute_result"
    }
   ],
   "source": [
    "frid = let data = angles\n",
    "    df = innerjoin(subset(angles, [:h, :k, :l] => ByRow(hklpos)), DataFrames.transform(angles, [:h, :k, :l] .=> -, renamecols = false),\n",
    "        on = [:tth, :h, :k, :l, :F],\n",
    "        renamecols = \"\" => \"_frid\"\n",
    "    )\n",
    "    dphi!(df)\n",
    "    subset(df, :dphi => ByRow(p -> p < 10))\n",
    "end"
   ]
  },
  {
   "cell_type": "code",
   "execution_count": 109,
   "id": "58f8a819-100a-4fd0-9be4-e1f142b88165",
   "metadata": {
    "scrolled": true
   },
   "outputs": [
    {
     "data": {
      "text/html": [
       "<div><div style = \"float: left;\"><span>1358×8 DataFrame</span></div><div style = \"float: right;\"><span style = \"font-style: italic;\">1333 rows omitted</span></div><div style = \"clear: both;\"></div></div><div class = \"data-frame\" style = \"overflow-x: scroll;\"><table class = \"data-frame\" style = \"margin-bottom: 6px;\"><thead><tr class = \"header\"><th class = \"rowNumber\" style = \"font-weight: bold; text-align: right;\">Row</th><th style = \"text-align: left;\">h</th><th style = \"text-align: left;\">k</th><th style = \"text-align: left;\">l</th><th style = \"text-align: left;\">tth</th><th style = \"text-align: left;\">F</th><th style = \"text-align: left;\">phi</th><th style = \"text-align: left;\">omega</th><th style = \"text-align: left;\">omega_frid</th></tr><tr class = \"subheader headerLastRow\"><th class = \"rowNumber\" style = \"font-weight: bold; text-align: right;\"></th><th title = \"Int64\" style = \"text-align: left;\">Int64</th><th title = \"Int64\" style = \"text-align: left;\">Int64</th><th title = \"Int64\" style = \"text-align: left;\">Int64</th><th title = \"Float64\" style = \"text-align: left;\">Float64</th><th title = \"Float64\" style = \"text-align: left;\">Float64</th><th title = \"Float64\" style = \"text-align: left;\">Float64</th><th title = \"Float64\" style = \"text-align: left;\">Float64</th><th title = \"Float64\" style = \"text-align: left;\">Float64</th></tr></thead><tbody><tr><td class = \"rowNumber\" style = \"font-weight: bold; text-align: right;\">1</td><td style = \"text-align: right;\">11</td><td style = \"text-align: right;\">2</td><td style = \"text-align: right;\">1</td><td style = \"text-align: right;\">-109.407</td><td style = \"text-align: right;\">225.784</td><td style = \"text-align: right;\">354.78</td><td style = \"text-align: right;\">286.576</td><td style = \"text-align: right;\">106.576</td></tr><tr><td class = \"rowNumber\" style = \"font-weight: bold; text-align: right;\">2</td><td style = \"text-align: right;\">11</td><td style = \"text-align: right;\">2</td><td style = \"text-align: right;\">0</td><td style = \"text-align: right;\">-108.766</td><td style = \"text-align: right;\">45.4252</td><td style = \"text-align: right;\">340.49</td><td style = \"text-align: right;\">276.613</td><td style = \"text-align: right;\">96.6134</td></tr><tr><td class = \"rowNumber\" style = \"font-weight: bold; text-align: right;\">3</td><td style = \"text-align: right;\">11</td><td style = \"text-align: right;\">2</td><td style = \"text-align: right;\">-1</td><td style = \"text-align: right;\">-109.407</td><td style = \"text-align: right;\">163.66</td><td style = \"text-align: right;\">330.732</td><td style = \"text-align: right;\">267.964</td><td style = \"text-align: right;\">87.9636</td></tr><tr><td class = \"rowNumber\" style = \"font-weight: bold; text-align: right;\">4</td><td style = \"text-align: right;\">11</td><td style = \"text-align: right;\">1</td><td style = \"text-align: right;\">1</td><td style = \"text-align: right;\">-107.491</td><td style = \"text-align: right;\">45.082</td><td style = \"text-align: right;\">348.217</td><td style = \"text-align: right;\">288.552</td><td style = \"text-align: right;\">108.552</td></tr><tr><td class = \"rowNumber\" style = \"font-weight: bold; text-align: right;\">5</td><td style = \"text-align: right;\">11</td><td style = \"text-align: right;\">1</td><td style = \"text-align: right;\">0</td><td style = \"text-align: right;\">-106.857</td><td style = \"text-align: right;\">40.2575</td><td style = \"text-align: right;\">333.852</td><td style = \"text-align: right;\">278.132</td><td style = \"text-align: right;\">98.1324</td></tr><tr><td class = \"rowNumber\" style = \"font-weight: bold; text-align: right;\">6</td><td style = \"text-align: right;\">11</td><td style = \"text-align: right;\">1</td><td style = \"text-align: right;\">-1</td><td style = \"text-align: right;\">-107.491</td><td style = \"text-align: right;\">32.3868</td><td style = \"text-align: right;\">324.387</td><td style = \"text-align: right;\">269.273</td><td style = \"text-align: right;\">89.2734</td></tr><tr><td class = \"rowNumber\" style = \"font-weight: bold; text-align: right;\">7</td><td style = \"text-align: right;\">11</td><td style = \"text-align: right;\">1</td><td style = \"text-align: right;\">-2</td><td style = \"text-align: right;\">-109.407</td><td style = \"text-align: right;\">41.3678</td><td style = \"text-align: right;\">317.252</td><td style = \"text-align: right;\">260.799</td><td style = \"text-align: right;\">80.799</td></tr><tr><td class = \"rowNumber\" style = \"font-weight: bold; text-align: right;\">8</td><td style = \"text-align: right;\">11</td><td style = \"text-align: right;\">0</td><td style = \"text-align: right;\">1</td><td style = \"text-align: right;\">-106.857</td><td style = \"text-align: right;\">39.0855</td><td style = \"text-align: right;\">339.443</td><td style = \"text-align: right;\">288.485</td><td style = \"text-align: right;\">108.485</td></tr><tr><td class = \"rowNumber\" style = \"font-weight: bold; text-align: right;\">9</td><td style = \"text-align: right;\">11</td><td style = \"text-align: right;\">0</td><td style = \"text-align: right;\">0</td><td style = \"text-align: right;\">-106.225</td><td style = \"text-align: right;\">31.0648</td><td style = \"text-align: right;\">326.069</td><td style = \"text-align: right;\">278.167</td><td style = \"text-align: right;\">98.1666</td></tr><tr><td class = \"rowNumber\" style = \"font-weight: bold; text-align: right;\">10</td><td style = \"text-align: right;\">11</td><td style = \"text-align: right;\">0</td><td style = \"text-align: right;\">-1</td><td style = \"text-align: right;\">-106.857</td><td style = \"text-align: right;\">25.6472</td><td style = \"text-align: right;\">317.318</td><td style = \"text-align: right;\">269.335</td><td style = \"text-align: right;\">89.3353</td></tr><tr><td class = \"rowNumber\" style = \"font-weight: bold; text-align: right;\">11</td><td style = \"text-align: right;\">11</td><td style = \"text-align: right;\">0</td><td style = \"text-align: right;\">-2</td><td style = \"text-align: right;\">-108.766</td><td style = \"text-align: right;\">28.2956</td><td style = \"text-align: right;\">310.759</td><td style = \"text-align: right;\">260.872</td><td style = \"text-align: right;\">80.872</td></tr><tr><td class = \"rowNumber\" style = \"font-weight: bold; text-align: right;\">12</td><td style = \"text-align: right;\">11</td><td style = \"text-align: right;\">-1</td><td style = \"text-align: right;\">1</td><td style = \"text-align: right;\">-107.491</td><td style = \"text-align: right;\">29.8073</td><td style = \"text-align: right;\">328.908</td><td style = \"text-align: right;\">286.439</td><td style = \"text-align: right;\">106.439</td></tr><tr><td class = \"rowNumber\" style = \"font-weight: bold; text-align: right;\">13</td><td style = \"text-align: right;\">11</td><td style = \"text-align: right;\">-1</td><td style = \"text-align: right;\">0</td><td style = \"text-align: right;\">-106.857</td><td style = \"text-align: right;\">25.4773</td><td style = \"text-align: right;\">317.413</td><td style = \"text-align: right;\">276.731</td><td style = \"text-align: right;\">96.7312</td></tr><tr><td style = \"text-align: right;\">&vellip;</td><td style = \"text-align: right;\">&vellip;</td><td style = \"text-align: right;\">&vellip;</td><td style = \"text-align: right;\">&vellip;</td><td style = \"text-align: right;\">&vellip;</td><td style = \"text-align: right;\">&vellip;</td><td style = \"text-align: right;\">&vellip;</td><td style = \"text-align: right;\">&vellip;</td><td style = \"text-align: right;\">&vellip;</td></tr><tr><td class = \"rowNumber\" style = \"font-weight: bold; text-align: right;\">1347</td><td style = \"text-align: right;\">0</td><td style = \"text-align: right;\">2</td><td style = \"text-align: right;\">-10</td><td style = \"text-align: right;\">95.7197</td><td style = \"text-align: right;\">303.171</td><td style = \"text-align: right;\">261.039</td><td style = \"text-align: right;\">262.426</td><td style = \"text-align: right;\">82.4256</td></tr><tr><td class = \"rowNumber\" style = \"font-weight: bold; text-align: right;\">1348</td><td style = \"text-align: right;\">0</td><td style = \"text-align: right;\">2</td><td style = \"text-align: right;\">-10</td><td style = \"text-align: right;\">-95.7197</td><td style = \"text-align: right;\">303.171</td><td style = \"text-align: right;\">160.998</td><td style = \"text-align: right;\">97.5744</td><td style = \"text-align: right;\">277.574</td></tr><tr><td class = \"rowNumber\" style = \"font-weight: bold; text-align: right;\">1349</td><td style = \"text-align: right;\">0</td><td style = \"text-align: right;\">2</td><td style = \"text-align: right;\">-11</td><td style = \"text-align: right;\">-108.766</td><td style = \"text-align: right;\">43.144</td><td style = \"text-align: right;\">160.103</td><td style = \"text-align: right;\">91.4509</td><td style = \"text-align: right;\">271.451</td></tr><tr><td class = \"rowNumber\" style = \"font-weight: bold; text-align: right;\">1350</td><td style = \"text-align: right;\">0</td><td style = \"text-align: right;\">1</td><td style = \"text-align: right;\">11</td><td style = \"text-align: right;\">-106.857</td><td style = \"text-align: right;\">27.3733</td><td style = \"text-align: right;\">142.109</td><td style = \"text-align: right;\">275.374</td><td style = \"text-align: right;\">95.3739</td></tr><tr><td class = \"rowNumber\" style = \"font-weight: bold; text-align: right;\">1351</td><td style = \"text-align: right;\">0</td><td style = \"text-align: right;\">1</td><td style = \"text-align: right;\">10</td><td style = \"text-align: right;\">93.8957</td><td style = \"text-align: right;\">26.0332</td><td style = \"text-align: right;\">234.103</td><td style = \"text-align: right;\">78.1609</td><td style = \"text-align: right;\">258.161</td></tr><tr><td class = \"rowNumber\" style = \"font-weight: bold; text-align: right;\">1352</td><td style = \"text-align: right;\">0</td><td style = \"text-align: right;\">1</td><td style = \"text-align: right;\">10</td><td style = \"text-align: right;\">-93.8957</td><td style = \"text-align: right;\">26.0332</td><td style = \"text-align: right;\">141.37</td><td style = \"text-align: right;\">281.839</td><td style = \"text-align: right;\">101.839</td></tr><tr><td class = \"rowNumber\" style = \"font-weight: bold; text-align: right;\">1353</td><td style = \"text-align: right;\">0</td><td style = \"text-align: right;\">1</td><td style = \"text-align: right;\">-10</td><td style = \"text-align: right;\">93.8957</td><td style = \"text-align: right;\">42.2661</td><td style = \"text-align: right;\">251.497</td><td style = \"text-align: right;\">259.579</td><td style = \"text-align: right;\">79.579</td></tr><tr><td class = \"rowNumber\" style = \"font-weight: bold; text-align: right;\">1354</td><td style = \"text-align: right;\">0</td><td style = \"text-align: right;\">1</td><td style = \"text-align: right;\">-10</td><td style = \"text-align: right;\">-93.8957</td><td style = \"text-align: right;\">42.2661</td><td style = \"text-align: right;\">155.613</td><td style = \"text-align: right;\">100.421</td><td style = \"text-align: right;\">280.421</td></tr><tr><td class = \"rowNumber\" style = \"font-weight: bold; text-align: right;\">1355</td><td style = \"text-align: right;\">0</td><td style = \"text-align: right;\">1</td><td style = \"text-align: right;\">-11</td><td style = \"text-align: right;\">-106.857</td><td style = \"text-align: right;\">35.0241</td><td style = \"text-align: right;\">155.066</td><td style = \"text-align: right;\">94.0808</td><td style = \"text-align: right;\">274.081</td></tr><tr><td class = \"rowNumber\" style = \"font-weight: bold; text-align: right;\">1356</td><td style = \"text-align: right;\">0</td><td style = \"text-align: right;\">0</td><td style = \"text-align: right;\">11</td><td style = \"text-align: right;\">-106.225</td><td style = \"text-align: right;\">26.6675</td><td style = \"text-align: right;\">149.05</td><td style = \"text-align: right;\">275.42</td><td style = \"text-align: right;\">95.4198</td></tr><tr><td class = \"rowNumber\" style = \"font-weight: bold; text-align: right;\">1357</td><td style = \"text-align: right;\">0</td><td style = \"text-align: right;\">0</td><td style = \"text-align: right;\">10</td><td style = \"text-align: right;\">93.2887</td><td style = \"text-align: right;\">417.038</td><td style = \"text-align: right;\">242.355</td><td style = \"text-align: right;\">78.1119</td><td style = \"text-align: right;\">258.112</td></tr><tr><td class = \"rowNumber\" style = \"font-weight: bold; text-align: right;\">1358</td><td style = \"text-align: right;\">0</td><td style = \"text-align: right;\">0</td><td style = \"text-align: right;\">10</td><td style = \"text-align: right;\">-93.2887</td><td style = \"text-align: right;\">417.038</td><td style = \"text-align: right;\">149.05</td><td style = \"text-align: right;\">281.888</td><td style = \"text-align: right;\">101.888</td></tr></tbody></table></div>"
      ],
      "text/latex": [
       "\\begin{tabular}{r|cccccccc}\n",
       "\t& h & k & l & tth & F & phi & omega & omega\\_frid\\\\\n",
       "\t\\hline\n",
       "\t& Int64 & Int64 & Int64 & Float64 & Float64 & Float64 & Float64 & Float64\\\\\n",
       "\t\\hline\n",
       "\t1 & 11 & 2 & 1 & -109.407 & 225.784 & 354.78 & 286.576 & 106.576 \\\\\n",
       "\t2 & 11 & 2 & 0 & -108.766 & 45.4252 & 340.49 & 276.613 & 96.6134 \\\\\n",
       "\t3 & 11 & 2 & -1 & -109.407 & 163.66 & 330.732 & 267.964 & 87.9636 \\\\\n",
       "\t4 & 11 & 1 & 1 & -107.491 & 45.082 & 348.217 & 288.552 & 108.552 \\\\\n",
       "\t5 & 11 & 1 & 0 & -106.857 & 40.2575 & 333.852 & 278.132 & 98.1324 \\\\\n",
       "\t6 & 11 & 1 & -1 & -107.491 & 32.3868 & 324.387 & 269.273 & 89.2734 \\\\\n",
       "\t7 & 11 & 1 & -2 & -109.407 & 41.3678 & 317.252 & 260.799 & 80.799 \\\\\n",
       "\t8 & 11 & 0 & 1 & -106.857 & 39.0855 & 339.443 & 288.485 & 108.485 \\\\\n",
       "\t9 & 11 & 0 & 0 & -106.225 & 31.0648 & 326.069 & 278.167 & 98.1666 \\\\\n",
       "\t10 & 11 & 0 & -1 & -106.857 & 25.6472 & 317.318 & 269.335 & 89.3353 \\\\\n",
       "\t11 & 11 & 0 & -2 & -108.766 & 28.2956 & 310.759 & 260.872 & 80.872 \\\\\n",
       "\t12 & 11 & -1 & 1 & -107.491 & 29.8073 & 328.908 & 286.439 & 106.439 \\\\\n",
       "\t13 & 11 & -1 & 0 & -106.857 & 25.4773 & 317.413 & 276.731 & 96.7312 \\\\\n",
       "\t14 & 11 & -1 & -1 & -107.491 & 29.4162 & 309.726 & 268.158 & 88.1582 \\\\\n",
       "\t15 & 11 & -1 & -2 & -109.407 & 34.7781 & 303.926 & 259.849 & 79.8491 \\\\\n",
       "\t16 & 11 & -2 & 1 & -109.407 & 166.574 & 317.561 & 282.764 & 102.764 \\\\\n",
       "\t17 & 11 & -2 & 0 & -108.766 & 30.6455 & 308.317 & 273.944 & 93.9443 \\\\\n",
       "\t18 & 11 & -2 & -1 & -109.407 & 222.663 & 301.88 & 265.803 & 85.8025 \\\\\n",
       "\t19 & 10 & 5 & 1 & -109.407 & 428.38 & 6.7768 & 277.739 & 97.7388 \\\\\n",
       "\t20 & 10 & 5 & 0 & -108.766 & 45.6745 & 355.147 & 270.086 & 90.0855 \\\\\n",
       "\t21 & 10 & 5 & -1 & -109.407 & 421.62 & 345.876 & 262.568 & 82.5677 \\\\\n",
       "\t22 & 10 & 4 & 2 & -105.595 & 534.724 & 26.0324 & 295.81 & 115.811 \\\\\n",
       "\t23 & 10 & 4 & 1 & -103.717 & 45.5434 & 4.8923 & 284.197 & 104.197 \\\\\n",
       "\t24 & 10 & 4 & 0 & -103.094 & 345.942 & 351.74 & 275.453 & 95.4532 \\\\\n",
       "\t25 & 10 & 4 & -1 & -103.717 & 34.422 & 341.819 & 267.274 & 87.2743 \\\\\n",
       "\t26 & 10 & 4 & -2 & 105.595 & 535.453 & 98.918 & 100.819 & 280.819 \\\\\n",
       "\t27 & 10 & 4 & -2 & -105.595 & 535.453 & 333.846 & 259.181 & 79.1808 \\\\\n",
       "\t28 & 10 & 4 & -3 & 108.766 & 26.199 & 102.599 & 108.999 & 289.0 \\\\\n",
       "\t29 & 10 & 4 & -3 & -108.766 & 26.199 & 327.216 & 251.0 & 71.0005 \\\\\n",
       "\t30 & 10 & 3 & 1 & -99.3871 & 294.68 & 2.0801 & 289.745 & 109.745 \\\\\n",
       "\t$\\dots$ & $\\dots$ & $\\dots$ & $\\dots$ & $\\dots$ & $\\dots$ & $\\dots$ & $\\dots$ & $\\dots$ \\\\\n",
       "\\end{tabular}\n"
      ],
      "text/plain": [
       "\u001b[1m1358×8 DataFrame\u001b[0m\n",
       "\u001b[1m  Row \u001b[0m│\u001b[1m h     \u001b[0m\u001b[1m k     \u001b[0m\u001b[1m l     \u001b[0m\u001b[1m tth       \u001b[0m\u001b[1m F        \u001b[0m\u001b[1m phi     \u001b[0m\u001b[1m omega    \u001b[0m\u001b[1m omega_fri\u001b[0m ⋯\n",
       "      │\u001b[90m Int64 \u001b[0m\u001b[90m Int64 \u001b[0m\u001b[90m Int64 \u001b[0m\u001b[90m Float64   \u001b[0m\u001b[90m Float64  \u001b[0m\u001b[90m Float64 \u001b[0m\u001b[90m Float64  \u001b[0m\u001b[90m Float64  \u001b[0m ⋯\n",
       "──────┼─────────────────────────────────────────────────────────────────────────\n",
       "    1 │    11      2      1  -109.407   225.784   354.78   286.576     106.576 ⋯\n",
       "    2 │    11      2      0  -108.766    45.4252  340.49   276.613      96.613\n",
       "    3 │    11      2     -1  -109.407   163.66    330.732  267.964      87.963\n",
       "    4 │    11      1      1  -107.491    45.082   348.217  288.552     108.552\n",
       "    5 │    11      1      0  -106.857    40.2575  333.852  278.132      98.132 ⋯\n",
       "    6 │    11      1     -1  -107.491    32.3868  324.387  269.273      89.273\n",
       "    7 │    11      1     -2  -109.407    41.3678  317.252  260.799      80.799\n",
       "    8 │    11      0      1  -106.857    39.0855  339.443  288.485     108.485\n",
       "    9 │    11      0      0  -106.225    31.0648  326.069  278.167      98.166 ⋯\n",
       "   10 │    11      0     -1  -106.857    25.6472  317.318  269.335      89.335\n",
       "   11 │    11      0     -2  -108.766    28.2956  310.759  260.872      80.872\n",
       "  ⋮   │   ⋮      ⋮      ⋮        ⋮         ⋮         ⋮        ⋮          ⋮     ⋱\n",
       " 1349 │     0      2    -11  -108.766    43.144   160.103   91.4509    271.451\n",
       " 1350 │     0      1     11  -106.857    27.3733  142.109  275.374      95.373 ⋯\n",
       " 1351 │     0      1     10    93.8957   26.0332  234.103   78.1609    258.161\n",
       " 1352 │     0      1     10   -93.8957   26.0332  141.37   281.839     101.839\n",
       " 1353 │     0      1    -10    93.8957   42.2661  251.497  259.579      79.579\n",
       " 1354 │     0      1    -10   -93.8957   42.2661  155.613  100.421     280.421 ⋯\n",
       " 1355 │     0      1    -11  -106.857    35.0241  155.066   94.0808    274.081\n",
       " 1356 │     0      0     11  -106.225    26.6675  149.05   275.42       95.419\n",
       " 1357 │     0      0     10    93.2887  417.038   242.355   78.1119    258.112\n",
       " 1358 │     0      0     10   -93.2887  417.038   149.05   281.888     101.888 ⋯\n",
       "\u001b[36m                                                  1 column and 1337 rows omitted\u001b[0m"
      ]
     },
     "execution_count": 109,
     "metadata": {},
     "output_type": "execute_result"
    }
   ],
   "source": [
    "frid_ideal = innerjoin(subset(angles, [:h, :k, :l] => ByRow(hklpos)), DataFrames.transform(angles, [:h, :k, :l] .=> -, renamecols = false),\n",
    "    on = [:tth, :phi, :h, :k, :l, :F],\n",
    "    renamecols = \"\" => \"_frid\"\n",
    ")"
   ]
  },
  {
   "cell_type": "code",
   "execution_count": 110,
   "id": "bfaa4b42-c6d0-41c3-9b7a-dec8e704a5ad",
   "metadata": {
    "scrolled": true
   },
   "outputs": [
    {
     "data": {
      "text/html": [
       "<div><div style = \"float: left;\"><span>993×20 DataFrame</span></div><div style = \"float: right;\"><span style = \"font-style: italic;\">968 rows omitted</span></div><div style = \"clear: both;\"></div></div><div class = \"data-frame\" style = \"overflow-x: scroll;\"><table class = \"data-frame\" style = \"margin-bottom: 6px;\"><thead><tr class = \"header\"><th class = \"rowNumber\" style = \"font-weight: bold; text-align: right;\">Row</th><th style = \"text-align: left;\">h_pos</th><th style = \"text-align: left;\">k_pos</th><th style = \"text-align: left;\">l_pos</th><th style = \"text-align: left;\">tth</th><th style = \"text-align: left;\">F_pos</th><th style = \"text-align: left;\">phi_pos</th><th style = \"text-align: left;\">omega_pos</th><th style = \"text-align: left;\">phi_frid_pos</th><th style = \"text-align: left;\">omega_frid_pos</th><th style = \"text-align: left;\">dphi_pos</th><th style = \"text-align: left;\">h_neg</th><th style = \"text-align: left;\">k_neg</th><th style = \"text-align: left;\">l_neg</th><th style = \"text-align: left;\">F_neg</th><th style = \"text-align: left;\">phi_neg</th><th style = \"text-align: left;\">omega_neg</th><th style = \"text-align: left;\">phi_frid_neg</th><th style = \"text-align: left;\">omega_frid_neg</th><th style = \"text-align: left;\">dphi_neg</th><th style = \"text-align: left;\">dphi</th></tr><tr class = \"subheader headerLastRow\"><th class = \"rowNumber\" style = \"font-weight: bold; text-align: right;\"></th><th title = \"Int64\" style = \"text-align: left;\">Int64</th><th title = \"Int64\" style = \"text-align: left;\">Int64</th><th title = \"Int64\" style = \"text-align: left;\">Int64</th><th title = \"Float64\" style = \"text-align: left;\">Float64</th><th title = \"Float64\" style = \"text-align: left;\">Float64</th><th title = \"Float64\" style = \"text-align: left;\">Float64</th><th title = \"Float64\" style = \"text-align: left;\">Float64</th><th title = \"Float64\" style = \"text-align: left;\">Float64</th><th title = \"Float64\" style = \"text-align: left;\">Float64</th><th title = \"Float64\" style = \"text-align: left;\">Float64</th><th title = \"Int64\" style = \"text-align: left;\">Int64</th><th title = \"Int64\" style = \"text-align: left;\">Int64</th><th title = \"Int64\" style = \"text-align: left;\">Int64</th><th title = \"Float64\" style = \"text-align: left;\">Float64</th><th title = \"Float64\" style = \"text-align: left;\">Float64</th><th title = \"Float64\" style = \"text-align: left;\">Float64</th><th title = \"Float64\" style = \"text-align: left;\">Float64</th><th title = \"Float64\" style = \"text-align: left;\">Float64</th><th title = \"Float64\" style = \"text-align: left;\">Float64</th><th title = \"Float64\" style = \"text-align: left;\">Float64</th></tr></thead><tbody><tr><td class = \"rowNumber\" style = \"font-weight: bold; text-align: right;\">1</td><td style = \"text-align: right;\">10</td><td style = \"text-align: right;\">1</td><td style = \"text-align: right;\">-5</td><td style = \"text-align: right;\">109.407</td><td style = \"text-align: right;\">373.703</td><td style = \"text-align: right;\">92.6096</td><td style = \"text-align: right;\">120.675</td><td style = \"text-align: right;\">92.6096</td><td style = \"text-align: right;\">300.675</td><td style = \"text-align: right;\">0.0</td><td style = \"text-align: right;\">11</td><td style = \"text-align: right;\">2</td><td style = \"text-align: right;\">1</td><td style = \"text-align: right;\">225.784</td><td style = \"text-align: right;\">354.78</td><td style = \"text-align: right;\">286.576</td><td style = \"text-align: right;\">354.78</td><td style = \"text-align: right;\">106.576</td><td style = \"text-align: right;\">0.0</td><td style = \"text-align: right;\">5.2198</td></tr><tr><td class = \"rowNumber\" style = \"font-weight: bold; text-align: right;\">2</td><td style = \"text-align: right;\">10</td><td style = \"text-align: right;\">1</td><td style = \"text-align: right;\">-5</td><td style = \"text-align: right;\">109.407</td><td style = \"text-align: right;\">373.703</td><td style = \"text-align: right;\">301.496</td><td style = \"text-align: right;\">348.733</td><td style = \"text-align: right;\">301.496</td><td style = \"text-align: right;\">168.733</td><td style = \"text-align: right;\">0.0</td><td style = \"text-align: right;\">11</td><td style = \"text-align: right;\">2</td><td style = \"text-align: right;\">1</td><td style = \"text-align: right;\">225.784</td><td style = \"text-align: right;\">354.78</td><td style = \"text-align: right;\">286.576</td><td style = \"text-align: right;\">354.78</td><td style = \"text-align: right;\">106.576</td><td style = \"text-align: right;\">0.0</td><td style = \"text-align: right;\">5.2198</td></tr><tr><td class = \"rowNumber\" style = \"font-weight: bold; text-align: right;\">3</td><td style = \"text-align: right;\">10</td><td style = \"text-align: right;\">-1</td><td style = \"text-align: right;\">-5</td><td style = \"text-align: right;\">109.407</td><td style = \"text-align: right;\">372.315</td><td style = \"text-align: right;\">82.2804</td><td style = \"text-align: right;\">121.408</td><td style = \"text-align: right;\">82.2804</td><td style = \"text-align: right;\">301.408</td><td style = \"text-align: right;\">0.0</td><td style = \"text-align: right;\">11</td><td style = \"text-align: right;\">2</td><td style = \"text-align: right;\">1</td><td style = \"text-align: right;\">225.784</td><td style = \"text-align: right;\">354.78</td><td style = \"text-align: right;\">286.576</td><td style = \"text-align: right;\">354.78</td><td style = \"text-align: right;\">106.576</td><td style = \"text-align: right;\">0.0</td><td style = \"text-align: right;\">5.2198</td></tr><tr><td class = \"rowNumber\" style = \"font-weight: bold; text-align: right;\">4</td><td style = \"text-align: right;\">10</td><td style = \"text-align: right;\">-1</td><td style = \"text-align: right;\">-5</td><td style = \"text-align: right;\">109.407</td><td style = \"text-align: right;\">372.315</td><td style = \"text-align: right;\">290.218</td><td style = \"text-align: right;\">348.0</td><td style = \"text-align: right;\">290.218</td><td style = \"text-align: right;\">168.0</td><td style = \"text-align: right;\">0.0</td><td style = \"text-align: right;\">11</td><td style = \"text-align: right;\">2</td><td style = \"text-align: right;\">1</td><td style = \"text-align: right;\">225.784</td><td style = \"text-align: right;\">354.78</td><td style = \"text-align: right;\">286.576</td><td style = \"text-align: right;\">354.78</td><td style = \"text-align: right;\">106.576</td><td style = \"text-align: right;\">0.0</td><td style = \"text-align: right;\">5.2198</td></tr><tr><td class = \"rowNumber\" style = \"font-weight: bold; text-align: right;\">5</td><td style = \"text-align: right;\">9</td><td style = \"text-align: right;\">6</td><td style = \"text-align: right;\">-3</td><td style = \"text-align: right;\">109.407</td><td style = \"text-align: right;\">298.339</td><td style = \"text-align: right;\">118.137</td><td style = \"text-align: right;\">114.017</td><td style = \"text-align: right;\">118.137</td><td style = \"text-align: right;\">294.017</td><td style = \"text-align: right;\">0.0</td><td style = \"text-align: right;\">11</td><td style = \"text-align: right;\">2</td><td style = \"text-align: right;\">1</td><td style = \"text-align: right;\">225.784</td><td style = \"text-align: right;\">354.78</td><td style = \"text-align: right;\">286.576</td><td style = \"text-align: right;\">354.78</td><td style = \"text-align: right;\">106.576</td><td style = \"text-align: right;\">0.0</td><td style = \"text-align: right;\">5.2198</td></tr><tr><td class = \"rowNumber\" style = \"font-weight: bold; text-align: right;\">6</td><td style = \"text-align: right;\">9</td><td style = \"text-align: right;\">3</td><td style = \"text-align: right;\">-6</td><td style = \"text-align: right;\">109.407</td><td style = \"text-align: right;\">228.827</td><td style = \"text-align: right;\">108.902</td><td style = \"text-align: right;\">129.348</td><td style = \"text-align: right;\">108.902</td><td style = \"text-align: right;\">309.348</td><td style = \"text-align: right;\">0.0</td><td style = \"text-align: right;\">11</td><td style = \"text-align: right;\">2</td><td style = \"text-align: right;\">1</td><td style = \"text-align: right;\">225.784</td><td style = \"text-align: right;\">354.78</td><td style = \"text-align: right;\">286.576</td><td style = \"text-align: right;\">354.78</td><td style = \"text-align: right;\">106.576</td><td style = \"text-align: right;\">0.0</td><td style = \"text-align: right;\">5.2198</td></tr><tr><td class = \"rowNumber\" style = \"font-weight: bold; text-align: right;\">7</td><td style = \"text-align: right;\">9</td><td style = \"text-align: right;\">3</td><td style = \"text-align: right;\">-6</td><td style = \"text-align: right;\">109.407</td><td style = \"text-align: right;\">228.827</td><td style = \"text-align: right;\">306.931</td><td style = \"text-align: right;\">340.059</td><td style = \"text-align: right;\">306.931</td><td style = \"text-align: right;\">160.059</td><td style = \"text-align: right;\">0.0</td><td style = \"text-align: right;\">11</td><td style = \"text-align: right;\">2</td><td style = \"text-align: right;\">1</td><td style = \"text-align: right;\">225.784</td><td style = \"text-align: right;\">354.78</td><td style = \"text-align: right;\">286.576</td><td style = \"text-align: right;\">354.78</td><td style = \"text-align: right;\">106.576</td><td style = \"text-align: right;\">0.0</td><td style = \"text-align: right;\">5.2198</td></tr><tr><td class = \"rowNumber\" style = \"font-weight: bold; text-align: right;\">8</td><td style = \"text-align: right;\">9</td><td style = \"text-align: right;\">-3</td><td style = \"text-align: right;\">-6</td><td style = \"text-align: right;\">109.407</td><td style = \"text-align: right;\">212.226</td><td style = \"text-align: right;\">78.5283</td><td style = \"text-align: right;\">131.427</td><td style = \"text-align: right;\">78.5283</td><td style = \"text-align: right;\">311.427</td><td style = \"text-align: right;\">0.0</td><td style = \"text-align: right;\">11</td><td style = \"text-align: right;\">2</td><td style = \"text-align: right;\">1</td><td style = \"text-align: right;\">225.784</td><td style = \"text-align: right;\">354.78</td><td style = \"text-align: right;\">286.576</td><td style = \"text-align: right;\">354.78</td><td style = \"text-align: right;\">106.576</td><td style = \"text-align: right;\">0.0</td><td style = \"text-align: right;\">5.2198</td></tr><tr><td class = \"rowNumber\" style = \"font-weight: bold; text-align: right;\">9</td><td style = \"text-align: right;\">9</td><td style = \"text-align: right;\">-3</td><td style = \"text-align: right;\">-6</td><td style = \"text-align: right;\">109.407</td><td style = \"text-align: right;\">212.226</td><td style = \"text-align: right;\">274.053</td><td style = \"text-align: right;\">337.98</td><td style = \"text-align: right;\">274.053</td><td style = \"text-align: right;\">157.98</td><td style = \"text-align: right;\">0.0</td><td style = \"text-align: right;\">11</td><td style = \"text-align: right;\">2</td><td style = \"text-align: right;\">1</td><td style = \"text-align: right;\">225.784</td><td style = \"text-align: right;\">354.78</td><td style = \"text-align: right;\">286.576</td><td style = \"text-align: right;\">354.78</td><td style = \"text-align: right;\">106.576</td><td style = \"text-align: right;\">0.0</td><td style = \"text-align: right;\">5.2198</td></tr><tr><td class = \"rowNumber\" style = \"font-weight: bold; text-align: right;\">10</td><td style = \"text-align: right;\">9</td><td style = \"text-align: right;\">-6</td><td style = \"text-align: right;\">-3</td><td style = \"text-align: right;\">109.407</td><td style = \"text-align: right;\">241.912</td><td style = \"text-align: right;\">50.4484</td><td style = \"text-align: right;\">118.598</td><td style = \"text-align: right;\">50.4484</td><td style = \"text-align: right;\">298.598</td><td style = \"text-align: right;\">0.0</td><td style = \"text-align: right;\">11</td><td style = \"text-align: right;\">2</td><td style = \"text-align: right;\">1</td><td style = \"text-align: right;\">225.784</td><td style = \"text-align: right;\">354.78</td><td style = \"text-align: right;\">286.576</td><td style = \"text-align: right;\">354.78</td><td style = \"text-align: right;\">106.576</td><td style = \"text-align: right;\">0.0</td><td style = \"text-align: right;\">5.2198</td></tr><tr><td class = \"rowNumber\" style = \"font-weight: bold; text-align: right;\">11</td><td style = \"text-align: right;\">9</td><td style = \"text-align: right;\">-6</td><td style = \"text-align: right;\">-3</td><td style = \"text-align: right;\">109.407</td><td style = \"text-align: right;\">241.912</td><td style = \"text-align: right;\">262.061</td><td style = \"text-align: right;\">350.81</td><td style = \"text-align: right;\">262.061</td><td style = \"text-align: right;\">170.81</td><td style = \"text-align: right;\">0.0</td><td style = \"text-align: right;\">11</td><td style = \"text-align: right;\">2</td><td style = \"text-align: right;\">1</td><td style = \"text-align: right;\">225.784</td><td style = \"text-align: right;\">354.78</td><td style = \"text-align: right;\">286.576</td><td style = \"text-align: right;\">354.78</td><td style = \"text-align: right;\">106.576</td><td style = \"text-align: right;\">0.0</td><td style = \"text-align: right;\">5.2198</td></tr><tr><td class = \"rowNumber\" style = \"font-weight: bold; text-align: right;\">12</td><td style = \"text-align: right;\">6</td><td style = \"text-align: right;\">9</td><td style = \"text-align: right;\">-3</td><td style = \"text-align: right;\">109.407</td><td style = \"text-align: right;\">246.341</td><td style = \"text-align: right;\">147.121</td><td style = \"text-align: right;\">127.634</td><td style = \"text-align: right;\">147.121</td><td style = \"text-align: right;\">307.634</td><td style = \"text-align: right;\">0.0</td><td style = \"text-align: right;\">11</td><td style = \"text-align: right;\">2</td><td style = \"text-align: right;\">1</td><td style = \"text-align: right;\">225.784</td><td style = \"text-align: right;\">354.78</td><td style = \"text-align: right;\">286.576</td><td style = \"text-align: right;\">354.78</td><td style = \"text-align: right;\">106.576</td><td style = \"text-align: right;\">0.0</td><td style = \"text-align: right;\">5.2198</td></tr><tr><td class = \"rowNumber\" style = \"font-weight: bold; text-align: right;\">13</td><td style = \"text-align: right;\">6</td><td style = \"text-align: right;\">9</td><td style = \"text-align: right;\">-3</td><td style = \"text-align: right;\">109.407</td><td style = \"text-align: right;\">246.341</td><td style = \"text-align: right;\">347.238</td><td style = \"text-align: right;\">341.773</td><td style = \"text-align: right;\">347.238</td><td style = \"text-align: right;\">161.773</td><td style = \"text-align: right;\">0.0</td><td style = \"text-align: right;\">11</td><td style = \"text-align: right;\">2</td><td style = \"text-align: right;\">1</td><td style = \"text-align: right;\">225.784</td><td style = \"text-align: right;\">354.78</td><td style = \"text-align: right;\">286.576</td><td style = \"text-align: right;\">354.78</td><td style = \"text-align: right;\">106.576</td><td style = \"text-align: right;\">0.0</td><td style = \"text-align: right;\">5.2198</td></tr><tr><td style = \"text-align: right;\">&vellip;</td><td style = \"text-align: right;\">&vellip;</td><td style = \"text-align: right;\">&vellip;</td><td style = \"text-align: right;\">&vellip;</td><td style = \"text-align: right;\">&vellip;</td><td style = \"text-align: right;\">&vellip;</td><td style = \"text-align: right;\">&vellip;</td><td style = \"text-align: right;\">&vellip;</td><td style = \"text-align: right;\">&vellip;</td><td style = \"text-align: right;\">&vellip;</td><td style = \"text-align: right;\">&vellip;</td><td style = \"text-align: right;\">&vellip;</td><td style = \"text-align: right;\">&vellip;</td><td style = \"text-align: right;\">&vellip;</td><td style = \"text-align: right;\">&vellip;</td><td style = \"text-align: right;\">&vellip;</td><td style = \"text-align: right;\">&vellip;</td><td style = \"text-align: right;\">&vellip;</td><td style = \"text-align: right;\">&vellip;</td><td style = \"text-align: right;\">&vellip;</td><td style = \"text-align: right;\">&vellip;</td></tr><tr><td class = \"rowNumber\" style = \"font-weight: bold; text-align: right;\">982</td><td style = \"text-align: right;\">0</td><td style = \"text-align: right;\">10</td><td style = \"text-align: right;\">-3</td><td style = \"text-align: right;\">98.7736</td><td style = \"text-align: right;\">43.2422</td><td style = \"text-align: right;\">354.584</td><td style = \"text-align: right;\">308.895</td><td style = \"text-align: right;\">354.584</td><td style = \"text-align: right;\">128.895</td><td style = \"text-align: right;\">0.0</td><td style = \"text-align: right;\">0</td><td style = \"text-align: right;\">3</td><td style = \"text-align: right;\">10</td><td style = \"text-align: right;\">37.4972</td><td style = \"text-align: right;\">123.964</td><td style = \"text-align: right;\">277.319</td><td style = \"text-align: right;\">123.964</td><td style = \"text-align: right;\">97.3188</td><td style = \"text-align: right;\">0.0</td><td style = \"text-align: right;\">5.4155</td></tr><tr><td class = \"rowNumber\" style = \"font-weight: bold; text-align: right;\">983</td><td style = \"text-align: right;\">6</td><td style = \"text-align: right;\">-8</td><td style = \"text-align: right;\">3</td><td style = \"text-align: right;\">98.7736</td><td style = \"text-align: right;\">34.8507</td><td style = \"text-align: right;\">356.994</td><td style = \"text-align: right;\">95.0648</td><td style = \"text-align: right;\">356.994</td><td style = \"text-align: right;\">275.065</td><td style = \"text-align: right;\">0.0</td><td style = \"text-align: right;\">0</td><td style = \"text-align: right;\">3</td><td style = \"text-align: right;\">-10</td><td style = \"text-align: right;\">42.2138</td><td style = \"text-align: right;\">165.313</td><td style = \"text-align: right;\">93.5592</td><td style = \"text-align: right;\">165.313</td><td style = \"text-align: right;\">273.559</td><td style = \"text-align: right;\">0.0</td><td style = \"text-align: right;\">3.006</td></tr><tr><td class = \"rowNumber\" style = \"font-weight: bold; text-align: right;\">984</td><td style = \"text-align: right;\">0</td><td style = \"text-align: right;\">10</td><td style = \"text-align: right;\">-3</td><td style = \"text-align: right;\">98.7736</td><td style = \"text-align: right;\">43.2422</td><td style = \"text-align: right;\">354.584</td><td style = \"text-align: right;\">308.895</td><td style = \"text-align: right;\">354.584</td><td style = \"text-align: right;\">128.895</td><td style = \"text-align: right;\">0.0</td><td style = \"text-align: right;\">0</td><td style = \"text-align: right;\">3</td><td style = \"text-align: right;\">-10</td><td style = \"text-align: right;\">42.2138</td><td style = \"text-align: right;\">165.313</td><td style = \"text-align: right;\">93.5592</td><td style = \"text-align: right;\">165.313</td><td style = \"text-align: right;\">273.559</td><td style = \"text-align: right;\">0.0</td><td style = \"text-align: right;\">5.4155</td></tr><tr><td class = \"rowNumber\" style = \"font-weight: bold; text-align: right;\">985</td><td style = \"text-align: right;\">4</td><td style = \"text-align: right;\">10</td><td style = \"text-align: right;\">-3</td><td style = \"text-align: right;\">108.766</td><td style = \"text-align: right;\">40.9154</td><td style = \"text-align: right;\">351.095</td><td style = \"text-align: right;\">332.646</td><td style = \"text-align: right;\">351.095</td><td style = \"text-align: right;\">152.646</td><td style = \"text-align: right;\">0.0</td><td style = \"text-align: right;\">0</td><td style = \"text-align: right;\">2</td><td style = \"text-align: right;\">11</td><td style = \"text-align: right;\">36.1797</td><td style = \"text-align: right;\">134.449</td><td style = \"text-align: right;\">273.931</td><td style = \"text-align: right;\">134.449</td><td style = \"text-align: right;\">93.9311</td><td style = \"text-align: right;\">0.0</td><td style = \"text-align: right;\">8.9054</td></tr><tr><td class = \"rowNumber\" style = \"font-weight: bold; text-align: right;\">986</td><td style = \"text-align: right;\">4</td><td style = \"text-align: right;\">-10</td><td style = \"text-align: right;\">3</td><td style = \"text-align: right;\">108.766</td><td style = \"text-align: right;\">26.6346</td><td style = \"text-align: right;\">358.566</td><td style = \"text-align: right;\">115.449</td><td style = \"text-align: right;\">358.566</td><td style = \"text-align: right;\">295.449</td><td style = \"text-align: right;\">0.0</td><td style = \"text-align: right;\">0</td><td style = \"text-align: right;\">2</td><td style = \"text-align: right;\">11</td><td style = \"text-align: right;\">36.1797</td><td style = \"text-align: right;\">134.449</td><td style = \"text-align: right;\">273.931</td><td style = \"text-align: right;\">134.449</td><td style = \"text-align: right;\">93.9311</td><td style = \"text-align: right;\">0.0</td><td style = \"text-align: right;\">1.4343</td></tr><tr><td class = \"rowNumber\" style = \"font-weight: bold; text-align: right;\">987</td><td style = \"text-align: right;\">3</td><td style = \"text-align: right;\">-10</td><td style = \"text-align: right;\">4</td><td style = \"text-align: right;\">108.766</td><td style = \"text-align: right;\">35.5709</td><td style = \"text-align: right;\">350.771</td><td style = \"text-align: right;\">115.59</td><td style = \"text-align: right;\">350.771</td><td style = \"text-align: right;\">295.59</td><td style = \"text-align: right;\">0.0</td><td style = \"text-align: right;\">0</td><td style = \"text-align: right;\">2</td><td style = \"text-align: right;\">11</td><td style = \"text-align: right;\">36.1797</td><td style = \"text-align: right;\">134.449</td><td style = \"text-align: right;\">273.931</td><td style = \"text-align: right;\">134.449</td><td style = \"text-align: right;\">93.9311</td><td style = \"text-align: right;\">0.0</td><td style = \"text-align: right;\">9.2288</td></tr><tr><td class = \"rowNumber\" style = \"font-weight: bold; text-align: right;\">988</td><td style = \"text-align: right;\">4</td><td style = \"text-align: right;\">10</td><td style = \"text-align: right;\">-3</td><td style = \"text-align: right;\">108.766</td><td style = \"text-align: right;\">40.9154</td><td style = \"text-align: right;\">351.095</td><td style = \"text-align: right;\">332.646</td><td style = \"text-align: right;\">351.095</td><td style = \"text-align: right;\">152.646</td><td style = \"text-align: right;\">0.0</td><td style = \"text-align: right;\">0</td><td style = \"text-align: right;\">2</td><td style = \"text-align: right;\">-11</td><td style = \"text-align: right;\">43.144</td><td style = \"text-align: right;\">160.103</td><td style = \"text-align: right;\">91.4509</td><td style = \"text-align: right;\">160.103</td><td style = \"text-align: right;\">271.451</td><td style = \"text-align: right;\">0.0</td><td style = \"text-align: right;\">8.9054</td></tr><tr><td class = \"rowNumber\" style = \"font-weight: bold; text-align: right;\">989</td><td style = \"text-align: right;\">4</td><td style = \"text-align: right;\">-10</td><td style = \"text-align: right;\">3</td><td style = \"text-align: right;\">108.766</td><td style = \"text-align: right;\">26.6346</td><td style = \"text-align: right;\">358.566</td><td style = \"text-align: right;\">115.449</td><td style = \"text-align: right;\">358.566</td><td style = \"text-align: right;\">295.449</td><td style = \"text-align: right;\">0.0</td><td style = \"text-align: right;\">0</td><td style = \"text-align: right;\">2</td><td style = \"text-align: right;\">-11</td><td style = \"text-align: right;\">43.144</td><td style = \"text-align: right;\">160.103</td><td style = \"text-align: right;\">91.4509</td><td style = \"text-align: right;\">160.103</td><td style = \"text-align: right;\">271.451</td><td style = \"text-align: right;\">0.0</td><td style = \"text-align: right;\">1.4343</td></tr><tr><td class = \"rowNumber\" style = \"font-weight: bold; text-align: right;\">990</td><td style = \"text-align: right;\">3</td><td style = \"text-align: right;\">-10</td><td style = \"text-align: right;\">4</td><td style = \"text-align: right;\">108.766</td><td style = \"text-align: right;\">35.5709</td><td style = \"text-align: right;\">350.771</td><td style = \"text-align: right;\">115.59</td><td style = \"text-align: right;\">350.771</td><td style = \"text-align: right;\">295.59</td><td style = \"text-align: right;\">0.0</td><td style = \"text-align: right;\">0</td><td style = \"text-align: right;\">2</td><td style = \"text-align: right;\">-11</td><td style = \"text-align: right;\">43.144</td><td style = \"text-align: right;\">160.103</td><td style = \"text-align: right;\">91.4509</td><td style = \"text-align: right;\">160.103</td><td style = \"text-align: right;\">271.451</td><td style = \"text-align: right;\">0.0</td><td style = \"text-align: right;\">9.2288</td></tr><tr><td class = \"rowNumber\" style = \"font-weight: bold; text-align: right;\">991</td><td style = \"text-align: right;\">5</td><td style = \"text-align: right;\">-9</td><td style = \"text-align: right;\">4</td><td style = \"text-align: right;\">106.857</td><td style = \"text-align: right;\">190.135</td><td style = \"text-align: right;\">350.074</td><td style = \"text-align: right;\">102.714</td><td style = \"text-align: right;\">350.074</td><td style = \"text-align: right;\">282.714</td><td style = \"text-align: right;\">0.0</td><td style = \"text-align: right;\">0</td><td style = \"text-align: right;\">1</td><td style = \"text-align: right;\">11</td><td style = \"text-align: right;\">27.3733</td><td style = \"text-align: right;\">142.109</td><td style = \"text-align: right;\">275.374</td><td style = \"text-align: right;\">142.109</td><td style = \"text-align: right;\">95.3739</td><td style = \"text-align: right;\">0.0</td><td style = \"text-align: right;\">9.9262</td></tr><tr><td class = \"rowNumber\" style = \"font-weight: bold; text-align: right;\">992</td><td style = \"text-align: right;\">5</td><td style = \"text-align: right;\">-9</td><td style = \"text-align: right;\">4</td><td style = \"text-align: right;\">106.857</td><td style = \"text-align: right;\">190.135</td><td style = \"text-align: right;\">350.074</td><td style = \"text-align: right;\">102.714</td><td style = \"text-align: right;\">350.074</td><td style = \"text-align: right;\">282.714</td><td style = \"text-align: right;\">0.0</td><td style = \"text-align: right;\">0</td><td style = \"text-align: right;\">1</td><td style = \"text-align: right;\">-11</td><td style = \"text-align: right;\">35.0241</td><td style = \"text-align: right;\">155.066</td><td style = \"text-align: right;\">94.0808</td><td style = \"text-align: right;\">155.066</td><td style = \"text-align: right;\">274.081</td><td style = \"text-align: right;\">0.0</td><td style = \"text-align: right;\">9.9262</td></tr><tr><td class = \"rowNumber\" style = \"font-weight: bold; text-align: right;\">993</td><td style = \"text-align: right;\">6</td><td style = \"text-align: right;\">9</td><td style = \"text-align: right;\">-2</td><td style = \"text-align: right;\">106.225</td><td style = \"text-align: right;\">30.4435</td><td style = \"text-align: right;\">353.491</td><td style = \"text-align: right;\">345.265</td><td style = \"text-align: right;\">353.491</td><td style = \"text-align: right;\">165.265</td><td style = \"text-align: right;\">0.0</td><td style = \"text-align: right;\">0</td><td style = \"text-align: right;\">0</td><td style = \"text-align: right;\">11</td><td style = \"text-align: right;\">26.6675</td><td style = \"text-align: right;\">149.05</td><td style = \"text-align: right;\">275.42</td><td style = \"text-align: right;\">149.05</td><td style = \"text-align: right;\">95.4198</td><td style = \"text-align: right;\">0.0</td><td style = \"text-align: right;\">6.5092</td></tr></tbody></table></div>"
      ],
      "text/latex": [
       "\\begin{tabular}{r|cccccccccc}\n",
       "\t& h\\_pos & k\\_pos & l\\_pos & tth & F\\_pos & phi\\_pos & omega\\_pos & phi\\_frid\\_pos & omega\\_frid\\_pos & \\\\\n",
       "\t\\hline\n",
       "\t& Int64 & Int64 & Int64 & Float64 & Float64 & Float64 & Float64 & Float64 & Float64 & \\\\\n",
       "\t\\hline\n",
       "\t1 & 10 & 1 & -5 & 109.407 & 373.703 & 92.6096 & 120.675 & 92.6096 & 300.675 & $\\dots$ \\\\\n",
       "\t2 & 10 & 1 & -5 & 109.407 & 373.703 & 301.496 & 348.733 & 301.496 & 168.733 & $\\dots$ \\\\\n",
       "\t3 & 10 & -1 & -5 & 109.407 & 372.315 & 82.2804 & 121.408 & 82.2804 & 301.408 & $\\dots$ \\\\\n",
       "\t4 & 10 & -1 & -5 & 109.407 & 372.315 & 290.218 & 348.0 & 290.218 & 168.0 & $\\dots$ \\\\\n",
       "\t5 & 9 & 6 & -3 & 109.407 & 298.339 & 118.137 & 114.017 & 118.137 & 294.017 & $\\dots$ \\\\\n",
       "\t6 & 9 & 3 & -6 & 109.407 & 228.827 & 108.902 & 129.348 & 108.902 & 309.348 & $\\dots$ \\\\\n",
       "\t7 & 9 & 3 & -6 & 109.407 & 228.827 & 306.931 & 340.059 & 306.931 & 160.059 & $\\dots$ \\\\\n",
       "\t8 & 9 & -3 & -6 & 109.407 & 212.226 & 78.5283 & 131.427 & 78.5283 & 311.427 & $\\dots$ \\\\\n",
       "\t9 & 9 & -3 & -6 & 109.407 & 212.226 & 274.053 & 337.98 & 274.053 & 157.98 & $\\dots$ \\\\\n",
       "\t10 & 9 & -6 & -3 & 109.407 & 241.912 & 50.4484 & 118.598 & 50.4484 & 298.598 & $\\dots$ \\\\\n",
       "\t11 & 9 & -6 & -3 & 109.407 & 241.912 & 262.061 & 350.81 & 262.061 & 170.81 & $\\dots$ \\\\\n",
       "\t12 & 6 & 9 & -3 & 109.407 & 246.341 & 147.121 & 127.634 & 147.121 & 307.634 & $\\dots$ \\\\\n",
       "\t13 & 6 & 9 & -3 & 109.407 & 246.341 & 347.238 & 341.773 & 347.238 & 161.773 & $\\dots$ \\\\\n",
       "\t14 & 6 & 3 & -9 & 109.407 & 307.043 & 125.613 & 156.096 & 125.613 & 336.096 & $\\dots$ \\\\\n",
       "\t15 & 6 & 3 & -9 & 109.407 & 307.043 & 292.333 & 313.311 & 292.333 & 133.311 & $\\dots$ \\\\\n",
       "\t16 & 6 & -3 & -9 & 109.407 & 309.792 & 95.3822 & 158.159 & 95.3822 & 338.159 & $\\dots$ \\\\\n",
       "\t17 & 6 & -3 & -9 & 109.407 & 309.792 & 259.644 & 311.248 & 259.644 & 131.249 & $\\dots$ \\\\\n",
       "\t18 & 6 & -9 & -3 & 109.407 & 260.673 & 41.2239 & 133.863 & 41.2239 & 313.863 & $\\dots$ \\\\\n",
       "\t19 & 6 & -9 & -3 & 109.407 & 260.673 & 233.849 & 335.544 & 233.849 & 155.544 & $\\dots$ \\\\\n",
       "\t20 & 5 & 10 & 1 & 109.407 & 383.104 & 157.244 & 113.022 & 157.244 & 293.022 & $\\dots$ \\\\\n",
       "\t21 & 5 & 10 & -1 & 109.407 & 325.073 & 156.482 & 122.788 & 156.482 & 302.788 & $\\dots$ \\\\\n",
       "\t22 & 5 & 10 & -1 & 109.407 & 325.073 & 2.6497 & 346.619 & 2.6497 & 166.619 & $\\dots$ \\\\\n",
       "\t23 & 5 & 1 & -10 & 109.407 & 410.631 & 121.734 & 166.011 & 121.734 & 346.011 & $\\dots$ \\\\\n",
       "\t24 & 5 & 1 & -10 & 109.407 & 410.631 & 276.339 & 303.397 & 276.339 & 123.397 & $\\dots$ \\\\\n",
       "\t25 & 5 & -1 & -10 & 109.407 & 379.363 & 111.487 & 166.733 & 111.487 & 346.733 & $\\dots$ \\\\\n",
       "\t26 & 5 & -1 & -10 & 109.407 & 379.363 & 265.174 & 302.674 & 265.174 & 122.674 & $\\dots$ \\\\\n",
       "\t27 & 5 & -10 & 1 & 109.407 & 312.384 & 13.4044 & 120.622 & 13.4044 & 300.622 & $\\dots$ \\\\\n",
       "\t28 & 5 & -10 & 1 & 109.407 & 312.384 & 222.359 & 348.785 & 222.359 & 168.785 & $\\dots$ \\\\\n",
       "\t29 & 5 & -10 & -1 & 109.407 & 367.721 & 26.5262 & 129.867 & 26.5262 & 309.867 & $\\dots$ \\\\\n",
       "\t30 & 5 & -10 & -1 & 109.407 & 367.721 & 223.927 & 339.54 & 223.927 & 159.54 & $\\dots$ \\\\\n",
       "\t$\\dots$ & $\\dots$ & $\\dots$ & $\\dots$ & $\\dots$ & $\\dots$ & $\\dots$ & $\\dots$ & $\\dots$ & $\\dots$ &  \\\\\n",
       "\\end{tabular}\n"
      ],
      "text/plain": [
       "\u001b[1m993×20 DataFrame\u001b[0m\n",
       "\u001b[1m Row \u001b[0m│\u001b[1m h_pos \u001b[0m\u001b[1m k_pos \u001b[0m\u001b[1m l_pos \u001b[0m\u001b[1m tth      \u001b[0m\u001b[1m F_pos    \u001b[0m\u001b[1m phi_pos  \u001b[0m\u001b[1m omega_pos \u001b[0m\u001b[1m phi_frid_\u001b[0m ⋯\n",
       "     │\u001b[90m Int64 \u001b[0m\u001b[90m Int64 \u001b[0m\u001b[90m Int64 \u001b[0m\u001b[90m Float64  \u001b[0m\u001b[90m Float64  \u001b[0m\u001b[90m Float64  \u001b[0m\u001b[90m Float64   \u001b[0m\u001b[90m Float64  \u001b[0m ⋯\n",
       "─────┼──────────────────────────────────────────────────────────────────────────\n",
       "   1 │    10      1     -5  109.407   373.703    92.6096   120.675        92.6 ⋯\n",
       "   2 │    10      1     -5  109.407   373.703   301.496    348.733       301.4\n",
       "   3 │    10     -1     -5  109.407   372.315    82.2804   121.408        82.2\n",
       "   4 │    10     -1     -5  109.407   372.315   290.218    348.0         290.2\n",
       "   5 │     9      6     -3  109.407   298.339   118.137    114.017       118.1 ⋯\n",
       "   6 │     9      3     -6  109.407   228.827   108.902    129.348       108.9\n",
       "   7 │     9      3     -6  109.407   228.827   306.931    340.059       306.9\n",
       "   8 │     9     -3     -6  109.407   212.226    78.5283   131.427        78.5\n",
       "   9 │     9     -3     -6  109.407   212.226   274.053    337.98        274.0 ⋯\n",
       "  10 │     9     -6     -3  109.407   241.912    50.4484   118.598        50.4\n",
       "  11 │     9     -6     -3  109.407   241.912   262.061    350.81        262.0\n",
       "  ⋮  │   ⋮      ⋮      ⋮       ⋮         ⋮         ⋮          ⋮           ⋮    ⋱\n",
       " 984 │     0     10     -3   98.7736   43.2422  354.584    308.895       354.5\n",
       " 985 │     4     10     -3  108.766    40.9154  351.095    332.646       351.0 ⋯\n",
       " 986 │     4    -10      3  108.766    26.6346  358.566    115.449       358.5\n",
       " 987 │     3    -10      4  108.766    35.5709  350.771    115.59        350.7\n",
       " 988 │     4     10     -3  108.766    40.9154  351.095    332.646       351.0\n",
       " 989 │     4    -10      3  108.766    26.6346  358.566    115.449       358.5 ⋯\n",
       " 990 │     3    -10      4  108.766    35.5709  350.771    115.59        350.7\n",
       " 991 │     5     -9      4  106.857   190.135   350.074    102.714       350.0\n",
       " 992 │     5     -9      4  106.857   190.135   350.074    102.714       350.0\n",
       " 993 │     6      9     -2  106.225    30.4435  353.491    345.265       353.4 ⋯\n",
       "\u001b[36m                                                 13 columns and 972 rows omitted\u001b[0m"
      ]
     },
     "execution_count": 110,
     "metadata": {},
     "output_type": "execute_result"
    }
   ],
   "source": [
    "eccentr = let data = frid\n",
    "    df = innerjoin(data[data.tth .> 0, :], DataFrames.transform(data, :tth => -, renamecols = false),\n",
    "        on = [:tth],\n",
    "        renamecols = \"_pos\" => \"_neg\"\n",
    "    )\n",
    "    dphi!(df)\n",
    "    subset(df, :dphi => ByRow(p -> p < 10))\n",
    "end"
   ]
  },
  {
   "cell_type": "code",
   "execution_count": 111,
   "id": "104e1411-3bdd-4ca7-b695-030f88a33e2d",
   "metadata": {
    "scrolled": true
   },
   "outputs": [
    {
     "data": {
      "text/html": [
       "<div><div style = \"float: left;\"><span>1052×16 DataFrame</span></div><div style = \"float: right;\"><span style = \"font-style: italic;\">1027 rows omitted</span></div><div style = \"clear: both;\"></div></div><div class = \"data-frame\" style = \"overflow-x: scroll;\"><table class = \"data-frame\" style = \"margin-bottom: 6px;\"><thead><tr class = \"header\"><th class = \"rowNumber\" style = \"font-weight: bold; text-align: right;\">Row</th><th style = \"text-align: left;\">h_pos</th><th style = \"text-align: left;\">k_pos</th><th style = \"text-align: left;\">l_pos</th><th style = \"text-align: left;\">tth</th><th style = \"text-align: left;\">F_pos</th><th style = \"text-align: left;\">phi_pos</th><th style = \"text-align: left;\">omega_pos</th><th style = \"text-align: left;\">omega_frid_pos</th><th style = \"text-align: left;\">h_neg</th><th style = \"text-align: left;\">k_neg</th><th style = \"text-align: left;\">l_neg</th><th style = \"text-align: left;\">F_neg</th><th style = \"text-align: left;\">phi_neg</th><th style = \"text-align: left;\">omega_neg</th><th style = \"text-align: left;\">omega_frid_neg</th><th style = \"text-align: left;\">dphi</th></tr><tr class = \"subheader headerLastRow\"><th class = \"rowNumber\" style = \"font-weight: bold; text-align: right;\"></th><th title = \"Int64\" style = \"text-align: left;\">Int64</th><th title = \"Int64\" style = \"text-align: left;\">Int64</th><th title = \"Int64\" style = \"text-align: left;\">Int64</th><th title = \"Float64\" style = \"text-align: left;\">Float64</th><th title = \"Float64\" style = \"text-align: left;\">Float64</th><th title = \"Float64\" style = \"text-align: left;\">Float64</th><th title = \"Float64\" style = \"text-align: left;\">Float64</th><th title = \"Float64\" style = \"text-align: left;\">Float64</th><th title = \"Int64\" style = \"text-align: left;\">Int64</th><th title = \"Int64\" style = \"text-align: left;\">Int64</th><th title = \"Int64\" style = \"text-align: left;\">Int64</th><th title = \"Float64\" style = \"text-align: left;\">Float64</th><th title = \"Float64\" style = \"text-align: left;\">Float64</th><th title = \"Float64\" style = \"text-align: left;\">Float64</th><th title = \"Float64\" style = \"text-align: left;\">Float64</th><th title = \"Float64\" style = \"text-align: left;\">Float64</th></tr></thead><tbody><tr><td class = \"rowNumber\" style = \"font-weight: bold; text-align: right;\">1</td><td style = \"text-align: right;\">6</td><td style = \"text-align: right;\">9</td><td style = \"text-align: right;\">-3</td><td style = \"text-align: right;\">109.407</td><td style = \"text-align: right;\">246.341</td><td style = \"text-align: right;\">347.238</td><td style = \"text-align: right;\">341.773</td><td style = \"text-align: right;\">161.773</td><td style = \"text-align: right;\">11</td><td style = \"text-align: right;\">2</td><td style = \"text-align: right;\">1</td><td style = \"text-align: right;\">225.784</td><td style = \"text-align: right;\">354.78</td><td style = \"text-align: right;\">286.576</td><td style = \"text-align: right;\">106.576</td><td style = \"text-align: right;\">7.5418</td></tr><tr><td class = \"rowNumber\" style = \"font-weight: bold; text-align: right;\">2</td><td style = \"text-align: right;\">5</td><td style = \"text-align: right;\">10</td><td style = \"text-align: right;\">-1</td><td style = \"text-align: right;\">109.407</td><td style = \"text-align: right;\">325.073</td><td style = \"text-align: right;\">2.6497</td><td style = \"text-align: right;\">346.619</td><td style = \"text-align: right;\">166.619</td><td style = \"text-align: right;\">11</td><td style = \"text-align: right;\">2</td><td style = \"text-align: right;\">1</td><td style = \"text-align: right;\">225.784</td><td style = \"text-align: right;\">354.78</td><td style = \"text-align: right;\">286.576</td><td style = \"text-align: right;\">106.576</td><td style = \"text-align: right;\">7.8695</td></tr><tr><td class = \"rowNumber\" style = \"font-weight: bold; text-align: right;\">3</td><td style = \"text-align: right;\">1</td><td style = \"text-align: right;\">11</td><td style = \"text-align: right;\">-2</td><td style = \"text-align: right;\">109.407</td><td style = \"text-align: right;\">225.235</td><td style = \"text-align: right;\">1.4593</td><td style = \"text-align: right;\">324.165</td><td style = \"text-align: right;\">144.165</td><td style = \"text-align: right;\">11</td><td style = \"text-align: right;\">2</td><td style = \"text-align: right;\">1</td><td style = \"text-align: right;\">225.784</td><td style = \"text-align: right;\">354.78</td><td style = \"text-align: right;\">286.576</td><td style = \"text-align: right;\">106.576</td><td style = \"text-align: right;\">6.6791</td></tr><tr><td class = \"rowNumber\" style = \"font-weight: bold; text-align: right;\">4</td><td style = \"text-align: right;\">1</td><td style = \"text-align: right;\">-11</td><td style = \"text-align: right;\">2</td><td style = \"text-align: right;\">109.407</td><td style = \"text-align: right;\">231.674</td><td style = \"text-align: right;\">3.3746</td><td style = \"text-align: right;\">135.168</td><td style = \"text-align: right;\">315.168</td><td style = \"text-align: right;\">11</td><td style = \"text-align: right;\">2</td><td style = \"text-align: right;\">1</td><td style = \"text-align: right;\">225.784</td><td style = \"text-align: right;\">354.78</td><td style = \"text-align: right;\">286.576</td><td style = \"text-align: right;\">106.576</td><td style = \"text-align: right;\">8.5944</td></tr><tr><td class = \"rowNumber\" style = \"font-weight: bold; text-align: right;\">5</td><td style = \"text-align: right;\">6</td><td style = \"text-align: right;\">8</td><td style = \"text-align: right;\">-5</td><td style = \"text-align: right;\">108.766</td><td style = \"text-align: right;\">44.0924</td><td style = \"text-align: right;\">332.902</td><td style = \"text-align: right;\">332.214</td><td style = \"text-align: right;\">152.214</td><td style = \"text-align: right;\">11</td><td style = \"text-align: right;\">2</td><td style = \"text-align: right;\">0</td><td style = \"text-align: right;\">45.4252</td><td style = \"text-align: right;\">340.49</td><td style = \"text-align: right;\">276.613</td><td style = \"text-align: right;\">96.6134</td><td style = \"text-align: right;\">7.588</td></tr><tr><td class = \"rowNumber\" style = \"font-weight: bold; text-align: right;\">6</td><td style = \"text-align: right;\">3</td><td style = \"text-align: right;\">10</td><td style = \"text-align: right;\">-4</td><td style = \"text-align: right;\">108.766</td><td style = \"text-align: right;\">35.9721</td><td style = \"text-align: right;\">346.017</td><td style = \"text-align: right;\">323.752</td><td style = \"text-align: right;\">143.752</td><td style = \"text-align: right;\">11</td><td style = \"text-align: right;\">2</td><td style = \"text-align: right;\">0</td><td style = \"text-align: right;\">45.4252</td><td style = \"text-align: right;\">340.49</td><td style = \"text-align: right;\">276.613</td><td style = \"text-align: right;\">96.6134</td><td style = \"text-align: right;\">5.5269</td></tr><tr><td class = \"rowNumber\" style = \"font-weight: bold; text-align: right;\">7</td><td style = \"text-align: right;\">0</td><td style = \"text-align: right;\">10</td><td style = \"text-align: right;\">-5</td><td style = \"text-align: right;\">108.766</td><td style = \"text-align: right;\">42.9973</td><td style = \"text-align: right;\">342.165</td><td style = \"text-align: right;\">305.561</td><td style = \"text-align: right;\">125.561</td><td style = \"text-align: right;\">11</td><td style = \"text-align: right;\">2</td><td style = \"text-align: right;\">0</td><td style = \"text-align: right;\">45.4252</td><td style = \"text-align: right;\">340.49</td><td style = \"text-align: right;\">276.613</td><td style = \"text-align: right;\">96.6134</td><td style = \"text-align: right;\">1.6744</td></tr><tr><td class = \"rowNumber\" style = \"font-weight: bold; text-align: right;\">8</td><td style = \"text-align: right;\">3</td><td style = \"text-align: right;\">9</td><td style = \"text-align: right;\">-6</td><td style = \"text-align: right;\">109.407</td><td style = \"text-align: right;\">297.451</td><td style = \"text-align: right;\">331.964</td><td style = \"text-align: right;\">314.985</td><td style = \"text-align: right;\">134.985</td><td style = \"text-align: right;\">11</td><td style = \"text-align: right;\">2</td><td style = \"text-align: right;\">-1</td><td style = \"text-align: right;\">163.66</td><td style = \"text-align: right;\">330.732</td><td style = \"text-align: right;\">267.964</td><td style = \"text-align: right;\">87.9636</td><td style = \"text-align: right;\">1.2323</td></tr><tr><td class = \"rowNumber\" style = \"font-weight: bold; text-align: right;\">9</td><td style = \"text-align: right;\">7</td><td style = \"text-align: right;\">8</td><td style = \"text-align: right;\">-3</td><td style = \"text-align: right;\">106.857</td><td style = \"text-align: right;\">247.93</td><td style = \"text-align: right;\">343.822</td><td style = \"text-align: right;\">345.252</td><td style = \"text-align: right;\">165.252</td><td style = \"text-align: right;\">11</td><td style = \"text-align: right;\">1</td><td style = \"text-align: right;\">0</td><td style = \"text-align: right;\">40.2575</td><td style = \"text-align: right;\">333.852</td><td style = \"text-align: right;\">278.132</td><td style = \"text-align: right;\">98.1324</td><td style = \"text-align: right;\">9.9697</td></tr><tr><td class = \"rowNumber\" style = \"font-weight: bold; text-align: right;\">10</td><td style = \"text-align: right;\">5</td><td style = \"text-align: right;\">9</td><td style = \"text-align: right;\">-4</td><td style = \"text-align: right;\">106.857</td><td style = \"text-align: right;\">197.469</td><td style = \"text-align: right;\">342.053</td><td style = \"text-align: right;\">331.574</td><td style = \"text-align: right;\">151.574</td><td style = \"text-align: right;\">11</td><td style = \"text-align: right;\">1</td><td style = \"text-align: right;\">0</td><td style = \"text-align: right;\">40.2575</td><td style = \"text-align: right;\">333.852</td><td style = \"text-align: right;\">278.132</td><td style = \"text-align: right;\">98.1324</td><td style = \"text-align: right;\">8.2011</td></tr><tr><td class = \"rowNumber\" style = \"font-weight: bold; text-align: right;\">11</td><td style = \"text-align: right;\">4</td><td style = \"text-align: right;\">9</td><td style = \"text-align: right;\">-5</td><td style = \"text-align: right;\">106.857</td><td style = \"text-align: right;\">294.745</td><td style = \"text-align: right;\">336.977</td><td style = \"text-align: right;\">322.573</td><td style = \"text-align: right;\">142.573</td><td style = \"text-align: right;\">11</td><td style = \"text-align: right;\">1</td><td style = \"text-align: right;\">0</td><td style = \"text-align: right;\">40.2575</td><td style = \"text-align: right;\">333.852</td><td style = \"text-align: right;\">278.132</td><td style = \"text-align: right;\">98.1324</td><td style = \"text-align: right;\">3.1249</td></tr><tr><td class = \"rowNumber\" style = \"font-weight: bold; text-align: right;\">12</td><td style = \"text-align: right;\">4</td><td style = \"text-align: right;\">-9</td><td style = \"text-align: right;\">5</td><td style = \"text-align: right;\">106.857</td><td style = \"text-align: right;\">313.522</td><td style = \"text-align: right;\">341.538</td><td style = \"text-align: right;\">102.879</td><td style = \"text-align: right;\">282.879</td><td style = \"text-align: right;\">11</td><td style = \"text-align: right;\">1</td><td style = \"text-align: right;\">0</td><td style = \"text-align: right;\">40.2575</td><td style = \"text-align: right;\">333.852</td><td style = \"text-align: right;\">278.132</td><td style = \"text-align: right;\">98.1324</td><td style = \"text-align: right;\">7.686</td></tr><tr><td class = \"rowNumber\" style = \"font-weight: bold; text-align: right;\">13</td><td style = \"text-align: right;\">7</td><td style = \"text-align: right;\">7</td><td style = \"text-align: right;\">-5</td><td style = \"text-align: right;\">107.491</td><td style = \"text-align: right;\">29.3964</td><td style = \"text-align: right;\">329.021</td><td style = \"text-align: right;\">335.897</td><td style = \"text-align: right;\">155.897</td><td style = \"text-align: right;\">11</td><td style = \"text-align: right;\">1</td><td style = \"text-align: right;\">-1</td><td style = \"text-align: right;\">32.3868</td><td style = \"text-align: right;\">324.387</td><td style = \"text-align: right;\">269.273</td><td style = \"text-align: right;\">89.2734</td><td style = \"text-align: right;\">4.6337</td></tr><tr><td style = \"text-align: right;\">&vellip;</td><td style = \"text-align: right;\">&vellip;</td><td style = \"text-align: right;\">&vellip;</td><td style = \"text-align: right;\">&vellip;</td><td style = \"text-align: right;\">&vellip;</td><td style = \"text-align: right;\">&vellip;</td><td style = \"text-align: right;\">&vellip;</td><td style = \"text-align: right;\">&vellip;</td><td style = \"text-align: right;\">&vellip;</td><td style = \"text-align: right;\">&vellip;</td><td style = \"text-align: right;\">&vellip;</td><td style = \"text-align: right;\">&vellip;</td><td style = \"text-align: right;\">&vellip;</td><td style = \"text-align: right;\">&vellip;</td><td style = \"text-align: right;\">&vellip;</td><td style = \"text-align: right;\">&vellip;</td><td style = \"text-align: right;\">&vellip;</td></tr><tr><td class = \"rowNumber\" style = \"font-weight: bold; text-align: right;\">1041</td><td style = \"text-align: right;\">6</td><td style = \"text-align: right;\">8</td><td style = \"text-align: right;\">-1</td><td style = \"text-align: right;\">93.8957</td><td style = \"text-align: right;\">29.2292</td><td style = \"text-align: right;\">142.522</td><td style = \"text-align: right;\">107.538</td><td style = \"text-align: right;\">287.538</td><td style = \"text-align: right;\">0</td><td style = \"text-align: right;\">1</td><td style = \"text-align: right;\">10</td><td style = \"text-align: right;\">26.0332</td><td style = \"text-align: right;\">141.37</td><td style = \"text-align: right;\">281.839</td><td style = \"text-align: right;\">101.839</td><td style = \"text-align: right;\">1.1516</td></tr><tr><td class = \"rowNumber\" style = \"font-weight: bold; text-align: right;\">1042</td><td style = \"text-align: right;\">6</td><td style = \"text-align: right;\">7</td><td style = \"text-align: right;\">-4</td><td style = \"text-align: right;\">93.8957</td><td style = \"text-align: right;\">44.6865</td><td style = \"text-align: right;\">139.361</td><td style = \"text-align: right;\">123.657</td><td style = \"text-align: right;\">303.657</td><td style = \"text-align: right;\">0</td><td style = \"text-align: right;\">1</td><td style = \"text-align: right;\">10</td><td style = \"text-align: right;\">26.0332</td><td style = \"text-align: right;\">141.37</td><td style = \"text-align: right;\">281.839</td><td style = \"text-align: right;\">101.839</td><td style = \"text-align: right;\">2.01</td></tr><tr><td class = \"rowNumber\" style = \"font-weight: bold; text-align: right;\">1043</td><td style = \"text-align: right;\">4</td><td style = \"text-align: right;\">9</td><td style = \"text-align: right;\">2</td><td style = \"text-align: right;\">93.8957</td><td style = \"text-align: right;\">32.6092</td><td style = \"text-align: right;\">161.682</td><td style = \"text-align: right;\">101.66</td><td style = \"text-align: right;\">281.66</td><td style = \"text-align: right;\">0</td><td style = \"text-align: right;\">1</td><td style = \"text-align: right;\">-10</td><td style = \"text-align: right;\">42.2661</td><td style = \"text-align: right;\">155.613</td><td style = \"text-align: right;\">100.421</td><td style = \"text-align: right;\">280.421</td><td style = \"text-align: right;\">6.0685</td></tr><tr><td class = \"rowNumber\" style = \"font-weight: bold; text-align: right;\">1044</td><td style = \"text-align: right;\">4</td><td style = \"text-align: right;\">9</td><td style = \"text-align: right;\">-2</td><td style = \"text-align: right;\">93.8957</td><td style = \"text-align: right;\">39.7948</td><td style = \"text-align: right;\">159.288</td><td style = \"text-align: right;\">123.168</td><td style = \"text-align: right;\">303.168</td><td style = \"text-align: right;\">0</td><td style = \"text-align: right;\">1</td><td style = \"text-align: right;\">-10</td><td style = \"text-align: right;\">42.2661</td><td style = \"text-align: right;\">155.613</td><td style = \"text-align: right;\">100.421</td><td style = \"text-align: right;\">280.421</td><td style = \"text-align: right;\">3.6745</td></tr><tr><td class = \"rowNumber\" style = \"font-weight: bold; text-align: right;\">1045</td><td style = \"text-align: right;\">5</td><td style = \"text-align: right;\">9</td><td style = \"text-align: right;\">-4</td><td style = \"text-align: right;\">106.857</td><td style = \"text-align: right;\">197.469</td><td style = \"text-align: right;\">152.6</td><td style = \"text-align: right;\">135.283</td><td style = \"text-align: right;\">315.283</td><td style = \"text-align: right;\">0</td><td style = \"text-align: right;\">1</td><td style = \"text-align: right;\">-11</td><td style = \"text-align: right;\">35.0241</td><td style = \"text-align: right;\">155.066</td><td style = \"text-align: right;\">94.0808</td><td style = \"text-align: right;\">274.081</td><td style = \"text-align: right;\">2.4663</td></tr><tr><td class = \"rowNumber\" style = \"font-weight: bold; text-align: right;\">1046</td><td style = \"text-align: right;\">4</td><td style = \"text-align: right;\">9</td><td style = \"text-align: right;\">-5</td><td style = \"text-align: right;\">106.857</td><td style = \"text-align: right;\">294.745</td><td style = \"text-align: right;\">157.966</td><td style = \"text-align: right;\">144.284</td><td style = \"text-align: right;\">324.284</td><td style = \"text-align: right;\">0</td><td style = \"text-align: right;\">1</td><td style = \"text-align: right;\">-11</td><td style = \"text-align: right;\">35.0241</td><td style = \"text-align: right;\">155.066</td><td style = \"text-align: right;\">94.0808</td><td style = \"text-align: right;\">274.081</td><td style = \"text-align: right;\">2.8998</td></tr><tr><td class = \"rowNumber\" style = \"font-weight: bold; text-align: right;\">1047</td><td style = \"text-align: right;\">3</td><td style = \"text-align: right;\">8</td><td style = \"text-align: right;\">-7</td><td style = \"text-align: right;\">106.857</td><td style = \"text-align: right;\">274.35</td><td style = \"text-align: right;\">160.214</td><td style = \"text-align: right;\">158.186</td><td style = \"text-align: right;\">338.186</td><td style = \"text-align: right;\">0</td><td style = \"text-align: right;\">1</td><td style = \"text-align: right;\">-11</td><td style = \"text-align: right;\">35.0241</td><td style = \"text-align: right;\">155.066</td><td style = \"text-align: right;\">94.0808</td><td style = \"text-align: right;\">274.081</td><td style = \"text-align: right;\">5.1486</td></tr><tr><td class = \"rowNumber\" style = \"font-weight: bold; text-align: right;\">1048</td><td style = \"text-align: right;\">3</td><td style = \"text-align: right;\">7</td><td style = \"text-align: right;\">-8</td><td style = \"text-align: right;\">106.857</td><td style = \"text-align: right;\">319.665</td><td style = \"text-align: right;\">156.94</td><td style = \"text-align: right;\">163.178</td><td style = \"text-align: right;\">343.178</td><td style = \"text-align: right;\">0</td><td style = \"text-align: right;\">1</td><td style = \"text-align: right;\">-11</td><td style = \"text-align: right;\">35.0241</td><td style = \"text-align: right;\">155.066</td><td style = \"text-align: right;\">94.0808</td><td style = \"text-align: right;\">274.081</td><td style = \"text-align: right;\">1.8741</td></tr><tr><td class = \"rowNumber\" style = \"font-weight: bold; text-align: right;\">1049</td><td style = \"text-align: right;\">6</td><td style = \"text-align: right;\">9</td><td style = \"text-align: right;\">2</td><td style = \"text-align: right;\">106.225</td><td style = \"text-align: right;\">41.594</td><td style = \"text-align: right;\">146.482</td><td style = \"text-align: right;\">99.7012</td><td style = \"text-align: right;\">279.701</td><td style = \"text-align: right;\">0</td><td style = \"text-align: right;\">0</td><td style = \"text-align: right;\">11</td><td style = \"text-align: right;\">26.6675</td><td style = \"text-align: right;\">149.05</td><td style = \"text-align: right;\">275.42</td><td style = \"text-align: right;\">95.4198</td><td style = \"text-align: right;\">2.5677</td></tr><tr><td class = \"rowNumber\" style = \"font-weight: bold; text-align: right;\">1050</td><td style = \"text-align: right;\">6</td><td style = \"text-align: right;\">9</td><td style = \"text-align: right;\">-2</td><td style = \"text-align: right;\">106.225</td><td style = \"text-align: right;\">30.4435</td><td style = \"text-align: right;\">147.02</td><td style = \"text-align: right;\">120.96</td><td style = \"text-align: right;\">300.96</td><td style = \"text-align: right;\">0</td><td style = \"text-align: right;\">0</td><td style = \"text-align: right;\">11</td><td style = \"text-align: right;\">26.6675</td><td style = \"text-align: right;\">149.05</td><td style = \"text-align: right;\">275.42</td><td style = \"text-align: right;\">95.4198</td><td style = \"text-align: right;\">2.0299</td></tr><tr><td class = \"rowNumber\" style = \"font-weight: bold; text-align: right;\">1051</td><td style = \"text-align: right;\">6</td><td style = \"text-align: right;\">7</td><td style = \"text-align: right;\">-6</td><td style = \"text-align: right;\">106.225</td><td style = \"text-align: right;\">40.9214</td><td style = \"text-align: right;\">140.351</td><td style = \"text-align: right;\">139.962</td><td style = \"text-align: right;\">319.962</td><td style = \"text-align: right;\">0</td><td style = \"text-align: right;\">0</td><td style = \"text-align: right;\">11</td><td style = \"text-align: right;\">26.6675</td><td style = \"text-align: right;\">149.05</td><td style = \"text-align: right;\">275.42</td><td style = \"text-align: right;\">95.4198</td><td style = \"text-align: right;\">8.6994</td></tr><tr><td class = \"rowNumber\" style = \"font-weight: bold; text-align: right;\">1052</td><td style = \"text-align: right;\">6</td><td style = \"text-align: right;\">8</td><td style = \"text-align: right;\">0</td><td style = \"text-align: right;\">93.2887</td><td style = \"text-align: right;\">209.452</td><td style = \"text-align: right;\">142.083</td><td style = \"text-align: right;\">101.279</td><td style = \"text-align: right;\">281.279</td><td style = \"text-align: right;\">0</td><td style = \"text-align: right;\">0</td><td style = \"text-align: right;\">10</td><td style = \"text-align: right;\">417.038</td><td style = \"text-align: right;\">149.05</td><td style = \"text-align: right;\">281.888</td><td style = \"text-align: right;\">101.888</td><td style = \"text-align: right;\">6.9668</td></tr></tbody></table></div>"
      ],
      "text/latex": [
       "\\begin{tabular}{r|cccccccccc}\n",
       "\t& h\\_pos & k\\_pos & l\\_pos & tth & F\\_pos & phi\\_pos & omega\\_pos & omega\\_frid\\_pos & h\\_neg & \\\\\n",
       "\t\\hline\n",
       "\t& Int64 & Int64 & Int64 & Float64 & Float64 & Float64 & Float64 & Float64 & Int64 & \\\\\n",
       "\t\\hline\n",
       "\t1 & 6 & 9 & -3 & 109.407 & 246.341 & 347.238 & 341.773 & 161.773 & 11 & $\\dots$ \\\\\n",
       "\t2 & 5 & 10 & -1 & 109.407 & 325.073 & 2.6497 & 346.619 & 166.619 & 11 & $\\dots$ \\\\\n",
       "\t3 & 1 & 11 & -2 & 109.407 & 225.235 & 1.4593 & 324.165 & 144.165 & 11 & $\\dots$ \\\\\n",
       "\t4 & 1 & -11 & 2 & 109.407 & 231.674 & 3.3746 & 135.168 & 315.168 & 11 & $\\dots$ \\\\\n",
       "\t5 & 6 & 8 & -5 & 108.766 & 44.0924 & 332.902 & 332.214 & 152.214 & 11 & $\\dots$ \\\\\n",
       "\t6 & 3 & 10 & -4 & 108.766 & 35.9721 & 346.017 & 323.752 & 143.752 & 11 & $\\dots$ \\\\\n",
       "\t7 & 0 & 10 & -5 & 108.766 & 42.9973 & 342.165 & 305.561 & 125.561 & 11 & $\\dots$ \\\\\n",
       "\t8 & 3 & 9 & -6 & 109.407 & 297.451 & 331.964 & 314.985 & 134.985 & 11 & $\\dots$ \\\\\n",
       "\t9 & 7 & 8 & -3 & 106.857 & 247.93 & 343.822 & 345.252 & 165.252 & 11 & $\\dots$ \\\\\n",
       "\t10 & 5 & 9 & -4 & 106.857 & 197.469 & 342.053 & 331.574 & 151.574 & 11 & $\\dots$ \\\\\n",
       "\t11 & 4 & 9 & -5 & 106.857 & 294.745 & 336.977 & 322.573 & 142.573 & 11 & $\\dots$ \\\\\n",
       "\t12 & 4 & -9 & 5 & 106.857 & 313.522 & 341.538 & 102.879 & 282.879 & 11 & $\\dots$ \\\\\n",
       "\t13 & 7 & 7 & -5 & 107.491 & 29.3964 & 329.021 & 335.897 & 155.897 & 11 & $\\dots$ \\\\\n",
       "\t14 & 5 & 7 & -7 & 107.491 & 35.9646 & 319.039 & 317.922 & 137.922 & 11 & $\\dots$ \\\\\n",
       "\t15 & 7 & 8 & -3 & 106.857 & 247.93 & 343.822 & 345.252 & 165.252 & 11 & $\\dots$ \\\\\n",
       "\t16 & 5 & 9 & -4 & 106.857 & 197.469 & 342.053 & 331.574 & 151.574 & 11 & $\\dots$ \\\\\n",
       "\t17 & 4 & 9 & -5 & 106.857 & 294.745 & 336.977 & 322.573 & 142.573 & 11 & $\\dots$ \\\\\n",
       "\t18 & 4 & -9 & 5 & 106.857 & 313.522 & 341.538 & 102.879 & 282.879 & 11 & $\\dots$ \\\\\n",
       "\t19 & 7 & 6 & -6 & 106.225 & 44.4043 & 319.931 & 330.507 & 150.507 & 11 & $\\dots$ \\\\\n",
       "\t20 & 6 & 7 & -6 & 106.225 & 40.9214 & 323.993 & 326.263 & 146.263 & 11 & $\\dots$ \\\\\n",
       "\t21 & 2 & 9 & -6 & 106.225 & 26.7544 & 332.215 & 308.518 & 128.518 & 11 & $\\dots$ \\\\\n",
       "\t22 & 2 & -9 & 6 & 106.225 & 36.2469 & 333.453 & 108.301 & 288.301 & 11 & $\\dots$ \\\\\n",
       "\t23 & 9 & 4 & -5 & 106.857 & 183.482 & 316.237 & 344.056 & 164.056 & 11 & $\\dots$ \\\\\n",
       "\t24 & 3 & 8 & -7 & 106.857 & 274.35 & 322.909 & 308.671 & 128.671 & 11 & $\\dots$ \\\\\n",
       "\t25 & 3 & 7 & -8 & 106.857 & 319.665 & 313.506 & 303.68 & 123.68 & 11 & $\\dots$ \\\\\n",
       "\t26 & 8 & 5 & -6 & 108.766 & 29.9954 & 315.837 & 335.873 & 155.873 & 11 & $\\dots$ \\\\\n",
       "\t27 & 6 & 5 & -8 & 108.766 & 36.6282 & 306.082 & 318.052 & 138.052 & 11 & $\\dots$ \\\\\n",
       "\t28 & 5 & 6 & -8 & 108.766 & 45.6492 & 310.061 & 313.849 & 133.849 & 11 & $\\dots$ \\\\\n",
       "\t29 & 7 & 7 & -5 & 107.491 & 29.3964 & 329.021 & 335.897 & 155.897 & 11 & $\\dots$ \\\\\n",
       "\t30 & 5 & 7 & -7 & 107.491 & 35.9646 & 319.039 & 317.922 & 137.922 & 11 & $\\dots$ \\\\\n",
       "\t$\\dots$ & $\\dots$ & $\\dots$ & $\\dots$ & $\\dots$ & $\\dots$ & $\\dots$ & $\\dots$ & $\\dots$ & $\\dots$ &  \\\\\n",
       "\\end{tabular}\n"
      ],
      "text/plain": [
       "\u001b[1m1052×16 DataFrame\u001b[0m\n",
       "\u001b[1m  Row \u001b[0m│\u001b[1m h_pos \u001b[0m\u001b[1m k_pos \u001b[0m\u001b[1m l_pos \u001b[0m\u001b[1m tth      \u001b[0m\u001b[1m F_pos    \u001b[0m\u001b[1m phi_pos  \u001b[0m\u001b[1m omega_pos \u001b[0m\u001b[1m omega_fr\u001b[0m ⋯\n",
       "      │\u001b[90m Int64 \u001b[0m\u001b[90m Int64 \u001b[0m\u001b[90m Int64 \u001b[0m\u001b[90m Float64  \u001b[0m\u001b[90m Float64  \u001b[0m\u001b[90m Float64  \u001b[0m\u001b[90m Float64   \u001b[0m\u001b[90m Float64 \u001b[0m ⋯\n",
       "──────┼─────────────────────────────────────────────────────────────────────────\n",
       "    1 │     6      9     -3  109.407   246.341   347.238    341.773          1 ⋯\n",
       "    2 │     5     10     -1  109.407   325.073     2.6497   346.619          1\n",
       "    3 │     1     11     -2  109.407   225.235     1.4593   324.165          1\n",
       "    4 │     1    -11      2  109.407   231.674     3.3746   135.168          3\n",
       "    5 │     6      8     -5  108.766    44.0924  332.902    332.214          1 ⋯\n",
       "    6 │     3     10     -4  108.766    35.9721  346.017    323.752          1\n",
       "    7 │     0     10     -5  108.766    42.9973  342.165    305.561          1\n",
       "    8 │     3      9     -6  109.407   297.451   331.964    314.985          1\n",
       "    9 │     7      8     -3  106.857   247.93    343.822    345.252          1 ⋯\n",
       "   10 │     5      9     -4  106.857   197.469   342.053    331.574          1\n",
       "   11 │     4      9     -5  106.857   294.745   336.977    322.573          1\n",
       "  ⋮   │   ⋮      ⋮      ⋮       ⋮         ⋮         ⋮          ⋮            ⋮  ⋱\n",
       " 1043 │     4      9      2   93.8957   32.6092  161.682    101.66           2\n",
       " 1044 │     4      9     -2   93.8957   39.7948  159.288    123.168          3 ⋯\n",
       " 1045 │     5      9     -4  106.857   197.469   152.6      135.283          3\n",
       " 1046 │     4      9     -5  106.857   294.745   157.966    144.284          3\n",
       " 1047 │     3      8     -7  106.857   274.35    160.214    158.186          3\n",
       " 1048 │     3      7     -8  106.857   319.665   156.94     163.178          3 ⋯\n",
       " 1049 │     6      9      2  106.225    41.594   146.482     99.7012         2\n",
       " 1050 │     6      9     -2  106.225    30.4435  147.02     120.96           3\n",
       " 1051 │     6      7     -6  106.225    40.9214  140.351    139.962          3\n",
       " 1052 │     6      8      0   93.2887  209.452   142.083    101.279          2 ⋯\n",
       "\u001b[36m                                                 9 columns and 1031 rows omitted\u001b[0m"
      ]
     },
     "execution_count": 111,
     "metadata": {},
     "output_type": "execute_result"
    }
   ],
   "source": [
    "eccentr_ideal = let data = frid_ideal\n",
    "    df = innerjoin(data[data.tth .> 0, :], DataFrames.transform(data, :tth => -, renamecols = false),\n",
    "        on = [:tth],\n",
    "        renamecols = \"_pos\" => \"_neg\"\n",
    "    )\n",
    "    dphi!(df)\n",
    "    subset(df, :dphi => ByRow(p -> p < 10))\n",
    "end"
   ]
  },
  {
   "cell_type": "code",
   "execution_count": 112,
   "id": "32fd4e59-d058-40a3-832c-f32210845f1e",
   "metadata": {},
   "outputs": [
    {
     "data": {
      "text/html": [
       "<div><div style = \"float: left;\"><span>0×14 DataFrame</span></div><div style = \"clear: both;\"></div></div><div class = \"data-frame\" style = \"overflow-x: scroll;\"><table class = \"data-frame\" style = \"margin-bottom: 6px;\"><thead><tr class = \"header\"><th class = \"rowNumber\" style = \"font-weight: bold; text-align: right;\">Row</th><th style = \"text-align: left;\">h_pos</th><th style = \"text-align: left;\">k_pos</th><th style = \"text-align: left;\">l_pos</th><th style = \"text-align: left;\">tth</th><th style = \"text-align: left;\">F_pos</th><th style = \"text-align: left;\">phi</th><th style = \"text-align: left;\">omega_pos</th><th style = \"text-align: left;\">omega_frid_pos</th><th style = \"text-align: left;\">h_neg</th><th style = \"text-align: left;\">k_neg</th><th style = \"text-align: left;\">l_neg</th><th style = \"text-align: left;\">F_neg</th><th style = \"text-align: left;\">omega_neg</th><th style = \"text-align: left;\">omega_frid_neg</th></tr><tr class = \"subheader headerLastRow\"><th class = \"rowNumber\" style = \"font-weight: bold; text-align: right;\"></th><th title = \"Int64\" style = \"text-align: left;\">Int64</th><th title = \"Int64\" style = \"text-align: left;\">Int64</th><th title = \"Int64\" style = \"text-align: left;\">Int64</th><th title = \"Float64\" style = \"text-align: left;\">Float64</th><th title = \"Float64\" style = \"text-align: left;\">Float64</th><th title = \"Float64\" style = \"text-align: left;\">Float64</th><th title = \"Float64\" style = \"text-align: left;\">Float64</th><th title = \"Float64\" style = \"text-align: left;\">Float64</th><th title = \"Int64\" style = \"text-align: left;\">Int64</th><th title = \"Int64\" style = \"text-align: left;\">Int64</th><th title = \"Int64\" style = \"text-align: left;\">Int64</th><th title = \"Float64\" style = \"text-align: left;\">Float64</th><th title = \"Float64\" style = \"text-align: left;\">Float64</th><th title = \"Float64\" style = \"text-align: left;\">Float64</th></tr></thead><tbody></tbody></table></div>"
      ],
      "text/latex": [
       "\\begin{tabular}{r|cccccccccc}\n",
       "\t& h\\_pos & k\\_pos & l\\_pos & tth & F\\_pos & phi & omega\\_pos & omega\\_frid\\_pos & h\\_neg & \\\\\n",
       "\t\\hline\n",
       "\t& Int64 & Int64 & Int64 & Float64 & Float64 & Float64 & Float64 & Float64 & Int64 & \\\\\n",
       "\t\\hline\n",
       "\\end{tabular}\n"
      ],
      "text/plain": [
       "\u001b[1m0×14 DataFrame\u001b[0m\n",
       "\u001b[1m Row \u001b[0m│\u001b[1m h_pos \u001b[0m\u001b[1m k_pos \u001b[0m\u001b[1m l_pos \u001b[0m\u001b[1m tth     \u001b[0m\u001b[1m F_pos   \u001b[0m\u001b[1m phi     \u001b[0m\u001b[1m omega_pos \u001b[0m\u001b[1m omega_frid_p\u001b[0m ⋯\n",
       "     │\u001b[90m Int64 \u001b[0m\u001b[90m Int64 \u001b[0m\u001b[90m Int64 \u001b[0m\u001b[90m Float64 \u001b[0m\u001b[90m Float64 \u001b[0m\u001b[90m Float64 \u001b[0m\u001b[90m Float64   \u001b[0m\u001b[90m Float64     \u001b[0m ⋯\n",
       "─────┴──────────────────────────────────────────────────────────────────────────\n",
       "\u001b[36m                                                               7 columns omitted\u001b[0m"
      ]
     },
     "execution_count": 112,
     "metadata": {},
     "output_type": "execute_result"
    }
   ],
   "source": [
    "eccentr_perfect = innerjoin(frid_ideal[frid_ideal.tth .> 0, :], DataFrames.transform(frid_ideal, :tth => -, renamecols = false),\n",
    "    on = [:tth, :phi],\n",
    "    renamecols = \"_pos\" => \"_neg\"\n",
    ")"
   ]
  },
  {
   "cell_type": "code",
   "execution_count": 113,
   "id": "98795339-9695-4b2b-8145-58ea866fa997",
   "metadata": {},
   "outputs": [],
   "source": [
    "XLSX.openxlsx(\"YEu_AM-17-22_suppose.xlsx\", mode=\"w\") do xf\n",
    "    sheet = xf[1]\n",
    "    XLSX.rename!(sheet, \"angles\")\n",
    "    XLSX.writetable!(xf[1], angles)\n",
    "    sheet = XLSX.addsheet!(xf, \"bond\")\n",
    "    XLSX.writetable!(sheet, bond)\n",
    "    sheet = XLSX.addsheet!(xf, \"frid\")\n",
    "    XLSX.writetable!(sheet, frid)\n",
    "    sheet = XLSX.addsheet!(xf, \"frid_ideal\")\n",
    "    XLSX.writetable!(sheet, frid_ideal)\n",
    "    sheet = XLSX.addsheet!(xf, \"eccentr\")\n",
    "    XLSX.writetable!(sheet, eccentr)\n",
    "    sheet = XLSX.addsheet!(xf, \"eccentr_ideal\")\n",
    "    XLSX.writetable!(sheet, eccentr_ideal)\n",
    "    sheet = XLSX.addsheet!(xf, \"eccentr_perfect\")\n",
    "    XLSX.writetable!(sheet, eccentr_perfect)\n",
    "end"
   ]
  },
  {
   "cell_type": "code",
   "execution_count": null,
   "id": "d43cdb08-f34b-4c30-aa53-a5486e61f0d4",
   "metadata": {},
   "outputs": [],
   "source": [
    "function peak_coords((h, k, l), (tth, phi, omega);\n",
    "        distance = 96.319,\n",
    "        center = (387, 505),\n",
    "        px = 0.1353,\n",
    "        detector = Detector([0, -px, 0], [0, 0, px], [distance, center[1] * px, -center[2] * px]),\n",
    ")\n",
    "    tth, omega, phi = deg2rad.((tth, omega, phi))\n",
    "    k = [E, 0, 0] + omega_ax(omega) * phi_ax(phi) * UB * [h, k, l]\n",
    "    @show hypot(k...) - E\n",
    "    detector = tth_ax(tth) * detector\n",
    "    intersect_coord(detector, XRay(k))\n",
    "end"
   ]
  },
  {
   "cell_type": "code",
   "execution_count": null,
   "id": "289920fc-f934-4eb5-bf3b-6cb7c5b71182",
   "metadata": {},
   "outputs": [],
   "source": [
    "peak_coords((2, 4, -10), (-80, 168.6-0.47, 70.84+180)) + Vec2d(0, 4.9)"
   ]
  },
  {
   "cell_type": "code",
   "execution_count": null,
   "id": "d9d0893e-41c3-4351-a086-60c4a63219f8",
   "metadata": {},
   "outputs": [],
   "source": []
  }
 ],
 "metadata": {
  "kernelspec": {
   "display_name": "Julia 1.11.5",
   "language": "julia",
   "name": "julia-1.11"
  },
  "language_info": {
   "file_extension": ".jl",
   "mimetype": "application/julia",
   "name": "julia",
   "version": "1.11.5"
  }
 },
 "nbformat": 4,
 "nbformat_minor": 5
}
